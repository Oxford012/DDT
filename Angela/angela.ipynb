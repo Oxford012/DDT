{
 "cells": [
  {
   "attachments": {},
   "cell_type": "markdown",
   "metadata": {},
   "source": [
    "## Cleaning `Bluebikes` Dataset"
   ]
  },
  {
   "attachments": {},
   "cell_type": "markdown",
   "metadata": {},
   "source": [
    "## Data preparation"
   ]
  },
  {
   "attachments": {},
   "cell_type": "markdown",
   "metadata": {},
   "source": [
    "Import necessary packages"
   ]
  },
  {
   "cell_type": "code",
   "execution_count": 2,
   "metadata": {},
   "outputs": [],
   "source": [
    "import pandas as pd\n",
    "import numpy as np"
   ]
  },
  {
   "attachments": {},
   "cell_type": "markdown",
   "metadata": {},
   "source": [
    "Initialise Bluebikes Dataset"
   ]
  },
  {
   "cell_type": "code",
   "execution_count": 5,
   "metadata": {},
   "outputs": [
    {
     "data": {
      "text/html": [
       "<div>\n",
       "<style scoped>\n",
       "    .dataframe tbody tr th:only-of-type {\n",
       "        vertical-align: middle;\n",
       "    }\n",
       "\n",
       "    .dataframe tbody tr th {\n",
       "        vertical-align: top;\n",
       "    }\n",
       "\n",
       "    .dataframe thead th {\n",
       "        text-align: right;\n",
       "    }\n",
       "</style>\n",
       "<table border=\"1\" class=\"dataframe\">\n",
       "  <thead>\n",
       "    <tr style=\"text-align: right;\">\n",
       "      <th></th>\n",
       "      <th>start_time</th>\n",
       "      <th>end_time</th>\n",
       "      <th>start_station_id</th>\n",
       "      <th>start_station_lat</th>\n",
       "      <th>start_station_lon</th>\n",
       "      <th>end_station_id</th>\n",
       "      <th>end_station_lat</th>\n",
       "      <th>end_station_lon</th>\n",
       "      <th>bike_id</th>\n",
       "    </tr>\n",
       "    <tr>\n",
       "      <th>index</th>\n",
       "      <th></th>\n",
       "      <th></th>\n",
       "      <th></th>\n",
       "      <th></th>\n",
       "      <th></th>\n",
       "      <th></th>\n",
       "      <th></th>\n",
       "      <th></th>\n",
       "      <th></th>\n",
       "    </tr>\n",
       "  </thead>\n",
       "  <tbody>\n",
       "    <tr>\n",
       "      <th>0</th>\n",
       "      <td>2018-08-28 07:01:05</td>\n",
       "      <td>2018-08-28 07:06:57</td>\n",
       "      <td>137</td>\n",
       "      <td>42.398365</td>\n",
       "      <td>-71.107818</td>\n",
       "      <td>220</td>\n",
       "      <td>42.396384</td>\n",
       "      <td>-71.120105</td>\n",
       "      <td>3296</td>\n",
       "    </tr>\n",
       "    <tr>\n",
       "      <th>1</th>\n",
       "      <td>2018-04-11 18:21:53</td>\n",
       "      <td>2018-04-11 18:35:06</td>\n",
       "      <td>122</td>\n",
       "      <td>42.345733</td>\n",
       "      <td>-71.100694</td>\n",
       "      <td>179</td>\n",
       "      <td>42.355601</td>\n",
       "      <td>-71.103945</td>\n",
       "      <td>1766</td>\n",
       "    </tr>\n",
       "    <tr>\n",
       "      <th>2</th>\n",
       "      <td>2018-11-28 17:08:21</td>\n",
       "      <td>2018-11-28 17:22:44</td>\n",
       "      <td>22</td>\n",
       "      <td>42.352175</td>\n",
       "      <td>-71.055547</td>\n",
       "      <td>98</td>\n",
       "      <td>42.371848</td>\n",
       "      <td>-71.060292</td>\n",
       "      <td>2585</td>\n",
       "    </tr>\n",
       "    <tr>\n",
       "      <th>3</th>\n",
       "      <td>2018-05-29 08:13:13</td>\n",
       "      <td>2018-05-29 08:23:12</td>\n",
       "      <td>88</td>\n",
       "      <td>42.374035</td>\n",
       "      <td>-71.101427</td>\n",
       "      <td>107</td>\n",
       "      <td>42.362500</td>\n",
       "      <td>-71.088220</td>\n",
       "      <td>2768</td>\n",
       "    </tr>\n",
       "    <tr>\n",
       "      <th>4</th>\n",
       "      <td>2018-07-13 06:26:24</td>\n",
       "      <td>2018-07-13 06:34:04</td>\n",
       "      <td>47</td>\n",
       "      <td>42.362811</td>\n",
       "      <td>-71.056067</td>\n",
       "      <td>64</td>\n",
       "      <td>42.351004</td>\n",
       "      <td>-71.049300</td>\n",
       "      <td>1002</td>\n",
       "    </tr>\n",
       "  </tbody>\n",
       "</table>\n",
       "</div>"
      ],
      "text/plain": [
       "                start_time             end_time  start_station_id  \\\n",
       "index                                                               \n",
       "0      2018-08-28 07:01:05  2018-08-28 07:06:57               137   \n",
       "1      2018-04-11 18:21:53  2018-04-11 18:35:06               122   \n",
       "2      2018-11-28 17:08:21  2018-11-28 17:22:44                22   \n",
       "3      2018-05-29 08:13:13  2018-05-29 08:23:12                88   \n",
       "4      2018-07-13 06:26:24  2018-07-13 06:34:04                47   \n",
       "\n",
       "       start_station_lat  start_station_lon  end_station_id  end_station_lat  \\\n",
       "index                                                                          \n",
       "0              42.398365         -71.107818             220        42.396384   \n",
       "1              42.345733         -71.100694             179        42.355601   \n",
       "2              42.352175         -71.055547              98        42.371848   \n",
       "3              42.374035         -71.101427             107        42.362500   \n",
       "4              42.362811         -71.056067              64        42.351004   \n",
       "\n",
       "       end_station_lon  bike_id  \n",
       "index                            \n",
       "0           -71.120105     3296  \n",
       "1           -71.103945     1766  \n",
       "2           -71.060292     2585  \n",
       "3           -71.088220     2768  \n",
       "4           -71.049300     1002  "
      ]
     },
     "execution_count": 5,
     "metadata": {},
     "output_type": "execute_result"
    }
   ],
   "source": [
    "bluebikes = pd.read_csv(\"bluebikes_2017_2018.csv\", index_col=\"index\")\n",
    "bluebikes.head()"
   ]
  },
  {
   "cell_type": "code",
   "execution_count": 6,
   "metadata": {},
   "outputs": [
    {
     "name": "stdout",
     "output_type": "stream",
     "text": [
      "<class 'pandas.core.frame.DataFrame'>\n",
      "Int64Index: 3081600 entries, 0 to 3081599\n",
      "Data columns (total 9 columns):\n",
      " #   Column             Dtype  \n",
      "---  ------             -----  \n",
      " 0   start_time         object \n",
      " 1   end_time           object \n",
      " 2   start_station_id   int64  \n",
      " 3   start_station_lat  float64\n",
      " 4   start_station_lon  float64\n",
      " 5   end_station_id     int64  \n",
      " 6   end_station_lat    float64\n",
      " 7   end_station_lon    float64\n",
      " 8   bike_id            int64  \n",
      "dtypes: float64(4), int64(3), object(2)\n",
      "memory usage: 235.1+ MB\n"
     ]
    }
   ],
   "source": [
    "bluebikes.info()"
   ]
  },
  {
   "cell_type": "code",
   "execution_count": 7,
   "metadata": {},
   "outputs": [
    {
     "data": {
      "text/html": [
       "<div>\n",
       "<style scoped>\n",
       "    .dataframe tbody tr th:only-of-type {\n",
       "        vertical-align: middle;\n",
       "    }\n",
       "\n",
       "    .dataframe tbody tr th {\n",
       "        vertical-align: top;\n",
       "    }\n",
       "\n",
       "    .dataframe thead th {\n",
       "        text-align: right;\n",
       "    }\n",
       "</style>\n",
       "<table border=\"1\" class=\"dataframe\">\n",
       "  <thead>\n",
       "    <tr style=\"text-align: right;\">\n",
       "      <th></th>\n",
       "      <th>start_station_id</th>\n",
       "      <th>start_station_lat</th>\n",
       "      <th>start_station_lon</th>\n",
       "      <th>end_station_id</th>\n",
       "      <th>end_station_lat</th>\n",
       "      <th>end_station_lon</th>\n",
       "      <th>bike_id</th>\n",
       "    </tr>\n",
       "  </thead>\n",
       "  <tbody>\n",
       "    <tr>\n",
       "      <th>count</th>\n",
       "      <td>3.081600e+06</td>\n",
       "      <td>3.081600e+06</td>\n",
       "      <td>3.081600e+06</td>\n",
       "      <td>3.081600e+06</td>\n",
       "      <td>3.081600e+06</td>\n",
       "      <td>3.081600e+06</td>\n",
       "      <td>3.081600e+06</td>\n",
       "    </tr>\n",
       "    <tr>\n",
       "      <th>mean</th>\n",
       "      <td>9.142570e+01</td>\n",
       "      <td>4.235739e+01</td>\n",
       "      <td>-7.108600e+01</td>\n",
       "      <td>9.128123e+01</td>\n",
       "      <td>4.235695e+01</td>\n",
       "      <td>-7.108548e+01</td>\n",
       "      <td>1.779580e+03</td>\n",
       "    </tr>\n",
       "    <tr>\n",
       "      <th>std</th>\n",
       "      <td>6.351354e+01</td>\n",
       "      <td>1.372931e-01</td>\n",
       "      <td>2.304351e-01</td>\n",
       "      <td>6.373496e+01</td>\n",
       "      <td>2.751284e-01</td>\n",
       "      <td>2.636222e-01</td>\n",
       "      <td>1.140185e+03</td>\n",
       "    </tr>\n",
       "    <tr>\n",
       "      <th>min</th>\n",
       "      <td>1.000000e+00</td>\n",
       "      <td>0.000000e+00</td>\n",
       "      <td>-7.356692e+01</td>\n",
       "      <td>1.000000e+00</td>\n",
       "      <td>-9.000000e+01</td>\n",
       "      <td>-7.356692e+01</td>\n",
       "      <td>1.000000e+00</td>\n",
       "    </tr>\n",
       "    <tr>\n",
       "      <th>25%</th>\n",
       "      <td>4.400000e+01</td>\n",
       "      <td>4.234876e+01</td>\n",
       "      <td>-7.110394e+01</td>\n",
       "      <td>4.400000e+01</td>\n",
       "      <td>4.234876e+01</td>\n",
       "      <td>-7.110394e+01</td>\n",
       "      <td>8.170000e+02</td>\n",
       "    </tr>\n",
       "    <tr>\n",
       "      <th>50%</th>\n",
       "      <td>7.500000e+01</td>\n",
       "      <td>4.235810e+01</td>\n",
       "      <td>-7.108822e+01</td>\n",
       "      <td>7.500000e+01</td>\n",
       "      <td>4.235810e+01</td>\n",
       "      <td>-7.108809e+01</td>\n",
       "      <td>1.666000e+03</td>\n",
       "    </tr>\n",
       "    <tr>\n",
       "      <th>75%</th>\n",
       "      <td>1.310000e+02</td>\n",
       "      <td>4.236567e+01</td>\n",
       "      <td>-7.106629e+01</td>\n",
       "      <td>1.310000e+02</td>\n",
       "      <td>4.236567e+01</td>\n",
       "      <td>-7.106526e+01</td>\n",
       "      <td>2.682000e+03</td>\n",
       "    </tr>\n",
       "    <tr>\n",
       "      <th>max</th>\n",
       "      <td>3.780000e+02</td>\n",
       "      <td>4.550509e+01</td>\n",
       "      <td>0.000000e+00</td>\n",
       "      <td>3.790000e+02</td>\n",
       "      <td>4.550509e+01</td>\n",
       "      <td>0.000000e+00</td>\n",
       "      <td>4.553000e+03</td>\n",
       "    </tr>\n",
       "  </tbody>\n",
       "</table>\n",
       "</div>"
      ],
      "text/plain": [
       "       start_station_id  start_station_lat  start_station_lon  end_station_id  \\\n",
       "count      3.081600e+06       3.081600e+06       3.081600e+06    3.081600e+06   \n",
       "mean       9.142570e+01       4.235739e+01      -7.108600e+01    9.128123e+01   \n",
       "std        6.351354e+01       1.372931e-01       2.304351e-01    6.373496e+01   \n",
       "min        1.000000e+00       0.000000e+00      -7.356692e+01    1.000000e+00   \n",
       "25%        4.400000e+01       4.234876e+01      -7.110394e+01    4.400000e+01   \n",
       "50%        7.500000e+01       4.235810e+01      -7.108822e+01    7.500000e+01   \n",
       "75%        1.310000e+02       4.236567e+01      -7.106629e+01    1.310000e+02   \n",
       "max        3.780000e+02       4.550509e+01       0.000000e+00    3.790000e+02   \n",
       "\n",
       "       end_station_lat  end_station_lon       bike_id  \n",
       "count     3.081600e+06     3.081600e+06  3.081600e+06  \n",
       "mean      4.235695e+01    -7.108548e+01  1.779580e+03  \n",
       "std       2.751284e-01     2.636222e-01  1.140185e+03  \n",
       "min      -9.000000e+01    -7.356692e+01  1.000000e+00  \n",
       "25%       4.234876e+01    -7.110394e+01  8.170000e+02  \n",
       "50%       4.235810e+01    -7.108809e+01  1.666000e+03  \n",
       "75%       4.236567e+01    -7.106526e+01  2.682000e+03  \n",
       "max       4.550509e+01     0.000000e+00  4.553000e+03  "
      ]
     },
     "execution_count": 7,
     "metadata": {},
     "output_type": "execute_result"
    }
   ],
   "source": [
    "bluebikes.describe()"
   ]
  },
  {
   "cell_type": "code",
   "execution_count": 8,
   "metadata": {},
   "outputs": [
    {
     "data": {
      "text/plain": [
       "start_time           3081600\n",
       "end_time             3081600\n",
       "start_station_id     3081600\n",
       "start_station_lat    3081600\n",
       "start_station_lon    3081600\n",
       "end_station_id       3081600\n",
       "end_station_lat      3081600\n",
       "end_station_lon      3081600\n",
       "bike_id              3081600\n",
       "dtype: int64"
      ]
     },
     "execution_count": 8,
     "metadata": {},
     "output_type": "execute_result"
    }
   ],
   "source": [
    "bluebikes.count()"
   ]
  },
  {
   "attachments": {},
   "cell_type": "markdown",
   "metadata": {},
   "source": [
    "## Handling missing numerical data"
   ]
  },
  {
   "attachments": {},
   "cell_type": "markdown",
   "metadata": {},
   "source": [
    "Check whether numerical data is missing"
   ]
  },
  {
   "cell_type": "code",
   "execution_count": 21,
   "metadata": {},
   "outputs": [
    {
     "name": "stdout",
     "output_type": "stream",
     "text": [
      "Empty DataFrame\n",
      "Columns: [start_time, end_time, start_station_id, start_station_lat, start_station_lon, end_station_id, end_station_lat, end_station_lon, bike_id]\n",
      "Index: []\n",
      "Empty DataFrame\n",
      "Columns: [start_time, end_time, start_station_id, start_station_lat, start_station_lon, end_station_id, end_station_lat, end_station_lon, bike_id]\n",
      "Index: []\n",
      "Empty DataFrame\n",
      "Columns: [start_time, end_time, start_station_id, start_station_lat, start_station_lon, end_station_id, end_station_lat, end_station_lon, bike_id]\n",
      "Index: []\n",
      "Empty DataFrame\n",
      "Columns: [start_time, end_time, start_station_id, start_station_lat, start_station_lon, end_station_id, end_station_lat, end_station_lon, bike_id]\n",
      "Index: []\n",
      "Empty DataFrame\n",
      "Columns: [start_time, end_time, start_station_id, start_station_lat, start_station_lon, end_station_id, end_station_lat, end_station_lon, bike_id]\n",
      "Index: []\n",
      "Empty DataFrame\n",
      "Columns: [start_time, end_time, start_station_id, start_station_lat, start_station_lon, end_station_id, end_station_lat, end_station_lon, bike_id]\n",
      "Index: []\n",
      "Empty DataFrame\n",
      "Columns: [start_time, end_time, start_station_id, start_station_lat, start_station_lon, end_station_id, end_station_lat, end_station_lon, bike_id]\n",
      "Index: []\n",
      "Empty DataFrame\n",
      "Columns: [start_time, end_time, start_station_id, start_station_lat, start_station_lon, end_station_id, end_station_lat, end_station_lon, bike_id]\n",
      "Index: []\n",
      "Empty DataFrame\n",
      "Columns: [start_time, end_time, start_station_id, start_station_lat, start_station_lon, end_station_id, end_station_lat, end_station_lon, bike_id]\n",
      "Index: []\n"
     ]
    }
   ],
   "source": [
    "for col in bluebikes:\n",
    "    print(bluebikes[bluebikes[col].isnull() == True])"
   ]
  },
  {
   "attachments": {},
   "cell_type": "markdown",
   "metadata": {},
   "source": [
    "There are no numerical data missing"
   ]
  },
  {
   "attachments": {},
   "cell_type": "markdown",
   "metadata": {},
   "source": [
    "## Normalize data and rescale it"
   ]
  },
  {
   "cell_type": "markdown",
   "metadata": {},
   "source": []
  },
  {
   "cell_type": "code",
   "execution_count": null,
   "metadata": {},
   "outputs": [],
   "source": []
  },
  {
   "cell_type": "code",
   "execution_count": null,
   "metadata": {},
   "outputs": [],
   "source": []
  },
  {
   "attachments": {},
   "cell_type": "markdown",
   "metadata": {},
   "source": [
    "## Rebalance dataset"
   ]
  },
  {
   "cell_type": "code",
   "execution_count": null,
   "metadata": {},
   "outputs": [],
   "source": []
  },
  {
   "cell_type": "code",
   "execution_count": null,
   "metadata": {},
   "outputs": [],
   "source": []
  },
  {
   "cell_type": "code",
   "execution_count": null,
   "metadata": {},
   "outputs": [],
   "source": []
  },
  {
   "attachments": {},
   "cell_type": "markdown",
   "metadata": {},
   "source": [
    "## Compute variable idle_time"
   ]
  },
  {
   "attachments": {},
   "cell_type": "markdown",
   "metadata": {},
   "source": [
    "Calculating the idle_time = end_time - start_time and inserting it into the dataset"
   ]
  },
  {
   "cell_type": "code",
   "execution_count": null,
   "metadata": {},
   "outputs": [],
   "source": []
  },
  {
   "cell_type": "code",
   "execution_count": null,
   "metadata": {},
   "outputs": [],
   "source": []
  },
  {
   "attachments": {},
   "cell_type": "markdown",
   "metadata": {},
   "source": [
    "## Normalize database"
   ]
  },
  {
   "attachments": {},
   "cell_type": "markdown",
   "metadata": {},
   "source": [
    "Extracting data from the dataset and save them in a different set"
   ]
  },
  {
   "cell_type": "code",
   "execution_count": null,
   "metadata": {},
   "outputs": [],
   "source": []
  },
  {
   "cell_type": "code",
   "execution_count": null,
   "metadata": {},
   "outputs": [],
   "source": []
  },
  {
   "attachments": {},
   "cell_type": "markdown",
   "metadata": {},
   "source": [
    "## Visualization of the data"
   ]
  },
  {
   "attachments": {},
   "cell_type": "markdown",
   "metadata": {},
   "source": [
    "Import necessary packages"
   ]
  },
  {
   "cell_type": "code",
   "execution_count": 22,
   "metadata": {},
   "outputs": [],
   "source": [
    "import matplotlib as mpl\n",
    "import matplotlib.pyplot as plt\n",
    "import seaborn as sns"
   ]
  },
  {
   "cell_type": "code",
   "execution_count": 23,
   "metadata": {},
   "outputs": [],
   "source": [
    "%matplotlib inline"
   ]
  },
  {
   "cell_type": "code",
   "execution_count": null,
   "metadata": {},
   "outputs": [],
   "source": []
  },
  {
   "cell_type": "code",
   "execution_count": null,
   "metadata": {},
   "outputs": [],
   "source": []
  },
  {
   "cell_type": "code",
   "execution_count": null,
   "metadata": {},
   "outputs": [],
   "source": []
  },
  {
   "attachments": {},
   "cell_type": "markdown",
   "metadata": {},
   "source": [
    "## Some possible Features"
   ]
  },
  {
   "cell_type": "code",
   "execution_count": null,
   "metadata": {},
   "outputs": [],
   "source": []
  },
  {
   "cell_type": "code",
   "execution_count": null,
   "metadata": {},
   "outputs": [],
   "source": []
  },
  {
   "cell_type": "code",
   "execution_count": null,
   "metadata": {},
   "outputs": [],
   "source": []
  }
 ],
 "metadata": {
  "kernelspec": {
   "display_name": "Python 3 (ipykernel)",
   "language": "python",
   "name": "python3"
  },
  "language_info": {
   "codemirror_mode": {
    "name": "ipython",
    "version": 3
   },
   "file_extension": ".py",
   "mimetype": "text/x-python",
   "name": "python",
   "nbconvert_exporter": "python",
   "pygments_lexer": "ipython3",
   "version": "3.10.9"
  }
 },
 "nbformat": 4,
 "nbformat_minor": 2
}
