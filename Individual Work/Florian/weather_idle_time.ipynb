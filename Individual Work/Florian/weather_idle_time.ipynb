{
 "cells": [
  {
   "cell_type": "code",
   "execution_count": null,
   "metadata": {},
   "outputs": [],
   "source": [
    "import numpy as np\n",
    "import pandas as pd\n",
    "import matplotlib.pyplot as plt\n",
    "from data_cleaning import new_clean_data\n",
    "from datetime import datetime\n",
    "import plotly.graph_objs as go\n",
    "import plotly.offline as pyo\n",
    "import seaborn as sns\n",
    "from  weather import getCleanWeather\n",
    "%matplotlib inline"
   ]
  },
  {
   "cell_type": "code",
   "execution_count": null,
   "metadata": {},
   "outputs": [],
   "source": [
    "weather = getCleanWeather(r'C:\\Users\\STH_0\\Desktop\\Data\\Boston')"
   ]
  },
  {
   "cell_type": "code",
   "execution_count": null,
   "metadata": {},
   "outputs": [],
   "source": [
    "bluebikes_idle_time = pd.read_csv(r\"C:\\Users\\STH_0\\Desktop\\Data\\bluebikes_idle_time_v4.csv\")\n",
    "bluebikes_idle_time['idle_time'] = pd.to_timedelta(bluebikes_idle_time['idle_time'])\n",
    "bluebikes_idle_time['idle_time'] = bluebikes_idle_time['idle_time'].dt.total_seconds()\n",
    "bluebikes_idle_time['idle_time'] = bluebikes_idle_time['idle_time'] / 60\n",
    "bluebikes_idle_time['start_time'] = pd.to_datetime(bluebikes_idle_time['start_time'])\n",
    "weather['timestamp'] = pd.to_datetime(weather['timestamp'])\n",
    "bluebikes_idle_time.head()"
   ]
  },
  {
   "cell_type": "code",
   "execution_count": null,
   "metadata": {},
   "outputs": [],
   "source": [
    "weather.head()"
   ]
  },
  {
   "cell_type": "code",
   "execution_count": null,
   "metadata": {},
   "outputs": [],
   "source": [
    "merged_df = pd.merge_asof(bluebikes_idle_time.sort_values('start_time'), weather.sort_values('timestamp'),\n",
    "                          left_on='start_time', right_on='timestamp',\n",
    "                          direction='nearest')"
   ]
  },
  {
   "cell_type": "code",
   "execution_count": null,
   "metadata": {},
   "outputs": [],
   "source": [
    "weather.info()"
   ]
  },
  {
   "cell_type": "code",
   "execution_count": null,
   "metadata": {},
   "outputs": [],
   "source": [
    "# Convert 'start_time' column to datetime\n",
    "merged_df['start_time'] = pd.to_datetime(merged_df['start_time'])\n",
    "merged_df['timestamp'] = pd.to_datetime(merged_df['timestamp'])\n",
    "\n",
    "# Group the data by date and calculate the mean of idle time for each day\n",
    "daily_idle_time_mean = merged_df.groupby(merged_df['start_time'].dt.date)['idle_time'].mean()\n",
    "temperator_mean = merged_df.groupby(merged_df['timestamp'].dt.date)['temperature'].mean()\n",
    "\n",
    "# Group the data by date and count the number of data points for each day\n",
    "daily_data_count = merged_df.groupby(merged_df['start_time'].dt.date).size()\n",
    "\n",
    "# Create the scatter plots\n",
    "trace_idle_time = go.Scatter(x=daily_idle_time_mean.index, y=daily_idle_time_mean.values, name='Mean Idle Time')\n",
    "trace_data_count = go.Scatter(x=temperator_mean.index, y=temperator_mean.values, name='Data Point Count')\n",
    "\n",
    "# Set the layout\n",
    "layout = go.Layout(title='Mean Idle Time and Data Point Count over 2 Years',\n",
    "                   xaxis=dict(title='Date'), yaxis=dict(title='Value'))\n",
    "\n",
    "# Create the figure\n",
    "fig = go.Figure(data=[trace_idle_time, trace_data_count], layout=layout)\n",
    "\n",
    "# Plot the figure\n",
    "pyo.iplot(fig)"
   ]
  },
  {
   "cell_type": "code",
   "execution_count": null,
   "metadata": {},
   "outputs": [],
   "source": [
    "sns.jointplot(x='temperature', y='idle_time', data=merged_df, kind='reg', color='g')"
   ]
  },
  {
   "cell_type": "code",
   "execution_count": null,
   "metadata": {},
   "outputs": [],
   "source": [
    "#plotly temperature vs idle time\n",
    "trace = go.Scatter(x=merged_df['temperature'], y=merged_df['idle_time'], mode='markers')\n",
    "layout = go.Layout(title='Temperature vs Idle Time', xaxis=dict(title='Temperature'),\n",
    "                     yaxis=dict(title='Idle Time'))\n",
    "fig = go.Figure(data=[trace], layout=layout)\n",
    "pyo.iplot(fig)\n"
   ]
  }
 ],
 "metadata": {
  "kernelspec": {
   "display_name": "base",
   "language": "python",
   "name": "python3"
  },
  "language_info": {
   "codemirror_mode": {
    "name": "ipython",
    "version": 3
   },
   "file_extension": ".py",
   "mimetype": "text/x-python",
   "name": "python",
   "nbconvert_exporter": "python",
   "pygments_lexer": "ipython3",
   "version": "3.10.9"
  },
  "orig_nbformat": 4
 },
 "nbformat": 4,
 "nbformat_minor": 2
}
