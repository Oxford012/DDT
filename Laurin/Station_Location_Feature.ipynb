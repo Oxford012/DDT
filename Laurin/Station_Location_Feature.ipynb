{
 "cells": [
  {
   "cell_type": "code",
   "execution_count": 1,
   "metadata": {
    "collapsed": true,
    "ExecuteTime": {
     "start_time": "2023-06-25T19:45:53.545252Z",
     "end_time": "2023-06-25T19:45:54.174511Z"
    }
   },
   "outputs": [],
   "source": [
    "import pandas as pd\n",
    "import Useful_functions_for_stations\n",
    "import matplotlib.pyplot as plt\n",
    "import seaborn as sns\n",
    "import folium\n",
    "from folium.plugins import HeatMap\n"
   ]
  },
  {
   "cell_type": "code",
   "execution_count": 2,
   "outputs": [
    {
     "data": {
      "text/plain": "            start_time             end_time  start_station_id  end_station_id  \\\n0  2017-01-01 00:06:58  2017-01-01 00:12:49                67             139   \n1  2017-01-01 00:13:16  2017-01-01 00:28:07                36              10   \n2  2017-01-01 00:16:17  2017-01-01 00:44:10                36               9   \n3  2017-01-01 00:21:22  2017-01-01 00:33:50                46              19   \n4  2017-01-01 00:30:06  2017-01-01 00:40:28                10               8   \n\n   bike_id  weekday        idle_time  \n0      644        6                0  \n1      230        6                0  \n2      980        6                0  \n3     1834        6                0  \n4      230        6  0 days 00:01:59  ",
      "text/html": "<div>\n<style scoped>\n    .dataframe tbody tr th:only-of-type {\n        vertical-align: middle;\n    }\n\n    .dataframe tbody tr th {\n        vertical-align: top;\n    }\n\n    .dataframe thead th {\n        text-align: right;\n    }\n</style>\n<table border=\"1\" class=\"dataframe\">\n  <thead>\n    <tr style=\"text-align: right;\">\n      <th></th>\n      <th>start_time</th>\n      <th>end_time</th>\n      <th>start_station_id</th>\n      <th>end_station_id</th>\n      <th>bike_id</th>\n      <th>weekday</th>\n      <th>idle_time</th>\n    </tr>\n  </thead>\n  <tbody>\n    <tr>\n      <th>0</th>\n      <td>2017-01-01 00:06:58</td>\n      <td>2017-01-01 00:12:49</td>\n      <td>67</td>\n      <td>139</td>\n      <td>644</td>\n      <td>6</td>\n      <td>0</td>\n    </tr>\n    <tr>\n      <th>1</th>\n      <td>2017-01-01 00:13:16</td>\n      <td>2017-01-01 00:28:07</td>\n      <td>36</td>\n      <td>10</td>\n      <td>230</td>\n      <td>6</td>\n      <td>0</td>\n    </tr>\n    <tr>\n      <th>2</th>\n      <td>2017-01-01 00:16:17</td>\n      <td>2017-01-01 00:44:10</td>\n      <td>36</td>\n      <td>9</td>\n      <td>980</td>\n      <td>6</td>\n      <td>0</td>\n    </tr>\n    <tr>\n      <th>3</th>\n      <td>2017-01-01 00:21:22</td>\n      <td>2017-01-01 00:33:50</td>\n      <td>46</td>\n      <td>19</td>\n      <td>1834</td>\n      <td>6</td>\n      <td>0</td>\n    </tr>\n    <tr>\n      <th>4</th>\n      <td>2017-01-01 00:30:06</td>\n      <td>2017-01-01 00:40:28</td>\n      <td>10</td>\n      <td>8</td>\n      <td>230</td>\n      <td>6</td>\n      <td>0 days 00:01:59</td>\n    </tr>\n  </tbody>\n</table>\n</div>"
     },
     "execution_count": 2,
     "metadata": {},
     "output_type": "execute_result"
    }
   ],
   "source": [
    "bluebikes = pd.read_csv('C:/Users/lauri/PycharmProjects/DSML_Data/bluebikes_idle_time_v4.csv')\n",
    "bluebikes.head()"
   ],
   "metadata": {
    "collapsed": false,
    "ExecuteTime": {
     "start_time": "2023-06-25T19:45:56.149187Z",
     "end_time": "2023-06-25T19:46:02.058333Z"
    }
   }
  },
  {
   "cell_type": "code",
   "execution_count": 3,
   "outputs": [
    {
     "data": {
      "text/plain": "   station_id        lat        lon\n0          67  42.358100 -71.093198\n1         139  42.361780 -71.108100\n2          36  42.349792 -71.077338\n3          10  42.350406 -71.108279\n4           9  42.351187 -71.115852",
      "text/html": "<div>\n<style scoped>\n    .dataframe tbody tr th:only-of-type {\n        vertical-align: middle;\n    }\n\n    .dataframe tbody tr th {\n        vertical-align: top;\n    }\n\n    .dataframe thead th {\n        text-align: right;\n    }\n</style>\n<table border=\"1\" class=\"dataframe\">\n  <thead>\n    <tr style=\"text-align: right;\">\n      <th></th>\n      <th>station_id</th>\n      <th>lat</th>\n      <th>lon</th>\n    </tr>\n  </thead>\n  <tbody>\n    <tr>\n      <th>0</th>\n      <td>67</td>\n      <td>42.358100</td>\n      <td>-71.093198</td>\n    </tr>\n    <tr>\n      <th>1</th>\n      <td>139</td>\n      <td>42.361780</td>\n      <td>-71.108100</td>\n    </tr>\n    <tr>\n      <th>2</th>\n      <td>36</td>\n      <td>42.349792</td>\n      <td>-71.077338</td>\n    </tr>\n    <tr>\n      <th>3</th>\n      <td>10</td>\n      <td>42.350406</td>\n      <td>-71.108279</td>\n    </tr>\n    <tr>\n      <th>4</th>\n      <td>9</td>\n      <td>42.351187</td>\n      <td>-71.115852</td>\n    </tr>\n  </tbody>\n</table>\n</div>"
     },
     "execution_count": 3,
     "metadata": {},
     "output_type": "execute_result"
    }
   ],
   "source": [
    "bluebikes_stations = pd.read_csv('C:/Users/lauri/PycharmProjects/DSML_Data/bluebikes_stations.csv')\n",
    "bluebikes_stations.head()"
   ],
   "metadata": {
    "collapsed": false,
    "ExecuteTime": {
     "start_time": "2023-06-25T19:46:04.385671Z",
     "end_time": "2023-06-25T19:46:04.452299Z"
    }
   }
  },
  {
   "cell_type": "markdown",
   "source": [
    "Density-based feature: Calculate density of stations within a certain radius. High density might imply high competition which could lead to higher idle times."
   ],
   "metadata": {
    "collapsed": false
   }
  },
  {
   "cell_type": "code",
   "execution_count": 11,
   "outputs": [],
   "source": [
    "import geopandas as gpd\n",
    "from shapely.geometry import Point\n",
    "from geopy.distance import geodesic"
   ],
   "metadata": {
    "collapsed": false,
    "ExecuteTime": {
     "start_time": "2023-06-25T22:27:50.907304Z",
     "end_time": "2023-06-25T22:27:51.090980Z"
    }
   }
  },
  {
   "cell_type": "code",
   "execution_count": 8,
   "outputs": [],
   "source": [
    "geodata = gpd.GeoDataFrame(bluebikes_stations, geometry = gpd.points_from_xy(bluebikes_stations.lon, bluebikes_stations.lat))\n",
    "\n",
    "geodata.set_crs(epsg=4326, inplace=True)\n",
    "\n",
    "geodata = geodata.to_crs(epsg=3857)\n",
    "\n",
    "buffer_radius = 1000 # = 1000 meter\n",
    "\n",
    "geodata['buffer'] = geodata['geometry'].buffer(buffer_radius)\n",
    "# Calculate number of stations within the radius around a station\n",
    "geodata['station_density'] = geodata.apply(lambda row: geodata.within(row['buffer']).sum() - 1, axis=1)\n",
    "# Convert station_density to per square km\n",
    "#geodata['station_density'] = geodata['station_density'] / (3.1416* (buffer_radius/1000)**2)\n",
    "\n"
   ],
   "metadata": {
    "collapsed": false,
    "ExecuteTime": {
     "start_time": "2023-06-25T21:01:35.175191Z",
     "end_time": "2023-06-25T21:01:35.390656Z"
    }
   }
  },
  {
   "cell_type": "code",
   "execution_count": 9,
   "outputs": [
    {
     "data": {
      "text/plain": "     station_id        lat        lon                          geometry  \\\n0            67  42.358100 -71.093198  POINT (-7914058.600 5214772.943)   \n1           139  42.361780 -71.108100  POINT (-7915717.430 5215327.402)   \n2            36  42.349792 -71.077338  POINT (-7912293.113 5213521.392)   \n3            10  42.350406 -71.108279  POINT (-7915737.409 5213613.945)   \n4             9  42.351187 -71.115852  POINT (-7916580.435 5213731.525)   \n..          ...        ...        ...                               ...   \n308         229  42.345033 -71.096649  POINT (-7914442.783 5212804.682)   \n309         374  42.356683 -71.061666  POINT (-7910548.525 5214559.533)   \n310         376  42.360274 -71.128525  POINT (-7917991.131 5215100.408)   \n311         377  42.379273 -71.103419  POINT (-7915196.400 5217963.142)   \n312         378  42.380323 -71.108786  POINT (-7915793.863 5218121.391)   \n\n                                                buffer  station_density  \n0    POLYGON ((-7913058.600 5214772.943, -7913063.4...                3  \n1    POLYGON ((-7914717.430 5215327.402, -7914722.2...                8  \n2    POLYGON ((-7911293.113 5213521.392, -7911297.9...                9  \n3    POLYGON ((-7914737.409 5213613.945, -7914742.2...                5  \n4    POLYGON ((-7915580.435 5213731.525, -7915585.2...                4  \n..                                                 ...              ...  \n308  POLYGON ((-7913442.783 5212804.682, -7913447.5...               11  \n309  POLYGON ((-7909548.525 5214559.533, -7909553.3...               14  \n310  POLYGON ((-7916991.131 5215100.408, -7916995.9...                2  \n311  POLYGON ((-7914196.400 5217963.142, -7914201.2...                7  \n312  POLYGON ((-7914793.863 5218121.391, -7914798.6...                8  \n\n[313 rows x 6 columns]",
      "text/html": "<div>\n<style scoped>\n    .dataframe tbody tr th:only-of-type {\n        vertical-align: middle;\n    }\n\n    .dataframe tbody tr th {\n        vertical-align: top;\n    }\n\n    .dataframe thead th {\n        text-align: right;\n    }\n</style>\n<table border=\"1\" class=\"dataframe\">\n  <thead>\n    <tr style=\"text-align: right;\">\n      <th></th>\n      <th>station_id</th>\n      <th>lat</th>\n      <th>lon</th>\n      <th>geometry</th>\n      <th>buffer</th>\n      <th>station_density</th>\n    </tr>\n  </thead>\n  <tbody>\n    <tr>\n      <th>0</th>\n      <td>67</td>\n      <td>42.358100</td>\n      <td>-71.093198</td>\n      <td>POINT (-7914058.600 5214772.943)</td>\n      <td>POLYGON ((-7913058.600 5214772.943, -7913063.4...</td>\n      <td>3</td>\n    </tr>\n    <tr>\n      <th>1</th>\n      <td>139</td>\n      <td>42.361780</td>\n      <td>-71.108100</td>\n      <td>POINT (-7915717.430 5215327.402)</td>\n      <td>POLYGON ((-7914717.430 5215327.402, -7914722.2...</td>\n      <td>8</td>\n    </tr>\n    <tr>\n      <th>2</th>\n      <td>36</td>\n      <td>42.349792</td>\n      <td>-71.077338</td>\n      <td>POINT (-7912293.113 5213521.392)</td>\n      <td>POLYGON ((-7911293.113 5213521.392, -7911297.9...</td>\n      <td>9</td>\n    </tr>\n    <tr>\n      <th>3</th>\n      <td>10</td>\n      <td>42.350406</td>\n      <td>-71.108279</td>\n      <td>POINT (-7915737.409 5213613.945)</td>\n      <td>POLYGON ((-7914737.409 5213613.945, -7914742.2...</td>\n      <td>5</td>\n    </tr>\n    <tr>\n      <th>4</th>\n      <td>9</td>\n      <td>42.351187</td>\n      <td>-71.115852</td>\n      <td>POINT (-7916580.435 5213731.525)</td>\n      <td>POLYGON ((-7915580.435 5213731.525, -7915585.2...</td>\n      <td>4</td>\n    </tr>\n    <tr>\n      <th>...</th>\n      <td>...</td>\n      <td>...</td>\n      <td>...</td>\n      <td>...</td>\n      <td>...</td>\n      <td>...</td>\n    </tr>\n    <tr>\n      <th>308</th>\n      <td>229</td>\n      <td>42.345033</td>\n      <td>-71.096649</td>\n      <td>POINT (-7914442.783 5212804.682)</td>\n      <td>POLYGON ((-7913442.783 5212804.682, -7913447.5...</td>\n      <td>11</td>\n    </tr>\n    <tr>\n      <th>309</th>\n      <td>374</td>\n      <td>42.356683</td>\n      <td>-71.061666</td>\n      <td>POINT (-7910548.525 5214559.533)</td>\n      <td>POLYGON ((-7909548.525 5214559.533, -7909553.3...</td>\n      <td>14</td>\n    </tr>\n    <tr>\n      <th>310</th>\n      <td>376</td>\n      <td>42.360274</td>\n      <td>-71.128525</td>\n      <td>POINT (-7917991.131 5215100.408)</td>\n      <td>POLYGON ((-7916991.131 5215100.408, -7916995.9...</td>\n      <td>2</td>\n    </tr>\n    <tr>\n      <th>311</th>\n      <td>377</td>\n      <td>42.379273</td>\n      <td>-71.103419</td>\n      <td>POINT (-7915196.400 5217963.142)</td>\n      <td>POLYGON ((-7914196.400 5217963.142, -7914201.2...</td>\n      <td>7</td>\n    </tr>\n    <tr>\n      <th>312</th>\n      <td>378</td>\n      <td>42.380323</td>\n      <td>-71.108786</td>\n      <td>POINT (-7915793.863 5218121.391)</td>\n      <td>POLYGON ((-7914793.863 5218121.391, -7914798.6...</td>\n      <td>8</td>\n    </tr>\n  </tbody>\n</table>\n<p>313 rows × 6 columns</p>\n</div>"
     },
     "execution_count": 9,
     "metadata": {},
     "output_type": "execute_result"
    }
   ],
   "source": [
    "geodata"
   ],
   "metadata": {
    "collapsed": false,
    "ExecuteTime": {
     "start_time": "2023-06-25T21:01:36.723633Z",
     "end_time": "2023-06-25T21:01:36.757198Z"
    }
   }
  },
  {
   "cell_type": "markdown",
   "source": [
    "Distance-based feature: There are important locations in Boston like the City_center or the universities. Bike stations closer to those locations might be used more frequently which could lead to lower idle times"
   ],
   "metadata": {
    "collapsed": false
   }
  },
  {
   "cell_type": "code",
   "execution_count": 12,
   "outputs": [
    {
     "data": {
      "text/plain": "     station_id        lat        lon                    geometry  \\\n0            67  42.358100 -71.093198  POINT (-71.09320 42.35810)   \n1           139  42.361780 -71.108100  POINT (-71.10810 42.36178)   \n2            36  42.349792 -71.077338  POINT (-71.07734 42.34979)   \n3            10  42.350406 -71.108279  POINT (-71.10828 42.35041)   \n4             9  42.351187 -71.115852  POINT (-71.11585 42.35119)   \n..          ...        ...        ...                         ...   \n308         229  42.345033 -71.096649  POINT (-71.09665 42.34503)   \n309         374  42.356683 -71.061666  POINT (-71.06167 42.35668)   \n310         376  42.360274 -71.128525  POINT (-71.12852 42.36027)   \n311         377  42.379273 -71.103419  POINT (-71.10342 42.37927)   \n312         378  42.380323 -71.108786  POINT (-71.10879 42.38032)   \n\n     city_center_distance  logan_airport_distance  boston_university_distance  \\\n0                2.834303                6.936987                    1.312765   \n1                4.057397                8.125211                    1.272618   \n2                1.902335                5.850388                    2.313478   \n3                4.208350                8.302989                    0.237444   \n4                4.795478                8.898705                    0.864556   \n..                    ...                     ...                         ...   \n308              3.531929                7.526911                    0.942697   \n309              0.442698                4.402141                    3.668108   \n310              5.735832                9.814649                    2.192808   \n311              4.240624                7.875336                    3.200306   \n312              4.683031                8.331583                    3.324511   \n\n     fenway_park_distance  harvard_university_distance  \n0                1.308539                     2.193679  \n1                1.900659                     1.319524  \n2                1.672191                     3.755191  \n3                1.001405                     2.579055  \n4                1.615649                     2.540746  \n..                    ...                          ...  \n308              0.190635                     3.350412  \n309              3.130701                     4.380317  \n310              2.989004                     2.143764  \n311              3.654337                     0.815316  \n312              3.854916                     0.750617  \n\n[313 rows x 9 columns]",
      "text/html": "<div>\n<style scoped>\n    .dataframe tbody tr th:only-of-type {\n        vertical-align: middle;\n    }\n\n    .dataframe tbody tr th {\n        vertical-align: top;\n    }\n\n    .dataframe thead th {\n        text-align: right;\n    }\n</style>\n<table border=\"1\" class=\"dataframe\">\n  <thead>\n    <tr style=\"text-align: right;\">\n      <th></th>\n      <th>station_id</th>\n      <th>lat</th>\n      <th>lon</th>\n      <th>geometry</th>\n      <th>city_center_distance</th>\n      <th>logan_airport_distance</th>\n      <th>boston_university_distance</th>\n      <th>fenway_park_distance</th>\n      <th>harvard_university_distance</th>\n    </tr>\n  </thead>\n  <tbody>\n    <tr>\n      <th>0</th>\n      <td>67</td>\n      <td>42.358100</td>\n      <td>-71.093198</td>\n      <td>POINT (-71.09320 42.35810)</td>\n      <td>2.834303</td>\n      <td>6.936987</td>\n      <td>1.312765</td>\n      <td>1.308539</td>\n      <td>2.193679</td>\n    </tr>\n    <tr>\n      <th>1</th>\n      <td>139</td>\n      <td>42.361780</td>\n      <td>-71.108100</td>\n      <td>POINT (-71.10810 42.36178)</td>\n      <td>4.057397</td>\n      <td>8.125211</td>\n      <td>1.272618</td>\n      <td>1.900659</td>\n      <td>1.319524</td>\n    </tr>\n    <tr>\n      <th>2</th>\n      <td>36</td>\n      <td>42.349792</td>\n      <td>-71.077338</td>\n      <td>POINT (-71.07734 42.34979)</td>\n      <td>1.902335</td>\n      <td>5.850388</td>\n      <td>2.313478</td>\n      <td>1.672191</td>\n      <td>3.755191</td>\n    </tr>\n    <tr>\n      <th>3</th>\n      <td>10</td>\n      <td>42.350406</td>\n      <td>-71.108279</td>\n      <td>POINT (-71.10828 42.35041)</td>\n      <td>4.208350</td>\n      <td>8.302989</td>\n      <td>0.237444</td>\n      <td>1.001405</td>\n      <td>2.579055</td>\n    </tr>\n    <tr>\n      <th>4</th>\n      <td>9</td>\n      <td>42.351187</td>\n      <td>-71.115852</td>\n      <td>POINT (-71.11585 42.35119)</td>\n      <td>4.795478</td>\n      <td>8.898705</td>\n      <td>0.864556</td>\n      <td>1.615649</td>\n      <td>2.540746</td>\n    </tr>\n    <tr>\n      <th>...</th>\n      <td>...</td>\n      <td>...</td>\n      <td>...</td>\n      <td>...</td>\n      <td>...</td>\n      <td>...</td>\n      <td>...</td>\n      <td>...</td>\n      <td>...</td>\n    </tr>\n    <tr>\n      <th>308</th>\n      <td>229</td>\n      <td>42.345033</td>\n      <td>-71.096649</td>\n      <td>POINT (-71.09665 42.34503)</td>\n      <td>3.531929</td>\n      <td>7.526911</td>\n      <td>0.942697</td>\n      <td>0.190635</td>\n      <td>3.350412</td>\n    </tr>\n    <tr>\n      <th>309</th>\n      <td>374</td>\n      <td>42.356683</td>\n      <td>-71.061666</td>\n      <td>POINT (-71.06167 42.35668)</td>\n      <td>0.442698</td>\n      <td>4.402141</td>\n      <td>3.668108</td>\n      <td>3.130701</td>\n      <td>4.380317</td>\n    </tr>\n    <tr>\n      <th>310</th>\n      <td>376</td>\n      <td>42.360274</td>\n      <td>-71.128525</td>\n      <td>POINT (-71.12852 42.36027)</td>\n      <td>5.735832</td>\n      <td>9.814649</td>\n      <td>2.192808</td>\n      <td>2.989004</td>\n      <td>2.143764</td>\n    </tr>\n    <tr>\n      <th>311</th>\n      <td>377</td>\n      <td>42.379273</td>\n      <td>-71.103419</td>\n      <td>POINT (-71.10342 42.37927)</td>\n      <td>4.240624</td>\n      <td>7.875336</td>\n      <td>3.200306</td>\n      <td>3.654337</td>\n      <td>0.815316</td>\n    </tr>\n    <tr>\n      <th>312</th>\n      <td>378</td>\n      <td>42.380323</td>\n      <td>-71.108786</td>\n      <td>POINT (-71.10879 42.38032)</td>\n      <td>4.683031</td>\n      <td>8.331583</td>\n      <td>3.324511</td>\n      <td>3.854916</td>\n      <td>0.750617</td>\n    </tr>\n  </tbody>\n</table>\n<p>313 rows × 9 columns</p>\n</div>"
     },
     "execution_count": 12,
     "metadata": {},
     "output_type": "execute_result"
    }
   ],
   "source": [
    "# Important locations in Boston\n",
    "locations = {\n",
    "    'city_center': (42.3601, -71.0589),  # Boston City Center\n",
    "    'logan_airport': (42.3656, -71.0096),  # Logan International Airport\n",
    "    'boston_university': (42.3505, -71.1054),  # Boston University\n",
    "    'fenway_park': (42.3467, -71.0972),  # Fenway Park\n",
    "    'harvard_university': (42.3736, -71.1097)  # Harvard University\n",
    "}\n",
    "# Calculate distance to each location\n",
    "for loc_name, loc_coord in locations.items():\n",
    "    bluebikes_stations[loc_name + '_distance'] = bluebikes_stations.apply(lambda row: geodesic((row['lat'], row['lon']), loc_coord).km, axis=1)\n",
    "\n",
    "bluebikes_stations"
   ],
   "metadata": {
    "collapsed": false,
    "ExecuteTime": {
     "start_time": "2023-06-25T22:31:45.517060Z",
     "end_time": "2023-06-25T22:31:46.051788Z"
    }
   }
  }
 ],
 "metadata": {
  "kernelspec": {
   "display_name": "Python 3",
   "language": "python",
   "name": "python3"
  },
  "language_info": {
   "codemirror_mode": {
    "name": "ipython",
    "version": 2
   },
   "file_extension": ".py",
   "mimetype": "text/x-python",
   "name": "python",
   "nbconvert_exporter": "python",
   "pygments_lexer": "ipython2",
   "version": "2.7.6"
  }
 },
 "nbformat": 4,
 "nbformat_minor": 0
}
