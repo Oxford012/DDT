{
 "cells": [
  {
   "cell_type": "code",
   "execution_count": 1,
   "metadata": {
    "collapsed": true,
    "ExecuteTime": {
     "start_time": "2023-06-25T19:45:53.545252Z",
     "end_time": "2023-06-25T19:45:54.174511Z"
    }
   },
   "outputs": [],
   "source": [
    "import pandas as pd\n",
    "import Useful_functions_for_stations\n",
    "import matplotlib.pyplot as plt\n",
    "import seaborn as sns\n",
    "import folium\n",
    "from folium.plugins import HeatMap\n"
   ]
  },
  {
   "cell_type": "code",
   "execution_count": 2,
   "outputs": [
    {
     "data": {
      "text/plain": "            start_time             end_time  start_station_id  end_station_id  \\\n0  2017-01-01 00:06:58  2017-01-01 00:12:49                67             139   \n1  2017-01-01 00:13:16  2017-01-01 00:28:07                36              10   \n2  2017-01-01 00:16:17  2017-01-01 00:44:10                36               9   \n3  2017-01-01 00:21:22  2017-01-01 00:33:50                46              19   \n4  2017-01-01 00:30:06  2017-01-01 00:40:28                10               8   \n\n   bike_id  weekday        idle_time  \n0      644        6                0  \n1      230        6                0  \n2      980        6                0  \n3     1834        6                0  \n4      230        6  0 days 00:01:59  ",
      "text/html": "<div>\n<style scoped>\n    .dataframe tbody tr th:only-of-type {\n        vertical-align: middle;\n    }\n\n    .dataframe tbody tr th {\n        vertical-align: top;\n    }\n\n    .dataframe thead th {\n        text-align: right;\n    }\n</style>\n<table border=\"1\" class=\"dataframe\">\n  <thead>\n    <tr style=\"text-align: right;\">\n      <th></th>\n      <th>start_time</th>\n      <th>end_time</th>\n      <th>start_station_id</th>\n      <th>end_station_id</th>\n      <th>bike_id</th>\n      <th>weekday</th>\n      <th>idle_time</th>\n    </tr>\n  </thead>\n  <tbody>\n    <tr>\n      <th>0</th>\n      <td>2017-01-01 00:06:58</td>\n      <td>2017-01-01 00:12:49</td>\n      <td>67</td>\n      <td>139</td>\n      <td>644</td>\n      <td>6</td>\n      <td>0</td>\n    </tr>\n    <tr>\n      <th>1</th>\n      <td>2017-01-01 00:13:16</td>\n      <td>2017-01-01 00:28:07</td>\n      <td>36</td>\n      <td>10</td>\n      <td>230</td>\n      <td>6</td>\n      <td>0</td>\n    </tr>\n    <tr>\n      <th>2</th>\n      <td>2017-01-01 00:16:17</td>\n      <td>2017-01-01 00:44:10</td>\n      <td>36</td>\n      <td>9</td>\n      <td>980</td>\n      <td>6</td>\n      <td>0</td>\n    </tr>\n    <tr>\n      <th>3</th>\n      <td>2017-01-01 00:21:22</td>\n      <td>2017-01-01 00:33:50</td>\n      <td>46</td>\n      <td>19</td>\n      <td>1834</td>\n      <td>6</td>\n      <td>0</td>\n    </tr>\n    <tr>\n      <th>4</th>\n      <td>2017-01-01 00:30:06</td>\n      <td>2017-01-01 00:40:28</td>\n      <td>10</td>\n      <td>8</td>\n      <td>230</td>\n      <td>6</td>\n      <td>0 days 00:01:59</td>\n    </tr>\n  </tbody>\n</table>\n</div>"
     },
     "execution_count": 2,
     "metadata": {},
     "output_type": "execute_result"
    }
   ],
   "source": [
    "bluebikes = pd.read_csv('C:/Users/lauri/PycharmProjects/DSML_Data/bluebikes_idle_time_v4.csv')\n",
    "bluebikes.head()"
   ],
   "metadata": {
    "collapsed": false,
    "ExecuteTime": {
     "start_time": "2023-06-25T19:45:56.149187Z",
     "end_time": "2023-06-25T19:46:02.058333Z"
    }
   }
  },
  {
   "cell_type": "code",
   "execution_count": 31,
   "outputs": [
    {
     "data": {
      "text/plain": "   station_id        lat        lon\n0          67  42.358100 -71.093198\n1         139  42.361780 -71.108100\n2          36  42.349792 -71.077338\n3          10  42.350406 -71.108279\n4           9  42.351187 -71.115852",
      "text/html": "<div>\n<style scoped>\n    .dataframe tbody tr th:only-of-type {\n        vertical-align: middle;\n    }\n\n    .dataframe tbody tr th {\n        vertical-align: top;\n    }\n\n    .dataframe thead th {\n        text-align: right;\n    }\n</style>\n<table border=\"1\" class=\"dataframe\">\n  <thead>\n    <tr style=\"text-align: right;\">\n      <th></th>\n      <th>station_id</th>\n      <th>lat</th>\n      <th>lon</th>\n    </tr>\n  </thead>\n  <tbody>\n    <tr>\n      <th>0</th>\n      <td>67</td>\n      <td>42.358100</td>\n      <td>-71.093198</td>\n    </tr>\n    <tr>\n      <th>1</th>\n      <td>139</td>\n      <td>42.361780</td>\n      <td>-71.108100</td>\n    </tr>\n    <tr>\n      <th>2</th>\n      <td>36</td>\n      <td>42.349792</td>\n      <td>-71.077338</td>\n    </tr>\n    <tr>\n      <th>3</th>\n      <td>10</td>\n      <td>42.350406</td>\n      <td>-71.108279</td>\n    </tr>\n    <tr>\n      <th>4</th>\n      <td>9</td>\n      <td>42.351187</td>\n      <td>-71.115852</td>\n    </tr>\n  </tbody>\n</table>\n</div>"
     },
     "execution_count": 31,
     "metadata": {},
     "output_type": "execute_result"
    }
   ],
   "source": [
    "bluebikes_stations = pd.read_csv('C:/Users/lauri/PycharmProjects/DSML_Data/bluebikes_stations.csv')\n",
    "bluebikes_stations_dist = bluebikes_stations.copy()\n",
    "bluebikes_stations.head()"
   ],
   "metadata": {
    "collapsed": false,
    "ExecuteTime": {
     "start_time": "2023-06-26T12:38:36.738330Z",
     "end_time": "2023-06-26T12:38:36.769627Z"
    }
   }
  },
  {
   "cell_type": "markdown",
   "source": [
    "Density-based feature: Calculate density of stations within a certain radius. High density might imply high competition which could lead to higher idle times."
   ],
   "metadata": {
    "collapsed": false
   }
  },
  {
   "cell_type": "code",
   "execution_count": 11,
   "outputs": [],
   "source": [
    "import geopandas as gpd\n",
    "from shapely.geometry import Point\n",
    "from geopy.distance import geodesic"
   ],
   "metadata": {
    "collapsed": false,
    "ExecuteTime": {
     "start_time": "2023-06-25T22:27:50.907304Z",
     "end_time": "2023-06-25T22:27:51.090980Z"
    }
   }
  },
  {
   "cell_type": "code",
   "execution_count": 38,
   "outputs": [],
   "source": [
    "geodata = gpd.GeoDataFrame(bluebikes_stations, geometry = gpd.points_from_xy(bluebikes_stations.lon, bluebikes_stations.lat))\n",
    "\n",
    "geodata.set_crs(epsg=4326, inplace=True)\n",
    "\n",
    "geodata = geodata.to_crs(epsg=3857)\n",
    "\n",
    "buffer_radius = 1000 # = 1000 meter\n",
    "\n",
    "geodata['buffer'] = geodata['geometry'].buffer(buffer_radius)\n",
    "# Calculate number of stations within the radius around a station\n",
    "geodata['station_density'] = geodata.apply(lambda row: geodata.within(row['buffer']).sum() - 1, axis=1)\n",
    "# Convert station_density to per square km\n",
    "geodata['station_density'] = geodata['station_density'] / (3.1416* (buffer_radius/1000)**2)\n",
    "\n"
   ],
   "metadata": {
    "collapsed": false,
    "ExecuteTime": {
     "start_time": "2023-06-26T12:41:35.388577Z",
     "end_time": "2023-06-26T12:41:35.604217Z"
    }
   }
  },
  {
   "cell_type": "code",
   "execution_count": 9,
   "outputs": [
    {
     "data": {
      "text/plain": "     station_id        lat        lon                          geometry  \\\n0            67  42.358100 -71.093198  POINT (-7914058.600 5214772.943)   \n1           139  42.361780 -71.108100  POINT (-7915717.430 5215327.402)   \n2            36  42.349792 -71.077338  POINT (-7912293.113 5213521.392)   \n3            10  42.350406 -71.108279  POINT (-7915737.409 5213613.945)   \n4             9  42.351187 -71.115852  POINT (-7916580.435 5213731.525)   \n..          ...        ...        ...                               ...   \n308         229  42.345033 -71.096649  POINT (-7914442.783 5212804.682)   \n309         374  42.356683 -71.061666  POINT (-7910548.525 5214559.533)   \n310         376  42.360274 -71.128525  POINT (-7917991.131 5215100.408)   \n311         377  42.379273 -71.103419  POINT (-7915196.400 5217963.142)   \n312         378  42.380323 -71.108786  POINT (-7915793.863 5218121.391)   \n\n                                                buffer  station_density  \n0    POLYGON ((-7913058.600 5214772.943, -7913063.4...                3  \n1    POLYGON ((-7914717.430 5215327.402, -7914722.2...                8  \n2    POLYGON ((-7911293.113 5213521.392, -7911297.9...                9  \n3    POLYGON ((-7914737.409 5213613.945, -7914742.2...                5  \n4    POLYGON ((-7915580.435 5213731.525, -7915585.2...                4  \n..                                                 ...              ...  \n308  POLYGON ((-7913442.783 5212804.682, -7913447.5...               11  \n309  POLYGON ((-7909548.525 5214559.533, -7909553.3...               14  \n310  POLYGON ((-7916991.131 5215100.408, -7916995.9...                2  \n311  POLYGON ((-7914196.400 5217963.142, -7914201.2...                7  \n312  POLYGON ((-7914793.863 5218121.391, -7914798.6...                8  \n\n[313 rows x 6 columns]",
      "text/html": "<div>\n<style scoped>\n    .dataframe tbody tr th:only-of-type {\n        vertical-align: middle;\n    }\n\n    .dataframe tbody tr th {\n        vertical-align: top;\n    }\n\n    .dataframe thead th {\n        text-align: right;\n    }\n</style>\n<table border=\"1\" class=\"dataframe\">\n  <thead>\n    <tr style=\"text-align: right;\">\n      <th></th>\n      <th>station_id</th>\n      <th>lat</th>\n      <th>lon</th>\n      <th>geometry</th>\n      <th>buffer</th>\n      <th>station_density</th>\n    </tr>\n  </thead>\n  <tbody>\n    <tr>\n      <th>0</th>\n      <td>67</td>\n      <td>42.358100</td>\n      <td>-71.093198</td>\n      <td>POINT (-7914058.600 5214772.943)</td>\n      <td>POLYGON ((-7913058.600 5214772.943, -7913063.4...</td>\n      <td>3</td>\n    </tr>\n    <tr>\n      <th>1</th>\n      <td>139</td>\n      <td>42.361780</td>\n      <td>-71.108100</td>\n      <td>POINT (-7915717.430 5215327.402)</td>\n      <td>POLYGON ((-7914717.430 5215327.402, -7914722.2...</td>\n      <td>8</td>\n    </tr>\n    <tr>\n      <th>2</th>\n      <td>36</td>\n      <td>42.349792</td>\n      <td>-71.077338</td>\n      <td>POINT (-7912293.113 5213521.392)</td>\n      <td>POLYGON ((-7911293.113 5213521.392, -7911297.9...</td>\n      <td>9</td>\n    </tr>\n    <tr>\n      <th>3</th>\n      <td>10</td>\n      <td>42.350406</td>\n      <td>-71.108279</td>\n      <td>POINT (-7915737.409 5213613.945)</td>\n      <td>POLYGON ((-7914737.409 5213613.945, -7914742.2...</td>\n      <td>5</td>\n    </tr>\n    <tr>\n      <th>4</th>\n      <td>9</td>\n      <td>42.351187</td>\n      <td>-71.115852</td>\n      <td>POINT (-7916580.435 5213731.525)</td>\n      <td>POLYGON ((-7915580.435 5213731.525, -7915585.2...</td>\n      <td>4</td>\n    </tr>\n    <tr>\n      <th>...</th>\n      <td>...</td>\n      <td>...</td>\n      <td>...</td>\n      <td>...</td>\n      <td>...</td>\n      <td>...</td>\n    </tr>\n    <tr>\n      <th>308</th>\n      <td>229</td>\n      <td>42.345033</td>\n      <td>-71.096649</td>\n      <td>POINT (-7914442.783 5212804.682)</td>\n      <td>POLYGON ((-7913442.783 5212804.682, -7913447.5...</td>\n      <td>11</td>\n    </tr>\n    <tr>\n      <th>309</th>\n      <td>374</td>\n      <td>42.356683</td>\n      <td>-71.061666</td>\n      <td>POINT (-7910548.525 5214559.533)</td>\n      <td>POLYGON ((-7909548.525 5214559.533, -7909553.3...</td>\n      <td>14</td>\n    </tr>\n    <tr>\n      <th>310</th>\n      <td>376</td>\n      <td>42.360274</td>\n      <td>-71.128525</td>\n      <td>POINT (-7917991.131 5215100.408)</td>\n      <td>POLYGON ((-7916991.131 5215100.408, -7916995.9...</td>\n      <td>2</td>\n    </tr>\n    <tr>\n      <th>311</th>\n      <td>377</td>\n      <td>42.379273</td>\n      <td>-71.103419</td>\n      <td>POINT (-7915196.400 5217963.142)</td>\n      <td>POLYGON ((-7914196.400 5217963.142, -7914201.2...</td>\n      <td>7</td>\n    </tr>\n    <tr>\n      <th>312</th>\n      <td>378</td>\n      <td>42.380323</td>\n      <td>-71.108786</td>\n      <td>POINT (-7915793.863 5218121.391)</td>\n      <td>POLYGON ((-7914793.863 5218121.391, -7914798.6...</td>\n      <td>8</td>\n    </tr>\n  </tbody>\n</table>\n<p>313 rows × 6 columns</p>\n</div>"
     },
     "execution_count": 9,
     "metadata": {},
     "output_type": "execute_result"
    }
   ],
   "source": [
    "geodata"
   ],
   "metadata": {
    "collapsed": false,
    "ExecuteTime": {
     "start_time": "2023-06-25T21:01:36.723633Z",
     "end_time": "2023-06-25T21:01:36.757198Z"
    }
   }
  },
  {
   "cell_type": "markdown",
   "source": [
    "Distance-based feature: There are important locations in Boston like the City_center,the universities or popular train stations. Bike stations closer to those locations might be used more frequently which could lead to lower idle times"
   ],
   "metadata": {
    "collapsed": false
   }
  },
  {
   "cell_type": "code",
   "execution_count": 32,
   "outputs": [
    {
     "data": {
      "text/plain": "     station_id        lat        lon  city_center_distance  \\\n0            67  42.358100 -71.093198              2.835790   \n1           139  42.361780 -71.108100              4.059136   \n2            36  42.349792 -71.077338              1.902449   \n3            10  42.350406 -71.108279              4.209433   \n4             9  42.351187 -71.115852              4.796679   \n..          ...        ...        ...                   ...   \n308         229  42.345033 -71.096649              3.532434   \n309         374  42.356683 -71.061666              0.441839   \n310         376  42.360274 -71.128525              5.737488   \n311         377  42.379273 -71.103419              4.243053   \n312         378  42.380323 -71.108786              4.685436   \n\n     boston_university_distance  fenway_park_distance  \\\n0                      1.312488              1.311493   \n1                      1.272305              1.902310   \n2                      2.313407              1.674192   \n3                      0.237541              1.001153   \n4                      0.864608              1.615064   \n..                          ...                   ...   \n308                    0.942848              0.188411   \n309                    3.667965              3.133033   \n310                    2.192714              2.989070   \n311                    3.199969              3.656769   \n312                    3.324186              3.857133   \n\n     harvard_university_distance  mit_distance  boston_common_distance  \\\n0                       2.196322      0.234932                2.246784   \n1                       1.321014      1.163583                3.525886   \n2                       3.757982      1.797120                1.114398   \n3                       2.580400      1.584456                3.514814   \n4                       2.541403      2.042611                4.121133   \n..                           ...           ...                     ...   \n308                     3.352443      1.685154                2.765277   \n309                     4.383297      2.703585                0.395249   \n310                     2.142643      2.831087                5.165596   \n311                     0.816101      2.263149                4.052775   \n312                     0.749679      2.549958                4.468208   \n\n     boston_public_garden_distance  newbury_street_distance  \\\n0                         1.861094                 1.220776   \n1                         3.153329                 2.427624   \n2                         0.669948                 0.500724   \n3                         3.067487                 2.049614   \n4                         3.679314                 2.676779   \n..                             ...                      ...   \n308                       2.304460                 1.214474   \n309                       0.856422                 1.946195   \n310                       4.764520                 3.892831   \n311                       3.866193                 3.660657   \n312                       4.260417                 3.978581   \n\n     south_station_distance  north_station_distance  back_bay_station_distance  \n0                  3.195646                2.760200                   1.904668  \n1                  4.483532                3.882721                   3.149924  \n2                  1.839755                2.198291                   0.323908  \n3                  4.374321                4.225473                   2.747706  \n4                  4.995049                4.774306                   3.377621  \n..                      ...                     ...                        ...  \n308                3.502844                3.703488                   1.787130  \n309                0.728667                0.988519                   1.521709  \n310                6.104186                5.573593                   4.622995  \n311                4.980976                3.792258                   4.240577  \n312                5.406497                4.244542                   4.590774  \n\n[313 rows x 14 columns]",
      "text/html": "<div>\n<style scoped>\n    .dataframe tbody tr th:only-of-type {\n        vertical-align: middle;\n    }\n\n    .dataframe tbody tr th {\n        vertical-align: top;\n    }\n\n    .dataframe thead th {\n        text-align: right;\n    }\n</style>\n<table border=\"1\" class=\"dataframe\">\n  <thead>\n    <tr style=\"text-align: right;\">\n      <th></th>\n      <th>station_id</th>\n      <th>lat</th>\n      <th>lon</th>\n      <th>city_center_distance</th>\n      <th>boston_university_distance</th>\n      <th>fenway_park_distance</th>\n      <th>harvard_university_distance</th>\n      <th>mit_distance</th>\n      <th>boston_common_distance</th>\n      <th>boston_public_garden_distance</th>\n      <th>newbury_street_distance</th>\n      <th>south_station_distance</th>\n      <th>north_station_distance</th>\n      <th>back_bay_station_distance</th>\n    </tr>\n  </thead>\n  <tbody>\n    <tr>\n      <th>0</th>\n      <td>67</td>\n      <td>42.358100</td>\n      <td>-71.093198</td>\n      <td>2.835790</td>\n      <td>1.312488</td>\n      <td>1.311493</td>\n      <td>2.196322</td>\n      <td>0.234932</td>\n      <td>2.246784</td>\n      <td>1.861094</td>\n      <td>1.220776</td>\n      <td>3.195646</td>\n      <td>2.760200</td>\n      <td>1.904668</td>\n    </tr>\n    <tr>\n      <th>1</th>\n      <td>139</td>\n      <td>42.361780</td>\n      <td>-71.108100</td>\n      <td>4.059136</td>\n      <td>1.272305</td>\n      <td>1.902310</td>\n      <td>1.321014</td>\n      <td>1.163583</td>\n      <td>3.525886</td>\n      <td>3.153329</td>\n      <td>2.427624</td>\n      <td>4.483532</td>\n      <td>3.882721</td>\n      <td>3.149924</td>\n    </tr>\n    <tr>\n      <th>2</th>\n      <td>36</td>\n      <td>42.349792</td>\n      <td>-71.077338</td>\n      <td>1.902449</td>\n      <td>2.313407</td>\n      <td>1.674192</td>\n      <td>3.757982</td>\n      <td>1.797120</td>\n      <td>1.114398</td>\n      <td>0.669948</td>\n      <td>0.500724</td>\n      <td>1.839755</td>\n      <td>2.198291</td>\n      <td>0.323908</td>\n    </tr>\n    <tr>\n      <th>3</th>\n      <td>10</td>\n      <td>42.350406</td>\n      <td>-71.108279</td>\n      <td>4.209433</td>\n      <td>0.237541</td>\n      <td>1.001153</td>\n      <td>2.580400</td>\n      <td>1.584456</td>\n      <td>3.514814</td>\n      <td>3.067487</td>\n      <td>2.049614</td>\n      <td>4.374321</td>\n      <td>4.225473</td>\n      <td>2.747706</td>\n    </tr>\n    <tr>\n      <th>4</th>\n      <td>9</td>\n      <td>42.351187</td>\n      <td>-71.115852</td>\n      <td>4.796679</td>\n      <td>0.864608</td>\n      <td>1.615064</td>\n      <td>2.541403</td>\n      <td>2.042611</td>\n      <td>4.121133</td>\n      <td>3.679314</td>\n      <td>2.676779</td>\n      <td>4.995049</td>\n      <td>4.774306</td>\n      <td>3.377621</td>\n    </tr>\n    <tr>\n      <th>...</th>\n      <td>...</td>\n      <td>...</td>\n      <td>...</td>\n      <td>...</td>\n      <td>...</td>\n      <td>...</td>\n      <td>...</td>\n      <td>...</td>\n      <td>...</td>\n      <td>...</td>\n      <td>...</td>\n      <td>...</td>\n      <td>...</td>\n      <td>...</td>\n    </tr>\n    <tr>\n      <th>308</th>\n      <td>229</td>\n      <td>42.345033</td>\n      <td>-71.096649</td>\n      <td>3.532434</td>\n      <td>0.942848</td>\n      <td>0.188411</td>\n      <td>3.352443</td>\n      <td>1.685154</td>\n      <td>2.765277</td>\n      <td>2.304460</td>\n      <td>1.214474</td>\n      <td>3.502844</td>\n      <td>3.703488</td>\n      <td>1.787130</td>\n    </tr>\n    <tr>\n      <th>309</th>\n      <td>374</td>\n      <td>42.356683</td>\n      <td>-71.061666</td>\n      <td>0.441839</td>\n      <td>3.667965</td>\n      <td>3.133033</td>\n      <td>4.383297</td>\n      <td>2.703585</td>\n      <td>0.395249</td>\n      <td>0.856422</td>\n      <td>1.946195</td>\n      <td>0.728667</td>\n      <td>0.988519</td>\n      <td>1.521709</td>\n    </tr>\n    <tr>\n      <th>310</th>\n      <td>376</td>\n      <td>42.360274</td>\n      <td>-71.128525</td>\n      <td>5.737488</td>\n      <td>2.192714</td>\n      <td>2.989070</td>\n      <td>2.142643</td>\n      <td>2.831087</td>\n      <td>5.165596</td>\n      <td>4.764520</td>\n      <td>3.892831</td>\n      <td>6.104186</td>\n      <td>5.573593</td>\n      <td>4.622995</td>\n    </tr>\n    <tr>\n      <th>311</th>\n      <td>377</td>\n      <td>42.379273</td>\n      <td>-71.103419</td>\n      <td>4.243053</td>\n      <td>3.199969</td>\n      <td>3.656769</td>\n      <td>0.816101</td>\n      <td>2.263149</td>\n      <td>4.052775</td>\n      <td>3.866193</td>\n      <td>3.660657</td>\n      <td>4.980976</td>\n      <td>3.792258</td>\n      <td>4.240577</td>\n    </tr>\n    <tr>\n      <th>312</th>\n      <td>378</td>\n      <td>42.380323</td>\n      <td>-71.108786</td>\n      <td>4.685436</td>\n      <td>3.324186</td>\n      <td>3.857133</td>\n      <td>0.749679</td>\n      <td>2.549958</td>\n      <td>4.468208</td>\n      <td>4.260417</td>\n      <td>3.978581</td>\n      <td>5.406497</td>\n      <td>4.244542</td>\n      <td>4.590774</td>\n    </tr>\n  </tbody>\n</table>\n<p>313 rows × 14 columns</p>\n</div>"
     },
     "execution_count": 32,
     "metadata": {},
     "output_type": "execute_result"
    }
   ],
   "source": [
    "# Important locations in Boston\n",
    "locations = {\n",
    "    'city_center': (42.360082, -71.058880), # Boston City Center\n",
    "    'boston_university': (42.350503, -71.105399), # Boston University\n",
    "    'fenway_park': (42.346676, -71.097218), # Fenway Park\n",
    "    'harvard_university': (42.373611, -71.109733), # Harvard University\n",
    "    'mit': (42.360091, -71.094160), # Massachusetts Institute of Technology\n",
    "    'boston_common': (42.355443, -71.066163), # Boston Common: public park in downtown\n",
    "    'boston_public_garden': (42.353865, -71.071342), # Boston Public Garden\n",
    "    'newbury_street': (42.349846, -71.083415), # Newbury Street (shopping district)\n",
    "    'south_station': (42.352175, -71.055242), # South Station (major train/subway station)\n",
    "    'north_station': (42.365577, -71.061245), # North Station (major train/subway station)\n",
    "    'back_bay_station': (42.347351, -71.075187), # Back Bay Station (major train/subway station)\n",
    "}\n",
    "# Calculate distance to each location\n",
    "for loc_name, loc_coord in locations.items():\n",
    "    bluebikes_stations_dist[loc_name + '_distance'] = bluebikes_stations_dist.apply(lambda row: geodesic((row['lat'], row['lon']), loc_coord).km, axis=1)\n",
    "\n",
    "bluebikes_stations_dist"
   ],
   "metadata": {
    "collapsed": false,
    "ExecuteTime": {
     "start_time": "2023-06-26T12:38:55.720778Z",
     "end_time": "2023-06-26T12:38:56.689228Z"
    }
   }
  },
  {
   "cell_type": "markdown",
   "source": [
    "Stations with lowest distance to north station: 22, 192 59 35 64 48 157 81 365 302 43 151 374 54 23 218 20 7 24 49"
   ],
   "metadata": {
    "collapsed": false
   }
  },
  {
   "cell_type": "code",
   "execution_count": 33,
   "outputs": [
    {
     "data": {
      "text/plain": "start_station_id\n1      18.716289\n3       1.887311\n4       1.802574\n5       0.926074\n6       0.656744\n         ...    \n373    74.029383\n374     1.424251\n376    10.969248\n377     4.868800\n378     6.520556\nName: idle_time_hours, Length: 313, dtype: float64"
     },
     "execution_count": 33,
     "metadata": {},
     "output_type": "execute_result"
    }
   ],
   "source": [
    "# Convert idle_time to timedelta type\n",
    "bluebikes['idle_time'] = pd.to_timedelta(bluebikes['idle_time'])\n",
    "\n",
    "# Convert idle_time to minutes\n",
    "bluebikes['idle_time_hours'] = bluebikes['idle_time'].dt.total_seconds() / 3600\n",
    "\n",
    "# Calculate total idle time per start station\n",
    "total_idle_time = bluebikes.groupby('start_station_id')['idle_time_hours'].mean()\n",
    "\n",
    "total_idle_time"
   ],
   "metadata": {
    "collapsed": false,
    "ExecuteTime": {
     "start_time": "2023-06-26T12:39:02.866926Z",
     "end_time": "2023-06-26T12:39:02.991979Z"
    }
   }
  },
  {
   "cell_type": "markdown",
   "source": [
    "Merge the two tables and compare the idle times with the calculated distances."
   ],
   "metadata": {
    "collapsed": false
   }
  },
  {
   "cell_type": "code",
   "execution_count": 34,
   "outputs": [
    {
     "data": {
      "text/plain": "     station_id        lat        lon  city_center_distance  \\\n0            67  42.358100 -71.093198              2.835790   \n1           139  42.361780 -71.108100              4.059136   \n2            36  42.349792 -71.077338              1.902449   \n3            10  42.350406 -71.108279              4.209433   \n4             9  42.351187 -71.115852              4.796679   \n..          ...        ...        ...                   ...   \n308         229  42.345033 -71.096649              3.532434   \n309         374  42.356683 -71.061666              0.441839   \n310         376  42.360274 -71.128525              5.737488   \n311         377  42.379273 -71.103419              4.243053   \n312         378  42.380323 -71.108786              4.685436   \n\n     boston_university_distance  fenway_park_distance  \\\n0                      1.312488              1.311493   \n1                      1.272305              1.902310   \n2                      2.313407              1.674192   \n3                      0.237541              1.001153   \n4                      0.864608              1.615064   \n..                          ...                   ...   \n308                    0.942848              0.188411   \n309                    3.667965              3.133033   \n310                    2.192714              2.989070   \n311                    3.199969              3.656769   \n312                    3.324186              3.857133   \n\n     harvard_university_distance  mit_distance  boston_common_distance  \\\n0                       2.196322      0.234932                2.246784   \n1                       1.321014      1.163583                3.525886   \n2                       3.757982      1.797120                1.114398   \n3                       2.580400      1.584456                3.514814   \n4                       2.541403      2.042611                4.121133   \n..                           ...           ...                     ...   \n308                     3.352443      1.685154                2.765277   \n309                     4.383297      2.703585                0.395249   \n310                     2.142643      2.831087                5.165596   \n311                     0.816101      2.263149                4.052775   \n312                     0.749679      2.549958                4.468208   \n\n     boston_public_garden_distance  newbury_street_distance  \\\n0                         1.861094                 1.220776   \n1                         3.153329                 2.427624   \n2                         0.669948                 0.500724   \n3                         3.067487                 2.049614   \n4                         3.679314                 2.676779   \n..                             ...                      ...   \n308                       2.304460                 1.214474   \n309                       0.856422                 1.946195   \n310                       4.764520                 3.892831   \n311                       3.866193                 3.660657   \n312                       4.260417                 3.978581   \n\n     south_station_distance  north_station_distance  \\\n0                  3.195646                2.760200   \n1                  4.483532                3.882721   \n2                  1.839755                2.198291   \n3                  4.374321                4.225473   \n4                  4.995049                4.774306   \n..                      ...                     ...   \n308                3.502844                3.703488   \n309                0.728667                0.988519   \n310                6.104186                5.573593   \n311                4.980976                3.792258   \n312                5.406497                4.244542   \n\n     back_bay_station_distance  idle_time_hours  \n0                     1.904668         0.185292  \n1                     3.149924         2.415799  \n2                     0.323908         0.333819  \n3                     2.747706         0.610715  \n4                     3.377621         0.786233  \n..                         ...              ...  \n308                   1.787130         0.000000  \n309                   1.521709         1.424251  \n310                   4.622995        10.969248  \n311                   4.240577         4.868800  \n312                   4.590774         6.520556  \n\n[313 rows x 15 columns]",
      "text/html": "<div>\n<style scoped>\n    .dataframe tbody tr th:only-of-type {\n        vertical-align: middle;\n    }\n\n    .dataframe tbody tr th {\n        vertical-align: top;\n    }\n\n    .dataframe thead th {\n        text-align: right;\n    }\n</style>\n<table border=\"1\" class=\"dataframe\">\n  <thead>\n    <tr style=\"text-align: right;\">\n      <th></th>\n      <th>station_id</th>\n      <th>lat</th>\n      <th>lon</th>\n      <th>city_center_distance</th>\n      <th>boston_university_distance</th>\n      <th>fenway_park_distance</th>\n      <th>harvard_university_distance</th>\n      <th>mit_distance</th>\n      <th>boston_common_distance</th>\n      <th>boston_public_garden_distance</th>\n      <th>newbury_street_distance</th>\n      <th>south_station_distance</th>\n      <th>north_station_distance</th>\n      <th>back_bay_station_distance</th>\n      <th>idle_time_hours</th>\n    </tr>\n  </thead>\n  <tbody>\n    <tr>\n      <th>0</th>\n      <td>67</td>\n      <td>42.358100</td>\n      <td>-71.093198</td>\n      <td>2.835790</td>\n      <td>1.312488</td>\n      <td>1.311493</td>\n      <td>2.196322</td>\n      <td>0.234932</td>\n      <td>2.246784</td>\n      <td>1.861094</td>\n      <td>1.220776</td>\n      <td>3.195646</td>\n      <td>2.760200</td>\n      <td>1.904668</td>\n      <td>0.185292</td>\n    </tr>\n    <tr>\n      <th>1</th>\n      <td>139</td>\n      <td>42.361780</td>\n      <td>-71.108100</td>\n      <td>4.059136</td>\n      <td>1.272305</td>\n      <td>1.902310</td>\n      <td>1.321014</td>\n      <td>1.163583</td>\n      <td>3.525886</td>\n      <td>3.153329</td>\n      <td>2.427624</td>\n      <td>4.483532</td>\n      <td>3.882721</td>\n      <td>3.149924</td>\n      <td>2.415799</td>\n    </tr>\n    <tr>\n      <th>2</th>\n      <td>36</td>\n      <td>42.349792</td>\n      <td>-71.077338</td>\n      <td>1.902449</td>\n      <td>2.313407</td>\n      <td>1.674192</td>\n      <td>3.757982</td>\n      <td>1.797120</td>\n      <td>1.114398</td>\n      <td>0.669948</td>\n      <td>0.500724</td>\n      <td>1.839755</td>\n      <td>2.198291</td>\n      <td>0.323908</td>\n      <td>0.333819</td>\n    </tr>\n    <tr>\n      <th>3</th>\n      <td>10</td>\n      <td>42.350406</td>\n      <td>-71.108279</td>\n      <td>4.209433</td>\n      <td>0.237541</td>\n      <td>1.001153</td>\n      <td>2.580400</td>\n      <td>1.584456</td>\n      <td>3.514814</td>\n      <td>3.067487</td>\n      <td>2.049614</td>\n      <td>4.374321</td>\n      <td>4.225473</td>\n      <td>2.747706</td>\n      <td>0.610715</td>\n    </tr>\n    <tr>\n      <th>4</th>\n      <td>9</td>\n      <td>42.351187</td>\n      <td>-71.115852</td>\n      <td>4.796679</td>\n      <td>0.864608</td>\n      <td>1.615064</td>\n      <td>2.541403</td>\n      <td>2.042611</td>\n      <td>4.121133</td>\n      <td>3.679314</td>\n      <td>2.676779</td>\n      <td>4.995049</td>\n      <td>4.774306</td>\n      <td>3.377621</td>\n      <td>0.786233</td>\n    </tr>\n    <tr>\n      <th>...</th>\n      <td>...</td>\n      <td>...</td>\n      <td>...</td>\n      <td>...</td>\n      <td>...</td>\n      <td>...</td>\n      <td>...</td>\n      <td>...</td>\n      <td>...</td>\n      <td>...</td>\n      <td>...</td>\n      <td>...</td>\n      <td>...</td>\n      <td>...</td>\n      <td>...</td>\n    </tr>\n    <tr>\n      <th>308</th>\n      <td>229</td>\n      <td>42.345033</td>\n      <td>-71.096649</td>\n      <td>3.532434</td>\n      <td>0.942848</td>\n      <td>0.188411</td>\n      <td>3.352443</td>\n      <td>1.685154</td>\n      <td>2.765277</td>\n      <td>2.304460</td>\n      <td>1.214474</td>\n      <td>3.502844</td>\n      <td>3.703488</td>\n      <td>1.787130</td>\n      <td>0.000000</td>\n    </tr>\n    <tr>\n      <th>309</th>\n      <td>374</td>\n      <td>42.356683</td>\n      <td>-71.061666</td>\n      <td>0.441839</td>\n      <td>3.667965</td>\n      <td>3.133033</td>\n      <td>4.383297</td>\n      <td>2.703585</td>\n      <td>0.395249</td>\n      <td>0.856422</td>\n      <td>1.946195</td>\n      <td>0.728667</td>\n      <td>0.988519</td>\n      <td>1.521709</td>\n      <td>1.424251</td>\n    </tr>\n    <tr>\n      <th>310</th>\n      <td>376</td>\n      <td>42.360274</td>\n      <td>-71.128525</td>\n      <td>5.737488</td>\n      <td>2.192714</td>\n      <td>2.989070</td>\n      <td>2.142643</td>\n      <td>2.831087</td>\n      <td>5.165596</td>\n      <td>4.764520</td>\n      <td>3.892831</td>\n      <td>6.104186</td>\n      <td>5.573593</td>\n      <td>4.622995</td>\n      <td>10.969248</td>\n    </tr>\n    <tr>\n      <th>311</th>\n      <td>377</td>\n      <td>42.379273</td>\n      <td>-71.103419</td>\n      <td>4.243053</td>\n      <td>3.199969</td>\n      <td>3.656769</td>\n      <td>0.816101</td>\n      <td>2.263149</td>\n      <td>4.052775</td>\n      <td>3.866193</td>\n      <td>3.660657</td>\n      <td>4.980976</td>\n      <td>3.792258</td>\n      <td>4.240577</td>\n      <td>4.868800</td>\n    </tr>\n    <tr>\n      <th>312</th>\n      <td>378</td>\n      <td>42.380323</td>\n      <td>-71.108786</td>\n      <td>4.685436</td>\n      <td>3.324186</td>\n      <td>3.857133</td>\n      <td>0.749679</td>\n      <td>2.549958</td>\n      <td>4.468208</td>\n      <td>4.260417</td>\n      <td>3.978581</td>\n      <td>5.406497</td>\n      <td>4.244542</td>\n      <td>4.590774</td>\n      <td>6.520556</td>\n    </tr>\n  </tbody>\n</table>\n<p>313 rows × 15 columns</p>\n</div>"
     },
     "execution_count": 34,
     "metadata": {},
     "output_type": "execute_result"
    }
   ],
   "source": [
    "merge = pd.merge(bluebikes_stations_dist, total_idle_time, left_on='station_id', right_on='start_station_id', how='inner')\n",
    "merge"
   ],
   "metadata": {
    "collapsed": false,
    "ExecuteTime": {
     "start_time": "2023-06-26T12:39:11.974408Z",
     "end_time": "2023-06-26T12:39:12.003966Z"
    }
   }
  },
  {
   "cell_type": "markdown",
   "source": [],
   "metadata": {
    "collapsed": false
   }
  },
  {
   "cell_type": "markdown",
   "source": [
    "Merge station_density data with the idle time to see if they correlate"
   ],
   "metadata": {
    "collapsed": false
   }
  },
  {
   "cell_type": "code",
   "execution_count": 39,
   "outputs": [
    {
     "data": {
      "text/plain": "     station_id        lat        lon                          geometry  \\\n0            67  42.358100 -71.093198  POINT (-7914058.600 5214772.943)   \n1           139  42.361780 -71.108100  POINT (-7915717.430 5215327.402)   \n2            36  42.349792 -71.077338  POINT (-7912293.113 5213521.392)   \n3            10  42.350406 -71.108279  POINT (-7915737.409 5213613.945)   \n4             9  42.351187 -71.115852  POINT (-7916580.435 5213731.525)   \n..          ...        ...        ...                               ...   \n308         229  42.345033 -71.096649  POINT (-7914442.783 5212804.682)   \n309         374  42.356683 -71.061666  POINT (-7910548.525 5214559.533)   \n310         376  42.360274 -71.128525  POINT (-7917991.131 5215100.408)   \n311         377  42.379273 -71.103419  POINT (-7915196.400 5217963.142)   \n312         378  42.380323 -71.108786  POINT (-7915793.863 5218121.391)   \n\n                                                buffer  station_density  \\\n0    POLYGON ((-7913058.600 5214772.943, -7913063.4...         0.954927   \n1    POLYGON ((-7914717.430 5215327.402, -7914722.2...         2.546473   \n2    POLYGON ((-7911293.113 5213521.392, -7911297.9...         2.864782   \n3    POLYGON ((-7914737.409 5213613.945, -7914742.2...         1.591546   \n4    POLYGON ((-7915580.435 5213731.525, -7915585.2...         1.273237   \n..                                                 ...              ...   \n308  POLYGON ((-7913442.783 5212804.682, -7913447.5...         3.501401   \n309  POLYGON ((-7909548.525 5214559.533, -7909553.3...         4.456328   \n310  POLYGON ((-7916991.131 5215100.408, -7916995.9...         0.636618   \n311  POLYGON ((-7914196.400 5217963.142, -7914201.2...         2.228164   \n312  POLYGON ((-7914793.863 5218121.391, -7914798.6...         2.546473   \n\n     idle_time_hours  \n0           0.185292  \n1           2.415799  \n2           0.333819  \n3           0.610715  \n4           0.786233  \n..               ...  \n308         0.000000  \n309         1.424251  \n310        10.969248  \n311         4.868800  \n312         6.520556  \n\n[313 rows x 7 columns]",
      "text/html": "<div>\n<style scoped>\n    .dataframe tbody tr th:only-of-type {\n        vertical-align: middle;\n    }\n\n    .dataframe tbody tr th {\n        vertical-align: top;\n    }\n\n    .dataframe thead th {\n        text-align: right;\n    }\n</style>\n<table border=\"1\" class=\"dataframe\">\n  <thead>\n    <tr style=\"text-align: right;\">\n      <th></th>\n      <th>station_id</th>\n      <th>lat</th>\n      <th>lon</th>\n      <th>geometry</th>\n      <th>buffer</th>\n      <th>station_density</th>\n      <th>idle_time_hours</th>\n    </tr>\n  </thead>\n  <tbody>\n    <tr>\n      <th>0</th>\n      <td>67</td>\n      <td>42.358100</td>\n      <td>-71.093198</td>\n      <td>POINT (-7914058.600 5214772.943)</td>\n      <td>POLYGON ((-7913058.600 5214772.943, -7913063.4...</td>\n      <td>0.954927</td>\n      <td>0.185292</td>\n    </tr>\n    <tr>\n      <th>1</th>\n      <td>139</td>\n      <td>42.361780</td>\n      <td>-71.108100</td>\n      <td>POINT (-7915717.430 5215327.402)</td>\n      <td>POLYGON ((-7914717.430 5215327.402, -7914722.2...</td>\n      <td>2.546473</td>\n      <td>2.415799</td>\n    </tr>\n    <tr>\n      <th>2</th>\n      <td>36</td>\n      <td>42.349792</td>\n      <td>-71.077338</td>\n      <td>POINT (-7912293.113 5213521.392)</td>\n      <td>POLYGON ((-7911293.113 5213521.392, -7911297.9...</td>\n      <td>2.864782</td>\n      <td>0.333819</td>\n    </tr>\n    <tr>\n      <th>3</th>\n      <td>10</td>\n      <td>42.350406</td>\n      <td>-71.108279</td>\n      <td>POINT (-7915737.409 5213613.945)</td>\n      <td>POLYGON ((-7914737.409 5213613.945, -7914742.2...</td>\n      <td>1.591546</td>\n      <td>0.610715</td>\n    </tr>\n    <tr>\n      <th>4</th>\n      <td>9</td>\n      <td>42.351187</td>\n      <td>-71.115852</td>\n      <td>POINT (-7916580.435 5213731.525)</td>\n      <td>POLYGON ((-7915580.435 5213731.525, -7915585.2...</td>\n      <td>1.273237</td>\n      <td>0.786233</td>\n    </tr>\n    <tr>\n      <th>...</th>\n      <td>...</td>\n      <td>...</td>\n      <td>...</td>\n      <td>...</td>\n      <td>...</td>\n      <td>...</td>\n      <td>...</td>\n    </tr>\n    <tr>\n      <th>308</th>\n      <td>229</td>\n      <td>42.345033</td>\n      <td>-71.096649</td>\n      <td>POINT (-7914442.783 5212804.682)</td>\n      <td>POLYGON ((-7913442.783 5212804.682, -7913447.5...</td>\n      <td>3.501401</td>\n      <td>0.000000</td>\n    </tr>\n    <tr>\n      <th>309</th>\n      <td>374</td>\n      <td>42.356683</td>\n      <td>-71.061666</td>\n      <td>POINT (-7910548.525 5214559.533)</td>\n      <td>POLYGON ((-7909548.525 5214559.533, -7909553.3...</td>\n      <td>4.456328</td>\n      <td>1.424251</td>\n    </tr>\n    <tr>\n      <th>310</th>\n      <td>376</td>\n      <td>42.360274</td>\n      <td>-71.128525</td>\n      <td>POINT (-7917991.131 5215100.408)</td>\n      <td>POLYGON ((-7916991.131 5215100.408, -7916995.9...</td>\n      <td>0.636618</td>\n      <td>10.969248</td>\n    </tr>\n    <tr>\n      <th>311</th>\n      <td>377</td>\n      <td>42.379273</td>\n      <td>-71.103419</td>\n      <td>POINT (-7915196.400 5217963.142)</td>\n      <td>POLYGON ((-7914196.400 5217963.142, -7914201.2...</td>\n      <td>2.228164</td>\n      <td>4.868800</td>\n    </tr>\n    <tr>\n      <th>312</th>\n      <td>378</td>\n      <td>42.380323</td>\n      <td>-71.108786</td>\n      <td>POINT (-7915793.863 5218121.391)</td>\n      <td>POLYGON ((-7914793.863 5218121.391, -7914798.6...</td>\n      <td>2.546473</td>\n      <td>6.520556</td>\n    </tr>\n  </tbody>\n</table>\n<p>313 rows × 7 columns</p>\n</div>"
     },
     "execution_count": 39,
     "metadata": {},
     "output_type": "execute_result"
    }
   ],
   "source": [
    "merge_geodata = pd.merge(geodata, total_idle_time, left_on='station_id', right_on='start_station_id', how='inner')\n",
    "merge_geodata"
   ],
   "metadata": {
    "collapsed": false,
    "ExecuteTime": {
     "start_time": "2023-06-26T12:41:40.402527Z",
     "end_time": "2023-06-26T12:41:40.444812Z"
    }
   }
  }
 ],
 "metadata": {
  "kernelspec": {
   "display_name": "Python 3",
   "language": "python",
   "name": "python3"
  },
  "language_info": {
   "codemirror_mode": {
    "name": "ipython",
    "version": 2
   },
   "file_extension": ".py",
   "mimetype": "text/x-python",
   "name": "python",
   "nbconvert_exporter": "python",
   "pygments_lexer": "ipython2",
   "version": "2.7.6"
  }
 },
 "nbformat": 4,
 "nbformat_minor": 0
}
