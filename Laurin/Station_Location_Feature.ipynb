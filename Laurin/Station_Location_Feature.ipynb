{
 "cells": [
  {
   "cell_type": "markdown",
   "source": [
    "## Station Location Features"
   ],
   "metadata": {
    "collapsed": false
   }
  },
  {
   "cell_type": "code",
   "execution_count": 1,
   "metadata": {
    "collapsed": true,
    "ExecuteTime": {
     "start_time": "2023-07-03T14:39:49.544505Z",
     "end_time": "2023-07-03T14:39:50.482556Z"
    }
   },
   "outputs": [],
   "source": [
    "import pandas as pd\n",
    "import Useful_functions_for_stations\n",
    "import matplotlib.pyplot as plt\n",
    "import seaborn as sns\n",
    "import folium\n",
    "from folium.plugins import HeatMap\n"
   ]
  },
  {
   "cell_type": "code",
   "execution_count": 2,
   "outputs": [
    {
     "data": {
      "text/plain": "                  start_time             end_time  start_station_id  \\\n0        2017-01-01 00:06:58  2017-01-01 00:12:49                67   \n1        2017-01-01 00:13:16  2017-01-01 00:28:07                36   \n2        2017-01-01 00:16:17  2017-01-01 00:44:10                36   \n3        2017-01-01 00:21:22  2017-01-01 00:33:50                46   \n4        2017-01-01 00:30:06  2017-01-01 00:40:28                10   \n...                      ...                  ...               ...   \n3081456  2018-12-31 23:05:54  2018-12-31 23:08:31                43   \n3081457  2018-12-31 23:31:50  2018-12-31 23:39:14               107   \n3081458  2018-12-31 23:48:46  2018-12-31 23:56:55                19   \n3081459  2018-12-31 23:54:16  2018-12-31 23:57:17               352   \n3081460  2018-12-31 23:54:38  2018-12-31 23:59:30               352   \n\n         end_station_id  bike_id  weekday        idle_time  \n0                   139      644        6                0  \n1                    10      230        6                0  \n2                     9      980        6                0  \n3                    19     1834        6                0  \n4                     8      230        6  0 days 00:01:59  \n...                 ...      ...      ...              ...  \n3081456              40     3050        0  0 days 05:03:27  \n3081457              90     2673        0  0 days 06:00:40  \n3081458             179     4440        0  0 days 06:07:52  \n3081459              36     3605        0  0 days 06:59:37  \n3081460              36     1372        0  0 days 06:59:59  \n\n[3081461 rows x 7 columns]",
      "text/html": "<div>\n<style scoped>\n    .dataframe tbody tr th:only-of-type {\n        vertical-align: middle;\n    }\n\n    .dataframe tbody tr th {\n        vertical-align: top;\n    }\n\n    .dataframe thead th {\n        text-align: right;\n    }\n</style>\n<table border=\"1\" class=\"dataframe\">\n  <thead>\n    <tr style=\"text-align: right;\">\n      <th></th>\n      <th>start_time</th>\n      <th>end_time</th>\n      <th>start_station_id</th>\n      <th>end_station_id</th>\n      <th>bike_id</th>\n      <th>weekday</th>\n      <th>idle_time</th>\n    </tr>\n  </thead>\n  <tbody>\n    <tr>\n      <th>0</th>\n      <td>2017-01-01 00:06:58</td>\n      <td>2017-01-01 00:12:49</td>\n      <td>67</td>\n      <td>139</td>\n      <td>644</td>\n      <td>6</td>\n      <td>0</td>\n    </tr>\n    <tr>\n      <th>1</th>\n      <td>2017-01-01 00:13:16</td>\n      <td>2017-01-01 00:28:07</td>\n      <td>36</td>\n      <td>10</td>\n      <td>230</td>\n      <td>6</td>\n      <td>0</td>\n    </tr>\n    <tr>\n      <th>2</th>\n      <td>2017-01-01 00:16:17</td>\n      <td>2017-01-01 00:44:10</td>\n      <td>36</td>\n      <td>9</td>\n      <td>980</td>\n      <td>6</td>\n      <td>0</td>\n    </tr>\n    <tr>\n      <th>3</th>\n      <td>2017-01-01 00:21:22</td>\n      <td>2017-01-01 00:33:50</td>\n      <td>46</td>\n      <td>19</td>\n      <td>1834</td>\n      <td>6</td>\n      <td>0</td>\n    </tr>\n    <tr>\n      <th>4</th>\n      <td>2017-01-01 00:30:06</td>\n      <td>2017-01-01 00:40:28</td>\n      <td>10</td>\n      <td>8</td>\n      <td>230</td>\n      <td>6</td>\n      <td>0 days 00:01:59</td>\n    </tr>\n    <tr>\n      <th>...</th>\n      <td>...</td>\n      <td>...</td>\n      <td>...</td>\n      <td>...</td>\n      <td>...</td>\n      <td>...</td>\n      <td>...</td>\n    </tr>\n    <tr>\n      <th>3081456</th>\n      <td>2018-12-31 23:05:54</td>\n      <td>2018-12-31 23:08:31</td>\n      <td>43</td>\n      <td>40</td>\n      <td>3050</td>\n      <td>0</td>\n      <td>0 days 05:03:27</td>\n    </tr>\n    <tr>\n      <th>3081457</th>\n      <td>2018-12-31 23:31:50</td>\n      <td>2018-12-31 23:39:14</td>\n      <td>107</td>\n      <td>90</td>\n      <td>2673</td>\n      <td>0</td>\n      <td>0 days 06:00:40</td>\n    </tr>\n    <tr>\n      <th>3081458</th>\n      <td>2018-12-31 23:48:46</td>\n      <td>2018-12-31 23:56:55</td>\n      <td>19</td>\n      <td>179</td>\n      <td>4440</td>\n      <td>0</td>\n      <td>0 days 06:07:52</td>\n    </tr>\n    <tr>\n      <th>3081459</th>\n      <td>2018-12-31 23:54:16</td>\n      <td>2018-12-31 23:57:17</td>\n      <td>352</td>\n      <td>36</td>\n      <td>3605</td>\n      <td>0</td>\n      <td>0 days 06:59:37</td>\n    </tr>\n    <tr>\n      <th>3081460</th>\n      <td>2018-12-31 23:54:38</td>\n      <td>2018-12-31 23:59:30</td>\n      <td>352</td>\n      <td>36</td>\n      <td>1372</td>\n      <td>0</td>\n      <td>0 days 06:59:59</td>\n    </tr>\n  </tbody>\n</table>\n<p>3081461 rows × 7 columns</p>\n</div>"
     },
     "execution_count": 2,
     "metadata": {},
     "output_type": "execute_result"
    }
   ],
   "source": [
    "bluebikes = pd.read_csv('C:/Users/lauri/PycharmProjects/DSML_Data/bluebikes_idle_time_v4.csv')\n",
    "bluebikes"
   ],
   "metadata": {
    "collapsed": false,
    "ExecuteTime": {
     "start_time": "2023-07-03T14:40:06.827749Z",
     "end_time": "2023-07-03T14:40:14.746796Z"
    }
   }
  },
  {
   "cell_type": "code",
   "execution_count": 3,
   "outputs": [
    {
     "data": {
      "text/plain": "   station_id        lat        lon\n0          67  42.358100 -71.093198\n1         139  42.361780 -71.108100\n2          36  42.349792 -71.077338\n3          10  42.350406 -71.108279\n4           9  42.351187 -71.115852",
      "text/html": "<div>\n<style scoped>\n    .dataframe tbody tr th:only-of-type {\n        vertical-align: middle;\n    }\n\n    .dataframe tbody tr th {\n        vertical-align: top;\n    }\n\n    .dataframe thead th {\n        text-align: right;\n    }\n</style>\n<table border=\"1\" class=\"dataframe\">\n  <thead>\n    <tr style=\"text-align: right;\">\n      <th></th>\n      <th>station_id</th>\n      <th>lat</th>\n      <th>lon</th>\n    </tr>\n  </thead>\n  <tbody>\n    <tr>\n      <th>0</th>\n      <td>67</td>\n      <td>42.358100</td>\n      <td>-71.093198</td>\n    </tr>\n    <tr>\n      <th>1</th>\n      <td>139</td>\n      <td>42.361780</td>\n      <td>-71.108100</td>\n    </tr>\n    <tr>\n      <th>2</th>\n      <td>36</td>\n      <td>42.349792</td>\n      <td>-71.077338</td>\n    </tr>\n    <tr>\n      <th>3</th>\n      <td>10</td>\n      <td>42.350406</td>\n      <td>-71.108279</td>\n    </tr>\n    <tr>\n      <th>4</th>\n      <td>9</td>\n      <td>42.351187</td>\n      <td>-71.115852</td>\n    </tr>\n  </tbody>\n</table>\n</div>"
     },
     "execution_count": 3,
     "metadata": {},
     "output_type": "execute_result"
    }
   ],
   "source": [
    "bluebikes_stations = pd.read_csv('C:/Users/lauri/PycharmProjects/DSML_Data/bluebikes_stations.csv')\n",
    "bluebikes_stations_dist = bluebikes_stations.copy()\n",
    "bluebikes_stations.head()"
   ],
   "metadata": {
    "collapsed": false,
    "ExecuteTime": {
     "start_time": "2023-07-03T14:40:17.643682Z",
     "end_time": "2023-07-03T14:40:17.737927Z"
    }
   }
  },
  {
   "cell_type": "markdown",
   "source": [
    "Density-based feature: Calculate density of stations within a certain radius around each station. High density might imply high competition which could lead to higher idle times."
   ],
   "metadata": {
    "collapsed": false
   }
  },
  {
   "cell_type": "code",
   "execution_count": 6,
   "outputs": [
    {
     "name": "stderr",
     "output_type": "stream",
     "text": [
      "C:\\Users\\lauri\\AppData\\Local\\Temp\\ipykernel_19016\\3713068787.py:1: UserWarning: Shapely 2.0 is installed, but because PyGEOS is also installed, GeoPandas will still use PyGEOS by default for now. To force to use and test Shapely 2.0, you have to set the environment variable USE_PYGEOS=0. You can do this before starting the Python process, or in your code before importing geopandas:\n",
      "\n",
      "import os\n",
      "os.environ['USE_PYGEOS'] = '0'\n",
      "import geopandas\n",
      "\n",
      "In a future release, GeoPandas will switch to using Shapely by default. If you are using PyGEOS directly (calling PyGEOS functions on geometries from GeoPandas), this will then stop working and you are encouraged to migrate from PyGEOS to Shapely 2.0 (https://shapely.readthedocs.io/en/latest/migration_pygeos.html).\n",
      "  import geopandas as gpd\n"
     ]
    }
   ],
   "source": [
    "import geopandas as gpd\n",
    "from shapely.geometry import Point\n",
    "from geopy.distance import geodesic"
   ],
   "metadata": {
    "collapsed": false,
    "ExecuteTime": {
     "start_time": "2023-07-03T14:40:36.383845Z",
     "end_time": "2023-07-03T14:40:37.091568Z"
    }
   }
  },
  {
   "cell_type": "code",
   "execution_count": 7,
   "outputs": [],
   "source": [
    "geodata = gpd.GeoDataFrame(bluebikes_stations, geometry = gpd.points_from_xy(bluebikes_stations.lon, bluebikes_stations.lat))\n",
    "\n",
    "geodata.set_crs(epsg=4326, inplace=True)\n",
    "\n",
    "geodata = geodata.to_crs(epsg=3857)\n",
    "\n",
    "buffer_radius = 1000 # = 1000 meter\n",
    "\n",
    "geodata['buffer'] = geodata['geometry'].buffer(buffer_radius)\n",
    "# Calculate number of stations within the radius around a station\n",
    "geodata['station_density'] = geodata.apply(lambda row: geodata.within(row['buffer']).sum() - 1, axis=1)\n",
    "# Convert station_density to per square km\n",
    "geodata['station_density'] = geodata['station_density'] / (3.1416* (buffer_radius/1000)**2)\n",
    "\n"
   ],
   "metadata": {
    "collapsed": false,
    "ExecuteTime": {
     "start_time": "2023-07-03T14:40:42.393478Z",
     "end_time": "2023-07-03T14:40:42.696972Z"
    }
   }
  },
  {
   "cell_type": "code",
   "execution_count": 8,
   "outputs": [
    {
     "data": {
      "text/plain": "     station_id        lat        lon                          geometry  \\\n0            67  42.358100 -71.093198  POINT (-7914058.600 5214772.943)   \n1           139  42.361780 -71.108100  POINT (-7915717.430 5215327.402)   \n2            36  42.349792 -71.077338  POINT (-7912293.113 5213521.392)   \n3            10  42.350406 -71.108279  POINT (-7915737.409 5213613.945)   \n4             9  42.351187 -71.115852  POINT (-7916580.435 5213731.525)   \n..          ...        ...        ...                               ...   \n308         229  42.345033 -71.096649  POINT (-7914442.783 5212804.682)   \n309         374  42.356683 -71.061666  POINT (-7910548.525 5214559.533)   \n310         376  42.360274 -71.128525  POINT (-7917991.131 5215100.408)   \n311         377  42.379273 -71.103419  POINT (-7915196.400 5217963.142)   \n312         378  42.380323 -71.108786  POINT (-7915793.863 5218121.391)   \n\n                                                buffer  station_density  \n0    POLYGON ((-7913058.600 5214772.943, -7913063.4...         0.954927  \n1    POLYGON ((-7914717.430 5215327.402, -7914722.2...         2.546473  \n2    POLYGON ((-7911293.113 5213521.392, -7911297.9...         2.864782  \n3    POLYGON ((-7914737.409 5213613.945, -7914742.2...         1.591546  \n4    POLYGON ((-7915580.435 5213731.525, -7915585.2...         1.273237  \n..                                                 ...              ...  \n308  POLYGON ((-7913442.783 5212804.682, -7913447.5...         3.501401  \n309  POLYGON ((-7909548.525 5214559.533, -7909553.3...         4.456328  \n310  POLYGON ((-7916991.131 5215100.408, -7916995.9...         0.636618  \n311  POLYGON ((-7914196.400 5217963.142, -7914201.2...         2.228164  \n312  POLYGON ((-7914793.863 5218121.391, -7914798.6...         2.546473  \n\n[313 rows x 6 columns]",
      "text/html": "<div>\n<style scoped>\n    .dataframe tbody tr th:only-of-type {\n        vertical-align: middle;\n    }\n\n    .dataframe tbody tr th {\n        vertical-align: top;\n    }\n\n    .dataframe thead th {\n        text-align: right;\n    }\n</style>\n<table border=\"1\" class=\"dataframe\">\n  <thead>\n    <tr style=\"text-align: right;\">\n      <th></th>\n      <th>station_id</th>\n      <th>lat</th>\n      <th>lon</th>\n      <th>geometry</th>\n      <th>buffer</th>\n      <th>station_density</th>\n    </tr>\n  </thead>\n  <tbody>\n    <tr>\n      <th>0</th>\n      <td>67</td>\n      <td>42.358100</td>\n      <td>-71.093198</td>\n      <td>POINT (-7914058.600 5214772.943)</td>\n      <td>POLYGON ((-7913058.600 5214772.943, -7913063.4...</td>\n      <td>0.954927</td>\n    </tr>\n    <tr>\n      <th>1</th>\n      <td>139</td>\n      <td>42.361780</td>\n      <td>-71.108100</td>\n      <td>POINT (-7915717.430 5215327.402)</td>\n      <td>POLYGON ((-7914717.430 5215327.402, -7914722.2...</td>\n      <td>2.546473</td>\n    </tr>\n    <tr>\n      <th>2</th>\n      <td>36</td>\n      <td>42.349792</td>\n      <td>-71.077338</td>\n      <td>POINT (-7912293.113 5213521.392)</td>\n      <td>POLYGON ((-7911293.113 5213521.392, -7911297.9...</td>\n      <td>2.864782</td>\n    </tr>\n    <tr>\n      <th>3</th>\n      <td>10</td>\n      <td>42.350406</td>\n      <td>-71.108279</td>\n      <td>POINT (-7915737.409 5213613.945)</td>\n      <td>POLYGON ((-7914737.409 5213613.945, -7914742.2...</td>\n      <td>1.591546</td>\n    </tr>\n    <tr>\n      <th>4</th>\n      <td>9</td>\n      <td>42.351187</td>\n      <td>-71.115852</td>\n      <td>POINT (-7916580.435 5213731.525)</td>\n      <td>POLYGON ((-7915580.435 5213731.525, -7915585.2...</td>\n      <td>1.273237</td>\n    </tr>\n    <tr>\n      <th>...</th>\n      <td>...</td>\n      <td>...</td>\n      <td>...</td>\n      <td>...</td>\n      <td>...</td>\n      <td>...</td>\n    </tr>\n    <tr>\n      <th>308</th>\n      <td>229</td>\n      <td>42.345033</td>\n      <td>-71.096649</td>\n      <td>POINT (-7914442.783 5212804.682)</td>\n      <td>POLYGON ((-7913442.783 5212804.682, -7913447.5...</td>\n      <td>3.501401</td>\n    </tr>\n    <tr>\n      <th>309</th>\n      <td>374</td>\n      <td>42.356683</td>\n      <td>-71.061666</td>\n      <td>POINT (-7910548.525 5214559.533)</td>\n      <td>POLYGON ((-7909548.525 5214559.533, -7909553.3...</td>\n      <td>4.456328</td>\n    </tr>\n    <tr>\n      <th>310</th>\n      <td>376</td>\n      <td>42.360274</td>\n      <td>-71.128525</td>\n      <td>POINT (-7917991.131 5215100.408)</td>\n      <td>POLYGON ((-7916991.131 5215100.408, -7916995.9...</td>\n      <td>0.636618</td>\n    </tr>\n    <tr>\n      <th>311</th>\n      <td>377</td>\n      <td>42.379273</td>\n      <td>-71.103419</td>\n      <td>POINT (-7915196.400 5217963.142)</td>\n      <td>POLYGON ((-7914196.400 5217963.142, -7914201.2...</td>\n      <td>2.228164</td>\n    </tr>\n    <tr>\n      <th>312</th>\n      <td>378</td>\n      <td>42.380323</td>\n      <td>-71.108786</td>\n      <td>POINT (-7915793.863 5218121.391)</td>\n      <td>POLYGON ((-7914793.863 5218121.391, -7914798.6...</td>\n      <td>2.546473</td>\n    </tr>\n  </tbody>\n</table>\n<p>313 rows × 6 columns</p>\n</div>"
     },
     "execution_count": 8,
     "metadata": {},
     "output_type": "execute_result"
    }
   ],
   "source": [
    "geodata"
   ],
   "metadata": {
    "collapsed": false,
    "ExecuteTime": {
     "start_time": "2023-07-03T14:40:45.212810Z",
     "end_time": "2023-07-03T14:40:45.275298Z"
    }
   }
  },
  {
   "cell_type": "markdown",
   "source": [
    "Distance-based feature: There are important locations in Boston like the City_center,the universities or popular train stations. Bike stations closer to those locations might be used more frequently which could lead to lower idle times"
   ],
   "metadata": {
    "collapsed": false
   }
  },
  {
   "cell_type": "code",
   "execution_count": 9,
   "outputs": [
    {
     "data": {
      "text/plain": "     station_id        lat        lon  city_center_distance  \\\n0            67  42.358100 -71.093198              2.835790   \n1           139  42.361780 -71.108100              4.059136   \n2            36  42.349792 -71.077338              1.902449   \n3            10  42.350406 -71.108279              4.209433   \n4             9  42.351187 -71.115852              4.796679   \n..          ...        ...        ...                   ...   \n308         229  42.345033 -71.096649              3.532434   \n309         374  42.356683 -71.061666              0.441839   \n310         376  42.360274 -71.128525              5.737488   \n311         377  42.379273 -71.103419              4.243053   \n312         378  42.380323 -71.108786              4.685436   \n\n     boston_university_distance  fenway_park_distance  \\\n0                      1.312488              1.311493   \n1                      1.272305              1.902310   \n2                      2.313407              1.674192   \n3                      0.237541              1.001153   \n4                      0.864608              1.615064   \n..                          ...                   ...   \n308                    0.942848              0.188411   \n309                    3.667965              3.133033   \n310                    2.192714              2.989070   \n311                    3.199969              3.656769   \n312                    3.324186              3.857133   \n\n     harvard_university_distance  mit_distance  boston_common_distance  \\\n0                       2.196322      0.234932                2.246784   \n1                       1.321014      1.163583                3.525886   \n2                       3.757982      1.797120                1.114398   \n3                       2.580400      1.584456                3.514814   \n4                       2.541403      2.042611                4.121133   \n..                           ...           ...                     ...   \n308                     3.352443      1.685154                2.765277   \n309                     4.383297      2.703585                0.395249   \n310                     2.142643      2.831087                5.165596   \n311                     0.816101      2.263149                4.052775   \n312                     0.749679      2.549958                4.468208   \n\n     boston_public_garden_distance  newbury_street_distance  \\\n0                         1.861094                 1.220776   \n1                         3.153329                 2.427624   \n2                         0.669948                 0.500724   \n3                         3.067487                 2.049614   \n4                         3.679314                 2.676779   \n..                             ...                      ...   \n308                       2.304460                 1.214474   \n309                       0.856422                 1.946195   \n310                       4.764520                 3.892831   \n311                       3.866193                 3.660657   \n312                       4.260417                 3.978581   \n\n     south_station_distance  north_station_distance  back_bay_station_distance  \n0                  3.195646                2.760200                   1.904668  \n1                  4.483532                3.882721                   3.149924  \n2                  1.839755                2.198291                   0.323908  \n3                  4.374321                4.225473                   2.747706  \n4                  4.995049                4.774306                   3.377621  \n..                      ...                     ...                        ...  \n308                3.502844                3.703488                   1.787130  \n309                0.728667                0.988519                   1.521709  \n310                6.104186                5.573593                   4.622995  \n311                4.980976                3.792258                   4.240577  \n312                5.406497                4.244542                   4.590774  \n\n[313 rows x 14 columns]",
      "text/html": "<div>\n<style scoped>\n    .dataframe tbody tr th:only-of-type {\n        vertical-align: middle;\n    }\n\n    .dataframe tbody tr th {\n        vertical-align: top;\n    }\n\n    .dataframe thead th {\n        text-align: right;\n    }\n</style>\n<table border=\"1\" class=\"dataframe\">\n  <thead>\n    <tr style=\"text-align: right;\">\n      <th></th>\n      <th>station_id</th>\n      <th>lat</th>\n      <th>lon</th>\n      <th>city_center_distance</th>\n      <th>boston_university_distance</th>\n      <th>fenway_park_distance</th>\n      <th>harvard_university_distance</th>\n      <th>mit_distance</th>\n      <th>boston_common_distance</th>\n      <th>boston_public_garden_distance</th>\n      <th>newbury_street_distance</th>\n      <th>south_station_distance</th>\n      <th>north_station_distance</th>\n      <th>back_bay_station_distance</th>\n    </tr>\n  </thead>\n  <tbody>\n    <tr>\n      <th>0</th>\n      <td>67</td>\n      <td>42.358100</td>\n      <td>-71.093198</td>\n      <td>2.835790</td>\n      <td>1.312488</td>\n      <td>1.311493</td>\n      <td>2.196322</td>\n      <td>0.234932</td>\n      <td>2.246784</td>\n      <td>1.861094</td>\n      <td>1.220776</td>\n      <td>3.195646</td>\n      <td>2.760200</td>\n      <td>1.904668</td>\n    </tr>\n    <tr>\n      <th>1</th>\n      <td>139</td>\n      <td>42.361780</td>\n      <td>-71.108100</td>\n      <td>4.059136</td>\n      <td>1.272305</td>\n      <td>1.902310</td>\n      <td>1.321014</td>\n      <td>1.163583</td>\n      <td>3.525886</td>\n      <td>3.153329</td>\n      <td>2.427624</td>\n      <td>4.483532</td>\n      <td>3.882721</td>\n      <td>3.149924</td>\n    </tr>\n    <tr>\n      <th>2</th>\n      <td>36</td>\n      <td>42.349792</td>\n      <td>-71.077338</td>\n      <td>1.902449</td>\n      <td>2.313407</td>\n      <td>1.674192</td>\n      <td>3.757982</td>\n      <td>1.797120</td>\n      <td>1.114398</td>\n      <td>0.669948</td>\n      <td>0.500724</td>\n      <td>1.839755</td>\n      <td>2.198291</td>\n      <td>0.323908</td>\n    </tr>\n    <tr>\n      <th>3</th>\n      <td>10</td>\n      <td>42.350406</td>\n      <td>-71.108279</td>\n      <td>4.209433</td>\n      <td>0.237541</td>\n      <td>1.001153</td>\n      <td>2.580400</td>\n      <td>1.584456</td>\n      <td>3.514814</td>\n      <td>3.067487</td>\n      <td>2.049614</td>\n      <td>4.374321</td>\n      <td>4.225473</td>\n      <td>2.747706</td>\n    </tr>\n    <tr>\n      <th>4</th>\n      <td>9</td>\n      <td>42.351187</td>\n      <td>-71.115852</td>\n      <td>4.796679</td>\n      <td>0.864608</td>\n      <td>1.615064</td>\n      <td>2.541403</td>\n      <td>2.042611</td>\n      <td>4.121133</td>\n      <td>3.679314</td>\n      <td>2.676779</td>\n      <td>4.995049</td>\n      <td>4.774306</td>\n      <td>3.377621</td>\n    </tr>\n    <tr>\n      <th>...</th>\n      <td>...</td>\n      <td>...</td>\n      <td>...</td>\n      <td>...</td>\n      <td>...</td>\n      <td>...</td>\n      <td>...</td>\n      <td>...</td>\n      <td>...</td>\n      <td>...</td>\n      <td>...</td>\n      <td>...</td>\n      <td>...</td>\n      <td>...</td>\n    </tr>\n    <tr>\n      <th>308</th>\n      <td>229</td>\n      <td>42.345033</td>\n      <td>-71.096649</td>\n      <td>3.532434</td>\n      <td>0.942848</td>\n      <td>0.188411</td>\n      <td>3.352443</td>\n      <td>1.685154</td>\n      <td>2.765277</td>\n      <td>2.304460</td>\n      <td>1.214474</td>\n      <td>3.502844</td>\n      <td>3.703488</td>\n      <td>1.787130</td>\n    </tr>\n    <tr>\n      <th>309</th>\n      <td>374</td>\n      <td>42.356683</td>\n      <td>-71.061666</td>\n      <td>0.441839</td>\n      <td>3.667965</td>\n      <td>3.133033</td>\n      <td>4.383297</td>\n      <td>2.703585</td>\n      <td>0.395249</td>\n      <td>0.856422</td>\n      <td>1.946195</td>\n      <td>0.728667</td>\n      <td>0.988519</td>\n      <td>1.521709</td>\n    </tr>\n    <tr>\n      <th>310</th>\n      <td>376</td>\n      <td>42.360274</td>\n      <td>-71.128525</td>\n      <td>5.737488</td>\n      <td>2.192714</td>\n      <td>2.989070</td>\n      <td>2.142643</td>\n      <td>2.831087</td>\n      <td>5.165596</td>\n      <td>4.764520</td>\n      <td>3.892831</td>\n      <td>6.104186</td>\n      <td>5.573593</td>\n      <td>4.622995</td>\n    </tr>\n    <tr>\n      <th>311</th>\n      <td>377</td>\n      <td>42.379273</td>\n      <td>-71.103419</td>\n      <td>4.243053</td>\n      <td>3.199969</td>\n      <td>3.656769</td>\n      <td>0.816101</td>\n      <td>2.263149</td>\n      <td>4.052775</td>\n      <td>3.866193</td>\n      <td>3.660657</td>\n      <td>4.980976</td>\n      <td>3.792258</td>\n      <td>4.240577</td>\n    </tr>\n    <tr>\n      <th>312</th>\n      <td>378</td>\n      <td>42.380323</td>\n      <td>-71.108786</td>\n      <td>4.685436</td>\n      <td>3.324186</td>\n      <td>3.857133</td>\n      <td>0.749679</td>\n      <td>2.549958</td>\n      <td>4.468208</td>\n      <td>4.260417</td>\n      <td>3.978581</td>\n      <td>5.406497</td>\n      <td>4.244542</td>\n      <td>4.590774</td>\n    </tr>\n  </tbody>\n</table>\n<p>313 rows × 14 columns</p>\n</div>"
     },
     "execution_count": 9,
     "metadata": {},
     "output_type": "execute_result"
    }
   ],
   "source": [
    "# Important locations in Boston\n",
    "locations = {\n",
    "    'city_center': (42.360082, -71.058880), # Boston City Center\n",
    "    'boston_university': (42.350503, -71.105399), # Boston University\n",
    "    'fenway_park': (42.346676, -71.097218), # Fenway Park\n",
    "    'harvard_university': (42.373611, -71.109733), # Harvard University\n",
    "    'mit': (42.360091, -71.094160), # Massachusetts Institute of Technology\n",
    "    'boston_common': (42.355443, -71.066163), # Boston Common: public park in downtown\n",
    "    'boston_public_garden': (42.353865, -71.071342), # Boston Public Garden\n",
    "    'newbury_street': (42.349846, -71.083415), # Newbury Street (shopping district)\n",
    "    'south_station': (42.352175, -71.055242), # South Station (major train/subway station)\n",
    "    'north_station': (42.365577, -71.061245), # North Station (major train/subway station)\n",
    "    'back_bay_station': (42.347351, -71.075187), # Back Bay Station (major train/subway station)\n",
    "}\n",
    "# Calculate distance to each location\n",
    "for loc_name, loc_coord in locations.items():\n",
    "    bluebikes_stations_dist[loc_name + '_distance'] = bluebikes_stations_dist.apply(lambda row: geodesic((row['lat'], row['lon']), loc_coord).km, axis=1)\n",
    "\n",
    "bluebikes_stations_dist"
   ],
   "metadata": {
    "collapsed": false,
    "ExecuteTime": {
     "start_time": "2023-07-03T14:40:49.033655Z",
     "end_time": "2023-07-03T14:40:50.387725Z"
    }
   }
  },
  {
   "cell_type": "markdown",
   "source": [
    "Stations with lowest distance to north station: 22, 192 59 35 64 48 157 81 365 302 43 151 374 54 23 218 20 7 24 49"
   ],
   "metadata": {
    "collapsed": false
   }
  },
  {
   "cell_type": "code",
   "execution_count": 15,
   "outputs": [
    {
     "data": {
      "text/plain": "     station_id        lat        lon  mit_distance\n0            67  42.358100 -71.093198      0.234932\n1           139  42.361780 -71.108100      1.163583\n2            36  42.349792 -71.077338      1.797120\n3            10  42.350406 -71.108279      1.584456\n4             9  42.351187 -71.115852      2.042611\n..          ...        ...        ...           ...\n308         229  42.345033 -71.096649      1.685154\n309         374  42.356683 -71.061666      2.703585\n310         376  42.360274 -71.128525      2.831087\n311         377  42.379273 -71.103419      2.263149\n312         378  42.380323 -71.108786      2.549958\n\n[313 rows x 4 columns]",
      "text/html": "<div>\n<style scoped>\n    .dataframe tbody tr th:only-of-type {\n        vertical-align: middle;\n    }\n\n    .dataframe tbody tr th {\n        vertical-align: top;\n    }\n\n    .dataframe thead th {\n        text-align: right;\n    }\n</style>\n<table border=\"1\" class=\"dataframe\">\n  <thead>\n    <tr style=\"text-align: right;\">\n      <th></th>\n      <th>station_id</th>\n      <th>lat</th>\n      <th>lon</th>\n      <th>mit_distance</th>\n    </tr>\n  </thead>\n  <tbody>\n    <tr>\n      <th>0</th>\n      <td>67</td>\n      <td>42.358100</td>\n      <td>-71.093198</td>\n      <td>0.234932</td>\n    </tr>\n    <tr>\n      <th>1</th>\n      <td>139</td>\n      <td>42.361780</td>\n      <td>-71.108100</td>\n      <td>1.163583</td>\n    </tr>\n    <tr>\n      <th>2</th>\n      <td>36</td>\n      <td>42.349792</td>\n      <td>-71.077338</td>\n      <td>1.797120</td>\n    </tr>\n    <tr>\n      <th>3</th>\n      <td>10</td>\n      <td>42.350406</td>\n      <td>-71.108279</td>\n      <td>1.584456</td>\n    </tr>\n    <tr>\n      <th>4</th>\n      <td>9</td>\n      <td>42.351187</td>\n      <td>-71.115852</td>\n      <td>2.042611</td>\n    </tr>\n    <tr>\n      <th>...</th>\n      <td>...</td>\n      <td>...</td>\n      <td>...</td>\n      <td>...</td>\n    </tr>\n    <tr>\n      <th>308</th>\n      <td>229</td>\n      <td>42.345033</td>\n      <td>-71.096649</td>\n      <td>1.685154</td>\n    </tr>\n    <tr>\n      <th>309</th>\n      <td>374</td>\n      <td>42.356683</td>\n      <td>-71.061666</td>\n      <td>2.703585</td>\n    </tr>\n    <tr>\n      <th>310</th>\n      <td>376</td>\n      <td>42.360274</td>\n      <td>-71.128525</td>\n      <td>2.831087</td>\n    </tr>\n    <tr>\n      <th>311</th>\n      <td>377</td>\n      <td>42.379273</td>\n      <td>-71.103419</td>\n      <td>2.263149</td>\n    </tr>\n    <tr>\n      <th>312</th>\n      <td>378</td>\n      <td>42.380323</td>\n      <td>-71.108786</td>\n      <td>2.549958</td>\n    </tr>\n  </tbody>\n</table>\n<p>313 rows × 4 columns</p>\n</div>"
     },
     "execution_count": 15,
     "metadata": {},
     "output_type": "execute_result"
    }
   ],
   "source": [],
   "metadata": {
    "collapsed": false,
    "ExecuteTime": {
     "start_time": "2023-07-02T16:04:14.166664Z",
     "end_time": "2023-07-02T16:04:14.182290Z"
    }
   }
  },
  {
   "cell_type": "code",
   "execution_count": 12,
   "outputs": [],
   "source": [
    "# Convert idle_time to timedelta type\n",
    "bluebikes['idle_time'] = pd.to_timedelta(bluebikes['idle_time'])\n",
    "\n",
    "# Convert idle_time to minutes\n",
    "bluebikes['idle_time_hours'] = bluebikes['idle_time'].dt.total_seconds() / 3600\n"
   ],
   "metadata": {
    "collapsed": false,
    "ExecuteTime": {
     "start_time": "2023-07-03T14:48:16.343601Z",
     "end_time": "2023-07-03T14:48:29.260725Z"
    }
   }
  },
  {
   "cell_type": "code",
   "execution_count": 18,
   "outputs": [
    {
     "name": "stderr",
     "output_type": "stream",
     "text": [
      "C:\\Users\\lauri\\AppData\\Local\\Temp\\ipykernel_19016\\2153567739.py:1: FutureWarning: The default value of numeric_only in DataFrame.quantile is deprecated. In a future version, it will default to False. Select only valid columns or specify the value of numeric_only to silence this warning.\n",
      "  bluebikes.quantile(0.95)\n"
     ]
    }
   ],
   "source": [
    "bluebikes.quantile(0.95)\n",
    "# Remove highest idle times: top 5%\n",
    "bluebikes = bluebikes[bluebikes['idle_time'] <= pd.Timedelta(hours=8)]"
   ],
   "metadata": {
    "collapsed": false,
    "ExecuteTime": {
     "start_time": "2023-07-03T14:59:34.850233Z",
     "end_time": "2023-07-03T14:59:35.626120Z"
    }
   }
  },
  {
   "cell_type": "markdown",
   "source": [
    "Merge the two tables and compare the idle times with the calculated distances."
   ],
   "metadata": {
    "collapsed": false
   }
  },
  {
   "cell_type": "code",
   "execution_count": 19,
   "outputs": [
    {
     "data": {
      "text/plain": "         station_id        lat        lon  city_center_distance  \\\n0                67  42.358100 -71.093198              2.835790   \n1                67  42.358100 -71.093198              2.835790   \n2                67  42.358100 -71.093198              2.835790   \n3                67  42.358100 -71.093198              2.835790   \n4                67  42.358100 -71.093198              2.835790   \n...             ...        ...        ...                   ...   \n2915702         378  42.380323 -71.108786              4.685436   \n2915703         378  42.380323 -71.108786              4.685436   \n2915704         378  42.380323 -71.108786              4.685436   \n2915705         378  42.380323 -71.108786              4.685436   \n2915706         378  42.380323 -71.108786              4.685436   \n\n         boston_university_distance  fenway_park_distance  \\\n0                          1.312488              1.311493   \n1                          1.312488              1.311493   \n2                          1.312488              1.311493   \n3                          1.312488              1.311493   \n4                          1.312488              1.311493   \n...                             ...                   ...   \n2915702                    3.324186              3.857133   \n2915703                    3.324186              3.857133   \n2915704                    3.324186              3.857133   \n2915705                    3.324186              3.857133   \n2915706                    3.324186              3.857133   \n\n         harvard_university_distance  mit_distance  boston_common_distance  \\\n0                           2.196322      0.234932                2.246784   \n1                           2.196322      0.234932                2.246784   \n2                           2.196322      0.234932                2.246784   \n3                           2.196322      0.234932                2.246784   \n4                           2.196322      0.234932                2.246784   \n...                              ...           ...                     ...   \n2915702                     0.749679      2.549958                4.468208   \n2915703                     0.749679      2.549958                4.468208   \n2915704                     0.749679      2.549958                4.468208   \n2915705                     0.749679      2.549958                4.468208   \n2915706                     0.749679      2.549958                4.468208   \n\n         boston_public_garden_distance  ...  north_station_distance  \\\n0                             1.861094  ...                2.760200   \n1                             1.861094  ...                2.760200   \n2                             1.861094  ...                2.760200   \n3                             1.861094  ...                2.760200   \n4                             1.861094  ...                2.760200   \n...                                ...  ...                     ...   \n2915702                       4.260417  ...                4.244542   \n2915703                       4.260417  ...                4.244542   \n2915704                       4.260417  ...                4.244542   \n2915705                       4.260417  ...                4.244542   \n2915706                       4.260417  ...                4.244542   \n\n         back_bay_station_distance           start_time             end_time  \\\n0                         1.904668  2017-01-01 00:06:58  2017-01-01 00:12:49   \n1                         1.904668  2017-01-01 00:42:04  2017-01-01 00:46:25   \n2                         1.904668  2017-01-01 03:00:00  2017-01-01 03:03:45   \n3                         1.904668  2017-01-01 04:03:37  2017-01-01 04:24:27   \n4                         1.904668  2017-01-01 11:10:04  2017-01-01 11:31:10   \n...                            ...                  ...                  ...   \n2915702                   4.590774  2018-12-30 19:11:40  2018-12-30 19:16:33   \n2915703                   4.590774  2018-12-31 16:33:23  2018-12-31 16:43:30   \n2915704                   4.590774  2018-12-31 18:40:51  2018-12-31 18:47:26   \n2915705                   4.590774  2018-12-31 18:58:43  2018-12-31 19:27:07   \n2915706                   4.590774  2018-12-31 19:54:12  2018-12-31 19:58:39   \n\n        start_station_id end_station_id  bike_id  weekday       idle_time  \\\n0                     67            139      644        6 0 days 00:00:00   \n1                     67            179     1102        6 0 days 00:00:00   \n2                     67            178      972        6 0 days 01:34:03   \n3                     67             67      532        6 0 days 02:37:40   \n4                     67             74      532        6 0 days 00:12:15   \n...                  ...            ...      ...      ...             ...   \n2915702              378            115     2644        6 0 days 03:46:21   \n2915703              378            145     3988        0 0 days 01:25:14   \n2915704              378             78     2563        0 0 days 00:26:08   \n2915705              378            338     3838        0 0 days 00:44:00   \n2915706              378             88     2194        0 0 days 01:39:29   \n\n         idle_time_hours  \n0               0.000000  \n1               0.000000  \n2               1.567500  \n3               2.627778  \n4               0.204167  \n...                  ...  \n2915702         3.772500  \n2915703         1.420556  \n2915704         0.435556  \n2915705         0.733333  \n2915706         1.658056  \n\n[2915707 rows x 22 columns]",
      "text/html": "<div>\n<style scoped>\n    .dataframe tbody tr th:only-of-type {\n        vertical-align: middle;\n    }\n\n    .dataframe tbody tr th {\n        vertical-align: top;\n    }\n\n    .dataframe thead th {\n        text-align: right;\n    }\n</style>\n<table border=\"1\" class=\"dataframe\">\n  <thead>\n    <tr style=\"text-align: right;\">\n      <th></th>\n      <th>station_id</th>\n      <th>lat</th>\n      <th>lon</th>\n      <th>city_center_distance</th>\n      <th>boston_university_distance</th>\n      <th>fenway_park_distance</th>\n      <th>harvard_university_distance</th>\n      <th>mit_distance</th>\n      <th>boston_common_distance</th>\n      <th>boston_public_garden_distance</th>\n      <th>...</th>\n      <th>north_station_distance</th>\n      <th>back_bay_station_distance</th>\n      <th>start_time</th>\n      <th>end_time</th>\n      <th>start_station_id</th>\n      <th>end_station_id</th>\n      <th>bike_id</th>\n      <th>weekday</th>\n      <th>idle_time</th>\n      <th>idle_time_hours</th>\n    </tr>\n  </thead>\n  <tbody>\n    <tr>\n      <th>0</th>\n      <td>67</td>\n      <td>42.358100</td>\n      <td>-71.093198</td>\n      <td>2.835790</td>\n      <td>1.312488</td>\n      <td>1.311493</td>\n      <td>2.196322</td>\n      <td>0.234932</td>\n      <td>2.246784</td>\n      <td>1.861094</td>\n      <td>...</td>\n      <td>2.760200</td>\n      <td>1.904668</td>\n      <td>2017-01-01 00:06:58</td>\n      <td>2017-01-01 00:12:49</td>\n      <td>67</td>\n      <td>139</td>\n      <td>644</td>\n      <td>6</td>\n      <td>0 days 00:00:00</td>\n      <td>0.000000</td>\n    </tr>\n    <tr>\n      <th>1</th>\n      <td>67</td>\n      <td>42.358100</td>\n      <td>-71.093198</td>\n      <td>2.835790</td>\n      <td>1.312488</td>\n      <td>1.311493</td>\n      <td>2.196322</td>\n      <td>0.234932</td>\n      <td>2.246784</td>\n      <td>1.861094</td>\n      <td>...</td>\n      <td>2.760200</td>\n      <td>1.904668</td>\n      <td>2017-01-01 00:42:04</td>\n      <td>2017-01-01 00:46:25</td>\n      <td>67</td>\n      <td>179</td>\n      <td>1102</td>\n      <td>6</td>\n      <td>0 days 00:00:00</td>\n      <td>0.000000</td>\n    </tr>\n    <tr>\n      <th>2</th>\n      <td>67</td>\n      <td>42.358100</td>\n      <td>-71.093198</td>\n      <td>2.835790</td>\n      <td>1.312488</td>\n      <td>1.311493</td>\n      <td>2.196322</td>\n      <td>0.234932</td>\n      <td>2.246784</td>\n      <td>1.861094</td>\n      <td>...</td>\n      <td>2.760200</td>\n      <td>1.904668</td>\n      <td>2017-01-01 03:00:00</td>\n      <td>2017-01-01 03:03:45</td>\n      <td>67</td>\n      <td>178</td>\n      <td>972</td>\n      <td>6</td>\n      <td>0 days 01:34:03</td>\n      <td>1.567500</td>\n    </tr>\n    <tr>\n      <th>3</th>\n      <td>67</td>\n      <td>42.358100</td>\n      <td>-71.093198</td>\n      <td>2.835790</td>\n      <td>1.312488</td>\n      <td>1.311493</td>\n      <td>2.196322</td>\n      <td>0.234932</td>\n      <td>2.246784</td>\n      <td>1.861094</td>\n      <td>...</td>\n      <td>2.760200</td>\n      <td>1.904668</td>\n      <td>2017-01-01 04:03:37</td>\n      <td>2017-01-01 04:24:27</td>\n      <td>67</td>\n      <td>67</td>\n      <td>532</td>\n      <td>6</td>\n      <td>0 days 02:37:40</td>\n      <td>2.627778</td>\n    </tr>\n    <tr>\n      <th>4</th>\n      <td>67</td>\n      <td>42.358100</td>\n      <td>-71.093198</td>\n      <td>2.835790</td>\n      <td>1.312488</td>\n      <td>1.311493</td>\n      <td>2.196322</td>\n      <td>0.234932</td>\n      <td>2.246784</td>\n      <td>1.861094</td>\n      <td>...</td>\n      <td>2.760200</td>\n      <td>1.904668</td>\n      <td>2017-01-01 11:10:04</td>\n      <td>2017-01-01 11:31:10</td>\n      <td>67</td>\n      <td>74</td>\n      <td>532</td>\n      <td>6</td>\n      <td>0 days 00:12:15</td>\n      <td>0.204167</td>\n    </tr>\n    <tr>\n      <th>...</th>\n      <td>...</td>\n      <td>...</td>\n      <td>...</td>\n      <td>...</td>\n      <td>...</td>\n      <td>...</td>\n      <td>...</td>\n      <td>...</td>\n      <td>...</td>\n      <td>...</td>\n      <td>...</td>\n      <td>...</td>\n      <td>...</td>\n      <td>...</td>\n      <td>...</td>\n      <td>...</td>\n      <td>...</td>\n      <td>...</td>\n      <td>...</td>\n      <td>...</td>\n      <td>...</td>\n    </tr>\n    <tr>\n      <th>2915702</th>\n      <td>378</td>\n      <td>42.380323</td>\n      <td>-71.108786</td>\n      <td>4.685436</td>\n      <td>3.324186</td>\n      <td>3.857133</td>\n      <td>0.749679</td>\n      <td>2.549958</td>\n      <td>4.468208</td>\n      <td>4.260417</td>\n      <td>...</td>\n      <td>4.244542</td>\n      <td>4.590774</td>\n      <td>2018-12-30 19:11:40</td>\n      <td>2018-12-30 19:16:33</td>\n      <td>378</td>\n      <td>115</td>\n      <td>2644</td>\n      <td>6</td>\n      <td>0 days 03:46:21</td>\n      <td>3.772500</td>\n    </tr>\n    <tr>\n      <th>2915703</th>\n      <td>378</td>\n      <td>42.380323</td>\n      <td>-71.108786</td>\n      <td>4.685436</td>\n      <td>3.324186</td>\n      <td>3.857133</td>\n      <td>0.749679</td>\n      <td>2.549958</td>\n      <td>4.468208</td>\n      <td>4.260417</td>\n      <td>...</td>\n      <td>4.244542</td>\n      <td>4.590774</td>\n      <td>2018-12-31 16:33:23</td>\n      <td>2018-12-31 16:43:30</td>\n      <td>378</td>\n      <td>145</td>\n      <td>3988</td>\n      <td>0</td>\n      <td>0 days 01:25:14</td>\n      <td>1.420556</td>\n    </tr>\n    <tr>\n      <th>2915704</th>\n      <td>378</td>\n      <td>42.380323</td>\n      <td>-71.108786</td>\n      <td>4.685436</td>\n      <td>3.324186</td>\n      <td>3.857133</td>\n      <td>0.749679</td>\n      <td>2.549958</td>\n      <td>4.468208</td>\n      <td>4.260417</td>\n      <td>...</td>\n      <td>4.244542</td>\n      <td>4.590774</td>\n      <td>2018-12-31 18:40:51</td>\n      <td>2018-12-31 18:47:26</td>\n      <td>378</td>\n      <td>78</td>\n      <td>2563</td>\n      <td>0</td>\n      <td>0 days 00:26:08</td>\n      <td>0.435556</td>\n    </tr>\n    <tr>\n      <th>2915705</th>\n      <td>378</td>\n      <td>42.380323</td>\n      <td>-71.108786</td>\n      <td>4.685436</td>\n      <td>3.324186</td>\n      <td>3.857133</td>\n      <td>0.749679</td>\n      <td>2.549958</td>\n      <td>4.468208</td>\n      <td>4.260417</td>\n      <td>...</td>\n      <td>4.244542</td>\n      <td>4.590774</td>\n      <td>2018-12-31 18:58:43</td>\n      <td>2018-12-31 19:27:07</td>\n      <td>378</td>\n      <td>338</td>\n      <td>3838</td>\n      <td>0</td>\n      <td>0 days 00:44:00</td>\n      <td>0.733333</td>\n    </tr>\n    <tr>\n      <th>2915706</th>\n      <td>378</td>\n      <td>42.380323</td>\n      <td>-71.108786</td>\n      <td>4.685436</td>\n      <td>3.324186</td>\n      <td>3.857133</td>\n      <td>0.749679</td>\n      <td>2.549958</td>\n      <td>4.468208</td>\n      <td>4.260417</td>\n      <td>...</td>\n      <td>4.244542</td>\n      <td>4.590774</td>\n      <td>2018-12-31 19:54:12</td>\n      <td>2018-12-31 19:58:39</td>\n      <td>378</td>\n      <td>88</td>\n      <td>2194</td>\n      <td>0</td>\n      <td>0 days 01:39:29</td>\n      <td>1.658056</td>\n    </tr>\n  </tbody>\n</table>\n<p>2915707 rows × 22 columns</p>\n</div>"
     },
     "execution_count": 19,
     "metadata": {},
     "output_type": "execute_result"
    }
   ],
   "source": [
    "merge = pd.merge(bluebikes_stations_dist, bluebikes, left_on='station_id', right_on='start_station_id', how='inner')\n",
    "merge"
   ],
   "metadata": {
    "collapsed": false,
    "ExecuteTime": {
     "start_time": "2023-07-03T14:59:39.788412Z",
     "end_time": "2023-07-03T14:59:44.618942Z"
    }
   }
  },
  {
   "cell_type": "code",
   "execution_count": 20,
   "outputs": [
    {
     "name": "stderr",
     "output_type": "stream",
     "text": [
      "C:\\Users\\lauri\\AppData\\Local\\Temp\\ipykernel_19016\\3416459868.py:1: FutureWarning: The default value of numeric_only in DataFrame.corr is deprecated. In a future version, it will default to False. Select only valid columns or specify the value of numeric_only to silence this warning.\n",
      "  merge.corr()\n"
     ]
    },
    {
     "data": {
      "text/plain": "                               station_id       lat       lon  \\\nstation_id                       1.000000  0.227137 -0.079473   \nlat                              0.227137  1.000000 -0.303793   \nlon                             -0.079473 -0.303793  1.000000   \ncity_center_distance             0.143457  0.180773 -0.869454   \nboston_university_distance       0.102195  0.188476  0.539931   \nfenway_park_distance             0.205662  0.444405  0.231742   \nharvard_university_distance     -0.120775 -0.618776  0.737011   \nmit_distance                     0.015746 -0.108097  0.284532   \nboston_common_distance           0.194244  0.305543 -0.795562   \nboston_public_garden_distance    0.216748  0.356628 -0.692229   \nnewbury_street_distance          0.253502  0.471670 -0.293176   \nsouth_station_distance           0.190203  0.375405 -0.912287   \nnorth_station_distance           0.082710  0.018009 -0.802582   \nback_bay_station_distance        0.282858  0.561088 -0.579778   \nstart_station_id                 1.000000  0.227137 -0.079473   \nend_station_id                   0.134083  0.139958 -0.043319   \nbike_id                          0.074732 -0.012724 -0.003481   \nweekday                          0.001802 -0.000290 -0.034883   \nidle_time_hours                  0.090760 -0.012335 -0.033328   \n\n                               city_center_distance  \\\nstation_id                                 0.143457   \nlat                                        0.180773   \nlon                                       -0.869454   \ncity_center_distance                       1.000000   \nboston_university_distance                -0.226415   \nfenway_park_distance                       0.054381   \nharvard_university_distance               -0.443221   \nmit_distance                               0.112374   \nboston_common_distance                     0.968166   \nboston_public_garden_distance              0.905673   \nnewbury_street_distance                    0.570378   \nsouth_station_distance                     0.964646   \nnorth_station_distance                     0.977816   \nback_bay_station_distance                  0.761940   \nstart_station_id                           0.143457   \nend_station_id                             0.055412   \nbike_id                                    0.012204   \nweekday                                    0.041698   \nidle_time_hours                            0.140426   \n\n                               boston_university_distance  \\\nstation_id                                       0.102195   \nlat                                              0.188476   \nlon                                              0.539931   \ncity_center_distance                            -0.226415   \nboston_university_distance                       1.000000   \nfenway_park_distance                             0.921524   \nharvard_university_distance                      0.584006   \nmit_distance                                     0.835173   \nboston_common_distance                          -0.042732   \nboston_public_garden_distance                    0.125558   \nnewbury_street_distance                          0.583453   \nsouth_station_distance                          -0.248410   \nnorth_station_distance                          -0.195872   \nback_bay_station_distance                        0.281377   \nstart_station_id                                 0.102195   \nend_station_id                                   0.032217   \nbike_id                                          0.006745   \nweekday                                         -0.010131   \nidle_time_hours                                  0.143725   \n\n                               fenway_park_distance  \\\nstation_id                                 0.205662   \nlat                                        0.444405   \nlon                                        0.231742   \ncity_center_distance                       0.054381   \nboston_university_distance                 0.921524   \nfenway_park_distance                       1.000000   \nharvard_university_distance                0.284812   \nmit_distance                               0.777676   \nboston_common_distance                     0.258610   \nboston_public_garden_distance              0.422541   \nnewbury_street_distance                    0.820073   \nsouth_station_distance                     0.074818   \nnorth_station_distance                     0.039790   \nback_bay_station_distance                  0.597883   \nstart_station_id                           0.205662   \nend_station_id                             0.082170   \nbike_id                                    0.005133   \nweekday                                   -0.001237   \nidle_time_hours                            0.162564   \n\n                               harvard_university_distance  mit_distance  \\\nstation_id                                       -0.120775      0.015746   \nlat                                              -0.618776     -0.108097   \nlon                                               0.737011      0.284532   \ncity_center_distance                             -0.443221      0.112374   \nboston_university_distance                        0.584006      0.835173   \nfenway_park_distance                              0.284812      0.777676   \nharvard_university_distance                       1.000000      0.669082   \nmit_distance                                      0.669082      1.000000   \nboston_common_distance                           -0.399343      0.248087   \nboston_public_garden_distance                    -0.310754      0.382290   \nnewbury_street_distance                          -0.036760      0.669121   \nsouth_station_distance                           -0.593886      0.002089   \nnorth_station_distance                           -0.299005      0.204237   \nback_bay_station_distance                        -0.336292      0.399785   \nstart_station_id                                 -0.120775      0.015746   \nend_station_id                                   -0.089461     -0.027394   \nbike_id                                           0.015862      0.018131   \nweekday                                          -0.014498      0.007552   \nidle_time_hours                                   0.093528      0.210342   \n\n                               boston_common_distance  \\\nstation_id                                   0.194244   \nlat                                          0.305543   \nlon                                         -0.795562   \ncity_center_distance                         0.968166   \nboston_university_distance                  -0.042732   \nfenway_park_distance                         0.258610   \nharvard_university_distance                 -0.399343   \nmit_distance                                 0.248087   \nboston_common_distance                       1.000000   \nboston_public_garden_distance                0.980995   \nnewbury_street_distance                      0.738600   \nsouth_station_distance                       0.956446   \nnorth_station_distance                       0.932622   \nback_bay_station_distance                    0.890299   \nstart_station_id                             0.194244   \nend_station_id                               0.078903   \nbike_id                                      0.013510   \nweekday                                      0.037198   \nidle_time_hours                              0.163861   \n\n                               boston_public_garden_distance  \\\nstation_id                                          0.216748   \nlat                                                 0.356628   \nlon                                                -0.692229   \ncity_center_distance                                0.905673   \nboston_university_distance                          0.125558   \nfenway_park_distance                                0.422541   \nharvard_university_distance                        -0.310754   \nmit_distance                                        0.382290   \nboston_common_distance                              0.980995   \nboston_public_garden_distance                       1.000000   \nnewbury_street_distance                             0.849969   \nsouth_station_distance                              0.898212   \nnorth_station_distance                              0.872134   \nback_bay_station_distance                           0.949887   \nstart_station_id                                    0.216748   \nend_station_id                                      0.086807   \nbike_id                                             0.014501   \nweekday                                             0.032597   \nidle_time_hours                                     0.182193   \n\n                               newbury_street_distance  \\\nstation_id                                    0.253502   \nlat                                           0.471670   \nlon                                          -0.293176   \ncity_center_distance                          0.570378   \nboston_university_distance                    0.583453   \nfenway_park_distance                          0.820073   \nharvard_university_distance                  -0.036760   \nmit_distance                                  0.669121   \nboston_common_distance                        0.738600   \nboston_public_garden_distance                 0.849969   \nnewbury_street_distance                       1.000000   \nsouth_station_distance                        0.583142   \nnorth_station_distance                        0.540209   \nback_bay_station_distance                     0.932798   \nstart_station_id                              0.253502   \nend_station_id                                0.097451   \nbike_id                                       0.011480   \nweekday                                       0.017163   \nidle_time_hours                               0.200817   \n\n                               south_station_distance  north_station_distance  \\\nstation_id                                   0.190203                0.082710   \nlat                                          0.375405                0.018009   \nlon                                         -0.912287               -0.802582   \ncity_center_distance                         0.964646                0.977816   \nboston_university_distance                  -0.248410               -0.195872   \nfenway_park_distance                         0.074818                0.039790   \nharvard_university_distance                 -0.593886               -0.299005   \nmit_distance                                 0.002089                0.204237   \nboston_common_distance                       0.956446                0.932622   \nboston_public_garden_distance                0.898212                0.872134   \nnewbury_street_distance                      0.583142                0.540209   \nsouth_station_distance                       1.000000                0.894062   \nnorth_station_distance                       0.894062                1.000000   \nback_bay_station_distance                    0.809427                0.694262   \nstart_station_id                             0.190203                0.082710   \nend_station_id                               0.083397                0.027358   \nbike_id                                      0.008943                0.014133   \nweekday                                      0.041717                0.041980   \nidle_time_hours                              0.118407                0.150516   \n\n                               back_bay_station_distance  start_station_id  \\\nstation_id                                      0.282858          1.000000   \nlat                                             0.561088          0.227137   \nlon                                            -0.579778         -0.079473   \ncity_center_distance                            0.761940          0.143457   \nboston_university_distance                      0.281377          0.102195   \nfenway_park_distance                            0.597883          0.205662   \nharvard_university_distance                    -0.336292         -0.120775   \nmit_distance                                    0.399785          0.015746   \nboston_common_distance                          0.890299          0.194244   \nboston_public_garden_distance                   0.949887          0.216748   \nnewbury_street_distance                         0.932798          0.253502   \nsouth_station_distance                          0.809427          0.190203   \nnorth_station_distance                          0.694262          0.082710   \nback_bay_station_distance                       1.000000          0.282858   \nstart_station_id                                0.282858          1.000000   \nend_station_id                                  0.118680          0.134083   \nbike_id                                         0.010106          0.074732   \nweekday                                         0.025915          0.001802   \nidle_time_hours                                 0.169474          0.090760   \n\n                               end_station_id   bike_id   weekday  \\\nstation_id                           0.134083  0.074732  0.001802   \nlat                                  0.139958 -0.012724 -0.000290   \nlon                                 -0.043319 -0.003481 -0.034883   \ncity_center_distance                 0.055412  0.012204  0.041698   \nboston_university_distance           0.032217  0.006745 -0.010131   \nfenway_park_distance                 0.082170  0.005133 -0.001237   \nharvard_university_distance         -0.089461  0.015862 -0.014498   \nmit_distance                        -0.027394  0.018131  0.007552   \nboston_common_distance               0.078903  0.013510  0.037198   \nboston_public_garden_distance        0.086807  0.014501  0.032597   \nnewbury_street_distance              0.097451  0.011480  0.017163   \nsouth_station_distance               0.083397  0.008943  0.041717   \nnorth_station_distance               0.027358  0.014133  0.041980   \nback_bay_station_distance            0.118680  0.010106  0.025915   \nstart_station_id                     0.134083  0.074732  0.001802   \nend_station_id                       1.000000  0.079487 -0.008775   \nbike_id                              0.079487  1.000000  0.013807   \nweekday                             -0.008775  0.013807  1.000000   \nidle_time_hours                     -0.000156 -0.025096  0.014358   \n\n                               idle_time_hours  \nstation_id                            0.090760  \nlat                                  -0.012335  \nlon                                  -0.033328  \ncity_center_distance                  0.140426  \nboston_university_distance            0.143725  \nfenway_park_distance                  0.162564  \nharvard_university_distance           0.093528  \nmit_distance                          0.210342  \nboston_common_distance                0.163861  \nboston_public_garden_distance         0.182193  \nnewbury_street_distance               0.200817  \nsouth_station_distance                0.118407  \nnorth_station_distance                0.150516  \nback_bay_station_distance             0.169474  \nstart_station_id                      0.090760  \nend_station_id                       -0.000156  \nbike_id                              -0.025096  \nweekday                               0.014358  \nidle_time_hours                       1.000000  ",
      "text/html": "<div>\n<style scoped>\n    .dataframe tbody tr th:only-of-type {\n        vertical-align: middle;\n    }\n\n    .dataframe tbody tr th {\n        vertical-align: top;\n    }\n\n    .dataframe thead th {\n        text-align: right;\n    }\n</style>\n<table border=\"1\" class=\"dataframe\">\n  <thead>\n    <tr style=\"text-align: right;\">\n      <th></th>\n      <th>station_id</th>\n      <th>lat</th>\n      <th>lon</th>\n      <th>city_center_distance</th>\n      <th>boston_university_distance</th>\n      <th>fenway_park_distance</th>\n      <th>harvard_university_distance</th>\n      <th>mit_distance</th>\n      <th>boston_common_distance</th>\n      <th>boston_public_garden_distance</th>\n      <th>newbury_street_distance</th>\n      <th>south_station_distance</th>\n      <th>north_station_distance</th>\n      <th>back_bay_station_distance</th>\n      <th>start_station_id</th>\n      <th>end_station_id</th>\n      <th>bike_id</th>\n      <th>weekday</th>\n      <th>idle_time_hours</th>\n    </tr>\n  </thead>\n  <tbody>\n    <tr>\n      <th>station_id</th>\n      <td>1.000000</td>\n      <td>0.227137</td>\n      <td>-0.079473</td>\n      <td>0.143457</td>\n      <td>0.102195</td>\n      <td>0.205662</td>\n      <td>-0.120775</td>\n      <td>0.015746</td>\n      <td>0.194244</td>\n      <td>0.216748</td>\n      <td>0.253502</td>\n      <td>0.190203</td>\n      <td>0.082710</td>\n      <td>0.282858</td>\n      <td>1.000000</td>\n      <td>0.134083</td>\n      <td>0.074732</td>\n      <td>0.001802</td>\n      <td>0.090760</td>\n    </tr>\n    <tr>\n      <th>lat</th>\n      <td>0.227137</td>\n      <td>1.000000</td>\n      <td>-0.303793</td>\n      <td>0.180773</td>\n      <td>0.188476</td>\n      <td>0.444405</td>\n      <td>-0.618776</td>\n      <td>-0.108097</td>\n      <td>0.305543</td>\n      <td>0.356628</td>\n      <td>0.471670</td>\n      <td>0.375405</td>\n      <td>0.018009</td>\n      <td>0.561088</td>\n      <td>0.227137</td>\n      <td>0.139958</td>\n      <td>-0.012724</td>\n      <td>-0.000290</td>\n      <td>-0.012335</td>\n    </tr>\n    <tr>\n      <th>lon</th>\n      <td>-0.079473</td>\n      <td>-0.303793</td>\n      <td>1.000000</td>\n      <td>-0.869454</td>\n      <td>0.539931</td>\n      <td>0.231742</td>\n      <td>0.737011</td>\n      <td>0.284532</td>\n      <td>-0.795562</td>\n      <td>-0.692229</td>\n      <td>-0.293176</td>\n      <td>-0.912287</td>\n      <td>-0.802582</td>\n      <td>-0.579778</td>\n      <td>-0.079473</td>\n      <td>-0.043319</td>\n      <td>-0.003481</td>\n      <td>-0.034883</td>\n      <td>-0.033328</td>\n    </tr>\n    <tr>\n      <th>city_center_distance</th>\n      <td>0.143457</td>\n      <td>0.180773</td>\n      <td>-0.869454</td>\n      <td>1.000000</td>\n      <td>-0.226415</td>\n      <td>0.054381</td>\n      <td>-0.443221</td>\n      <td>0.112374</td>\n      <td>0.968166</td>\n      <td>0.905673</td>\n      <td>0.570378</td>\n      <td>0.964646</td>\n      <td>0.977816</td>\n      <td>0.761940</td>\n      <td>0.143457</td>\n      <td>0.055412</td>\n      <td>0.012204</td>\n      <td>0.041698</td>\n      <td>0.140426</td>\n    </tr>\n    <tr>\n      <th>boston_university_distance</th>\n      <td>0.102195</td>\n      <td>0.188476</td>\n      <td>0.539931</td>\n      <td>-0.226415</td>\n      <td>1.000000</td>\n      <td>0.921524</td>\n      <td>0.584006</td>\n      <td>0.835173</td>\n      <td>-0.042732</td>\n      <td>0.125558</td>\n      <td>0.583453</td>\n      <td>-0.248410</td>\n      <td>-0.195872</td>\n      <td>0.281377</td>\n      <td>0.102195</td>\n      <td>0.032217</td>\n      <td>0.006745</td>\n      <td>-0.010131</td>\n      <td>0.143725</td>\n    </tr>\n    <tr>\n      <th>fenway_park_distance</th>\n      <td>0.205662</td>\n      <td>0.444405</td>\n      <td>0.231742</td>\n      <td>0.054381</td>\n      <td>0.921524</td>\n      <td>1.000000</td>\n      <td>0.284812</td>\n      <td>0.777676</td>\n      <td>0.258610</td>\n      <td>0.422541</td>\n      <td>0.820073</td>\n      <td>0.074818</td>\n      <td>0.039790</td>\n      <td>0.597883</td>\n      <td>0.205662</td>\n      <td>0.082170</td>\n      <td>0.005133</td>\n      <td>-0.001237</td>\n      <td>0.162564</td>\n    </tr>\n    <tr>\n      <th>harvard_university_distance</th>\n      <td>-0.120775</td>\n      <td>-0.618776</td>\n      <td>0.737011</td>\n      <td>-0.443221</td>\n      <td>0.584006</td>\n      <td>0.284812</td>\n      <td>1.000000</td>\n      <td>0.669082</td>\n      <td>-0.399343</td>\n      <td>-0.310754</td>\n      <td>-0.036760</td>\n      <td>-0.593886</td>\n      <td>-0.299005</td>\n      <td>-0.336292</td>\n      <td>-0.120775</td>\n      <td>-0.089461</td>\n      <td>0.015862</td>\n      <td>-0.014498</td>\n      <td>0.093528</td>\n    </tr>\n    <tr>\n      <th>mit_distance</th>\n      <td>0.015746</td>\n      <td>-0.108097</td>\n      <td>0.284532</td>\n      <td>0.112374</td>\n      <td>0.835173</td>\n      <td>0.777676</td>\n      <td>0.669082</td>\n      <td>1.000000</td>\n      <td>0.248087</td>\n      <td>0.382290</td>\n      <td>0.669121</td>\n      <td>0.002089</td>\n      <td>0.204237</td>\n      <td>0.399785</td>\n      <td>0.015746</td>\n      <td>-0.027394</td>\n      <td>0.018131</td>\n      <td>0.007552</td>\n      <td>0.210342</td>\n    </tr>\n    <tr>\n      <th>boston_common_distance</th>\n      <td>0.194244</td>\n      <td>0.305543</td>\n      <td>-0.795562</td>\n      <td>0.968166</td>\n      <td>-0.042732</td>\n      <td>0.258610</td>\n      <td>-0.399343</td>\n      <td>0.248087</td>\n      <td>1.000000</td>\n      <td>0.980995</td>\n      <td>0.738600</td>\n      <td>0.956446</td>\n      <td>0.932622</td>\n      <td>0.890299</td>\n      <td>0.194244</td>\n      <td>0.078903</td>\n      <td>0.013510</td>\n      <td>0.037198</td>\n      <td>0.163861</td>\n    </tr>\n    <tr>\n      <th>boston_public_garden_distance</th>\n      <td>0.216748</td>\n      <td>0.356628</td>\n      <td>-0.692229</td>\n      <td>0.905673</td>\n      <td>0.125558</td>\n      <td>0.422541</td>\n      <td>-0.310754</td>\n      <td>0.382290</td>\n      <td>0.980995</td>\n      <td>1.000000</td>\n      <td>0.849969</td>\n      <td>0.898212</td>\n      <td>0.872134</td>\n      <td>0.949887</td>\n      <td>0.216748</td>\n      <td>0.086807</td>\n      <td>0.014501</td>\n      <td>0.032597</td>\n      <td>0.182193</td>\n    </tr>\n    <tr>\n      <th>newbury_street_distance</th>\n      <td>0.253502</td>\n      <td>0.471670</td>\n      <td>-0.293176</td>\n      <td>0.570378</td>\n      <td>0.583453</td>\n      <td>0.820073</td>\n      <td>-0.036760</td>\n      <td>0.669121</td>\n      <td>0.738600</td>\n      <td>0.849969</td>\n      <td>1.000000</td>\n      <td>0.583142</td>\n      <td>0.540209</td>\n      <td>0.932798</td>\n      <td>0.253502</td>\n      <td>0.097451</td>\n      <td>0.011480</td>\n      <td>0.017163</td>\n      <td>0.200817</td>\n    </tr>\n    <tr>\n      <th>south_station_distance</th>\n      <td>0.190203</td>\n      <td>0.375405</td>\n      <td>-0.912287</td>\n      <td>0.964646</td>\n      <td>-0.248410</td>\n      <td>0.074818</td>\n      <td>-0.593886</td>\n      <td>0.002089</td>\n      <td>0.956446</td>\n      <td>0.898212</td>\n      <td>0.583142</td>\n      <td>1.000000</td>\n      <td>0.894062</td>\n      <td>0.809427</td>\n      <td>0.190203</td>\n      <td>0.083397</td>\n      <td>0.008943</td>\n      <td>0.041717</td>\n      <td>0.118407</td>\n    </tr>\n    <tr>\n      <th>north_station_distance</th>\n      <td>0.082710</td>\n      <td>0.018009</td>\n      <td>-0.802582</td>\n      <td>0.977816</td>\n      <td>-0.195872</td>\n      <td>0.039790</td>\n      <td>-0.299005</td>\n      <td>0.204237</td>\n      <td>0.932622</td>\n      <td>0.872134</td>\n      <td>0.540209</td>\n      <td>0.894062</td>\n      <td>1.000000</td>\n      <td>0.694262</td>\n      <td>0.082710</td>\n      <td>0.027358</td>\n      <td>0.014133</td>\n      <td>0.041980</td>\n      <td>0.150516</td>\n    </tr>\n    <tr>\n      <th>back_bay_station_distance</th>\n      <td>0.282858</td>\n      <td>0.561088</td>\n      <td>-0.579778</td>\n      <td>0.761940</td>\n      <td>0.281377</td>\n      <td>0.597883</td>\n      <td>-0.336292</td>\n      <td>0.399785</td>\n      <td>0.890299</td>\n      <td>0.949887</td>\n      <td>0.932798</td>\n      <td>0.809427</td>\n      <td>0.694262</td>\n      <td>1.000000</td>\n      <td>0.282858</td>\n      <td>0.118680</td>\n      <td>0.010106</td>\n      <td>0.025915</td>\n      <td>0.169474</td>\n    </tr>\n    <tr>\n      <th>start_station_id</th>\n      <td>1.000000</td>\n      <td>0.227137</td>\n      <td>-0.079473</td>\n      <td>0.143457</td>\n      <td>0.102195</td>\n      <td>0.205662</td>\n      <td>-0.120775</td>\n      <td>0.015746</td>\n      <td>0.194244</td>\n      <td>0.216748</td>\n      <td>0.253502</td>\n      <td>0.190203</td>\n      <td>0.082710</td>\n      <td>0.282858</td>\n      <td>1.000000</td>\n      <td>0.134083</td>\n      <td>0.074732</td>\n      <td>0.001802</td>\n      <td>0.090760</td>\n    </tr>\n    <tr>\n      <th>end_station_id</th>\n      <td>0.134083</td>\n      <td>0.139958</td>\n      <td>-0.043319</td>\n      <td>0.055412</td>\n      <td>0.032217</td>\n      <td>0.082170</td>\n      <td>-0.089461</td>\n      <td>-0.027394</td>\n      <td>0.078903</td>\n      <td>0.086807</td>\n      <td>0.097451</td>\n      <td>0.083397</td>\n      <td>0.027358</td>\n      <td>0.118680</td>\n      <td>0.134083</td>\n      <td>1.000000</td>\n      <td>0.079487</td>\n      <td>-0.008775</td>\n      <td>-0.000156</td>\n    </tr>\n    <tr>\n      <th>bike_id</th>\n      <td>0.074732</td>\n      <td>-0.012724</td>\n      <td>-0.003481</td>\n      <td>0.012204</td>\n      <td>0.006745</td>\n      <td>0.005133</td>\n      <td>0.015862</td>\n      <td>0.018131</td>\n      <td>0.013510</td>\n      <td>0.014501</td>\n      <td>0.011480</td>\n      <td>0.008943</td>\n      <td>0.014133</td>\n      <td>0.010106</td>\n      <td>0.074732</td>\n      <td>0.079487</td>\n      <td>1.000000</td>\n      <td>0.013807</td>\n      <td>-0.025096</td>\n    </tr>\n    <tr>\n      <th>weekday</th>\n      <td>0.001802</td>\n      <td>-0.000290</td>\n      <td>-0.034883</td>\n      <td>0.041698</td>\n      <td>-0.010131</td>\n      <td>-0.001237</td>\n      <td>-0.014498</td>\n      <td>0.007552</td>\n      <td>0.037198</td>\n      <td>0.032597</td>\n      <td>0.017163</td>\n      <td>0.041717</td>\n      <td>0.041980</td>\n      <td>0.025915</td>\n      <td>0.001802</td>\n      <td>-0.008775</td>\n      <td>0.013807</td>\n      <td>1.000000</td>\n      <td>0.014358</td>\n    </tr>\n    <tr>\n      <th>idle_time_hours</th>\n      <td>0.090760</td>\n      <td>-0.012335</td>\n      <td>-0.033328</td>\n      <td>0.140426</td>\n      <td>0.143725</td>\n      <td>0.162564</td>\n      <td>0.093528</td>\n      <td>0.210342</td>\n      <td>0.163861</td>\n      <td>0.182193</td>\n      <td>0.200817</td>\n      <td>0.118407</td>\n      <td>0.150516</td>\n      <td>0.169474</td>\n      <td>0.090760</td>\n      <td>-0.000156</td>\n      <td>-0.025096</td>\n      <td>0.014358</td>\n      <td>1.000000</td>\n    </tr>\n  </tbody>\n</table>\n</div>"
     },
     "execution_count": 20,
     "metadata": {},
     "output_type": "execute_result"
    }
   ],
   "source": [
    "merge.corr()"
   ],
   "metadata": {
    "collapsed": false,
    "ExecuteTime": {
     "start_time": "2023-07-03T14:59:47.144675Z",
     "end_time": "2023-07-03T14:59:50.779489Z"
    }
   }
  },
  {
   "cell_type": "markdown",
   "source": [],
   "metadata": {
    "collapsed": false
   }
  },
  {
   "cell_type": "markdown",
   "source": [
    "Merge station_density data with the idle time to see if they correlate"
   ],
   "metadata": {
    "collapsed": false
   }
  },
  {
   "cell_type": "code",
   "execution_count": 21,
   "outputs": [
    {
     "data": {
      "text/plain": "         station_id        lat        lon                          geometry  \\\n0                67  42.358100 -71.093198  POINT (-7914058.600 5214772.943)   \n1                67  42.358100 -71.093198  POINT (-7914058.600 5214772.943)   \n2                67  42.358100 -71.093198  POINT (-7914058.600 5214772.943)   \n3                67  42.358100 -71.093198  POINT (-7914058.600 5214772.943)   \n4                67  42.358100 -71.093198  POINT (-7914058.600 5214772.943)   \n...             ...        ...        ...                               ...   \n2915702         378  42.380323 -71.108786  POINT (-7915793.863 5218121.391)   \n2915703         378  42.380323 -71.108786  POINT (-7915793.863 5218121.391)   \n2915704         378  42.380323 -71.108786  POINT (-7915793.863 5218121.391)   \n2915705         378  42.380323 -71.108786  POINT (-7915793.863 5218121.391)   \n2915706         378  42.380323 -71.108786  POINT (-7915793.863 5218121.391)   \n\n                                                    buffer  station_density  \\\n0        POLYGON ((-7913058.600 5214772.943, -7913063.4...         0.954927   \n1        POLYGON ((-7913058.600 5214772.943, -7913063.4...         0.954927   \n2        POLYGON ((-7913058.600 5214772.943, -7913063.4...         0.954927   \n3        POLYGON ((-7913058.600 5214772.943, -7913063.4...         0.954927   \n4        POLYGON ((-7913058.600 5214772.943, -7913063.4...         0.954927   \n...                                                    ...              ...   \n2915702  POLYGON ((-7914793.863 5218121.391, -7914798.6...         2.546473   \n2915703  POLYGON ((-7914793.863 5218121.391, -7914798.6...         2.546473   \n2915704  POLYGON ((-7914793.863 5218121.391, -7914798.6...         2.546473   \n2915705  POLYGON ((-7914793.863 5218121.391, -7914798.6...         2.546473   \n2915706  POLYGON ((-7914793.863 5218121.391, -7914798.6...         2.546473   \n\n                  start_time             end_time  start_station_id  \\\n0        2017-01-01 00:06:58  2017-01-01 00:12:49                67   \n1        2017-01-01 00:42:04  2017-01-01 00:46:25                67   \n2        2017-01-01 03:00:00  2017-01-01 03:03:45                67   \n3        2017-01-01 04:03:37  2017-01-01 04:24:27                67   \n4        2017-01-01 11:10:04  2017-01-01 11:31:10                67   \n...                      ...                  ...               ...   \n2915702  2018-12-30 19:11:40  2018-12-30 19:16:33               378   \n2915703  2018-12-31 16:33:23  2018-12-31 16:43:30               378   \n2915704  2018-12-31 18:40:51  2018-12-31 18:47:26               378   \n2915705  2018-12-31 18:58:43  2018-12-31 19:27:07               378   \n2915706  2018-12-31 19:54:12  2018-12-31 19:58:39               378   \n\n         end_station_id  bike_id  weekday       idle_time  idle_time_hours  \n0                   139      644        6 0 days 00:00:00         0.000000  \n1                   179     1102        6 0 days 00:00:00         0.000000  \n2                   178      972        6 0 days 01:34:03         1.567500  \n3                    67      532        6 0 days 02:37:40         2.627778  \n4                    74      532        6 0 days 00:12:15         0.204167  \n...                 ...      ...      ...             ...              ...  \n2915702             115     2644        6 0 days 03:46:21         3.772500  \n2915703             145     3988        0 0 days 01:25:14         1.420556  \n2915704              78     2563        0 0 days 00:26:08         0.435556  \n2915705             338     3838        0 0 days 00:44:00         0.733333  \n2915706              88     2194        0 0 days 01:39:29         1.658056  \n\n[2915707 rows x 14 columns]",
      "text/html": "<div>\n<style scoped>\n    .dataframe tbody tr th:only-of-type {\n        vertical-align: middle;\n    }\n\n    .dataframe tbody tr th {\n        vertical-align: top;\n    }\n\n    .dataframe thead th {\n        text-align: right;\n    }\n</style>\n<table border=\"1\" class=\"dataframe\">\n  <thead>\n    <tr style=\"text-align: right;\">\n      <th></th>\n      <th>station_id</th>\n      <th>lat</th>\n      <th>lon</th>\n      <th>geometry</th>\n      <th>buffer</th>\n      <th>station_density</th>\n      <th>start_time</th>\n      <th>end_time</th>\n      <th>start_station_id</th>\n      <th>end_station_id</th>\n      <th>bike_id</th>\n      <th>weekday</th>\n      <th>idle_time</th>\n      <th>idle_time_hours</th>\n    </tr>\n  </thead>\n  <tbody>\n    <tr>\n      <th>0</th>\n      <td>67</td>\n      <td>42.358100</td>\n      <td>-71.093198</td>\n      <td>POINT (-7914058.600 5214772.943)</td>\n      <td>POLYGON ((-7913058.600 5214772.943, -7913063.4...</td>\n      <td>0.954927</td>\n      <td>2017-01-01 00:06:58</td>\n      <td>2017-01-01 00:12:49</td>\n      <td>67</td>\n      <td>139</td>\n      <td>644</td>\n      <td>6</td>\n      <td>0 days 00:00:00</td>\n      <td>0.000000</td>\n    </tr>\n    <tr>\n      <th>1</th>\n      <td>67</td>\n      <td>42.358100</td>\n      <td>-71.093198</td>\n      <td>POINT (-7914058.600 5214772.943)</td>\n      <td>POLYGON ((-7913058.600 5214772.943, -7913063.4...</td>\n      <td>0.954927</td>\n      <td>2017-01-01 00:42:04</td>\n      <td>2017-01-01 00:46:25</td>\n      <td>67</td>\n      <td>179</td>\n      <td>1102</td>\n      <td>6</td>\n      <td>0 days 00:00:00</td>\n      <td>0.000000</td>\n    </tr>\n    <tr>\n      <th>2</th>\n      <td>67</td>\n      <td>42.358100</td>\n      <td>-71.093198</td>\n      <td>POINT (-7914058.600 5214772.943)</td>\n      <td>POLYGON ((-7913058.600 5214772.943, -7913063.4...</td>\n      <td>0.954927</td>\n      <td>2017-01-01 03:00:00</td>\n      <td>2017-01-01 03:03:45</td>\n      <td>67</td>\n      <td>178</td>\n      <td>972</td>\n      <td>6</td>\n      <td>0 days 01:34:03</td>\n      <td>1.567500</td>\n    </tr>\n    <tr>\n      <th>3</th>\n      <td>67</td>\n      <td>42.358100</td>\n      <td>-71.093198</td>\n      <td>POINT (-7914058.600 5214772.943)</td>\n      <td>POLYGON ((-7913058.600 5214772.943, -7913063.4...</td>\n      <td>0.954927</td>\n      <td>2017-01-01 04:03:37</td>\n      <td>2017-01-01 04:24:27</td>\n      <td>67</td>\n      <td>67</td>\n      <td>532</td>\n      <td>6</td>\n      <td>0 days 02:37:40</td>\n      <td>2.627778</td>\n    </tr>\n    <tr>\n      <th>4</th>\n      <td>67</td>\n      <td>42.358100</td>\n      <td>-71.093198</td>\n      <td>POINT (-7914058.600 5214772.943)</td>\n      <td>POLYGON ((-7913058.600 5214772.943, -7913063.4...</td>\n      <td>0.954927</td>\n      <td>2017-01-01 11:10:04</td>\n      <td>2017-01-01 11:31:10</td>\n      <td>67</td>\n      <td>74</td>\n      <td>532</td>\n      <td>6</td>\n      <td>0 days 00:12:15</td>\n      <td>0.204167</td>\n    </tr>\n    <tr>\n      <th>...</th>\n      <td>...</td>\n      <td>...</td>\n      <td>...</td>\n      <td>...</td>\n      <td>...</td>\n      <td>...</td>\n      <td>...</td>\n      <td>...</td>\n      <td>...</td>\n      <td>...</td>\n      <td>...</td>\n      <td>...</td>\n      <td>...</td>\n      <td>...</td>\n    </tr>\n    <tr>\n      <th>2915702</th>\n      <td>378</td>\n      <td>42.380323</td>\n      <td>-71.108786</td>\n      <td>POINT (-7915793.863 5218121.391)</td>\n      <td>POLYGON ((-7914793.863 5218121.391, -7914798.6...</td>\n      <td>2.546473</td>\n      <td>2018-12-30 19:11:40</td>\n      <td>2018-12-30 19:16:33</td>\n      <td>378</td>\n      <td>115</td>\n      <td>2644</td>\n      <td>6</td>\n      <td>0 days 03:46:21</td>\n      <td>3.772500</td>\n    </tr>\n    <tr>\n      <th>2915703</th>\n      <td>378</td>\n      <td>42.380323</td>\n      <td>-71.108786</td>\n      <td>POINT (-7915793.863 5218121.391)</td>\n      <td>POLYGON ((-7914793.863 5218121.391, -7914798.6...</td>\n      <td>2.546473</td>\n      <td>2018-12-31 16:33:23</td>\n      <td>2018-12-31 16:43:30</td>\n      <td>378</td>\n      <td>145</td>\n      <td>3988</td>\n      <td>0</td>\n      <td>0 days 01:25:14</td>\n      <td>1.420556</td>\n    </tr>\n    <tr>\n      <th>2915704</th>\n      <td>378</td>\n      <td>42.380323</td>\n      <td>-71.108786</td>\n      <td>POINT (-7915793.863 5218121.391)</td>\n      <td>POLYGON ((-7914793.863 5218121.391, -7914798.6...</td>\n      <td>2.546473</td>\n      <td>2018-12-31 18:40:51</td>\n      <td>2018-12-31 18:47:26</td>\n      <td>378</td>\n      <td>78</td>\n      <td>2563</td>\n      <td>0</td>\n      <td>0 days 00:26:08</td>\n      <td>0.435556</td>\n    </tr>\n    <tr>\n      <th>2915705</th>\n      <td>378</td>\n      <td>42.380323</td>\n      <td>-71.108786</td>\n      <td>POINT (-7915793.863 5218121.391)</td>\n      <td>POLYGON ((-7914793.863 5218121.391, -7914798.6...</td>\n      <td>2.546473</td>\n      <td>2018-12-31 18:58:43</td>\n      <td>2018-12-31 19:27:07</td>\n      <td>378</td>\n      <td>338</td>\n      <td>3838</td>\n      <td>0</td>\n      <td>0 days 00:44:00</td>\n      <td>0.733333</td>\n    </tr>\n    <tr>\n      <th>2915706</th>\n      <td>378</td>\n      <td>42.380323</td>\n      <td>-71.108786</td>\n      <td>POINT (-7915793.863 5218121.391)</td>\n      <td>POLYGON ((-7914793.863 5218121.391, -7914798.6...</td>\n      <td>2.546473</td>\n      <td>2018-12-31 19:54:12</td>\n      <td>2018-12-31 19:58:39</td>\n      <td>378</td>\n      <td>88</td>\n      <td>2194</td>\n      <td>0</td>\n      <td>0 days 01:39:29</td>\n      <td>1.658056</td>\n    </tr>\n  </tbody>\n</table>\n<p>2915707 rows × 14 columns</p>\n</div>"
     },
     "execution_count": 21,
     "metadata": {},
     "output_type": "execute_result"
    }
   ],
   "source": [
    "merge_geodata = pd.merge(geodata, bluebikes, left_on='station_id', right_on='start_station_id', how='inner')\n",
    "merge_geodata"
   ],
   "metadata": {
    "collapsed": false,
    "ExecuteTime": {
     "start_time": "2023-07-03T15:10:28.594220Z",
     "end_time": "2023-07-03T15:10:31.272597Z"
    }
   }
  },
  {
   "cell_type": "code",
   "execution_count": 22,
   "outputs": [
    {
     "name": "stderr",
     "output_type": "stream",
     "text": [
      "C:\\Users\\lauri\\AppData\\Local\\Temp\\ipykernel_19016\\2671976427.py:1: FutureWarning: The default value of numeric_only in GeoDataFrame.corr is deprecated. In a future version, it will default to False. Select only valid columns or specify the value of numeric_only to silence this warning.\n",
      "  merge_geodata.corr()\n"
     ]
    },
    {
     "data": {
      "text/plain": "                  station_id       lat       lon  station_density  \\\nstation_id          1.000000  0.227137 -0.079473        -0.216896   \nlat                 0.227137  1.000000 -0.303793        -0.132932   \nlon                -0.079473 -0.303793  1.000000         0.366376   \nstation_density    -0.216896 -0.132932  0.366376         1.000000   \nstart_station_id    1.000000  0.227137 -0.079473        -0.216896   \nend_station_id      0.134083  0.139958 -0.043319        -0.069897   \nbike_id             0.074732 -0.012724 -0.003481        -0.006010   \nweekday             0.001802 -0.000290 -0.034883        -0.034996   \nidle_time_hours     0.090760 -0.012335 -0.033328        -0.141145   \n\n                  start_station_id  end_station_id   bike_id   weekday  \\\nstation_id                1.000000        0.134083  0.074732  0.001802   \nlat                       0.227137        0.139958 -0.012724 -0.000290   \nlon                      -0.079473       -0.043319 -0.003481 -0.034883   \nstation_density          -0.216896       -0.069897 -0.006010 -0.034996   \nstart_station_id          1.000000        0.134083  0.074732  0.001802   \nend_station_id            0.134083        1.000000  0.079487 -0.008775   \nbike_id                   0.074732        0.079487  1.000000  0.013807   \nweekday                   0.001802       -0.008775  0.013807  1.000000   \nidle_time_hours           0.090760       -0.000156 -0.025096  0.014358   \n\n                  idle_time_hours  \nstation_id               0.090760  \nlat                     -0.012335  \nlon                     -0.033328  \nstation_density         -0.141145  \nstart_station_id         0.090760  \nend_station_id          -0.000156  \nbike_id                 -0.025096  \nweekday                  0.014358  \nidle_time_hours          1.000000  ",
      "text/html": "<div>\n<style scoped>\n    .dataframe tbody tr th:only-of-type {\n        vertical-align: middle;\n    }\n\n    .dataframe tbody tr th {\n        vertical-align: top;\n    }\n\n    .dataframe thead th {\n        text-align: right;\n    }\n</style>\n<table border=\"1\" class=\"dataframe\">\n  <thead>\n    <tr style=\"text-align: right;\">\n      <th></th>\n      <th>station_id</th>\n      <th>lat</th>\n      <th>lon</th>\n      <th>station_density</th>\n      <th>start_station_id</th>\n      <th>end_station_id</th>\n      <th>bike_id</th>\n      <th>weekday</th>\n      <th>idle_time_hours</th>\n    </tr>\n  </thead>\n  <tbody>\n    <tr>\n      <th>station_id</th>\n      <td>1.000000</td>\n      <td>0.227137</td>\n      <td>-0.079473</td>\n      <td>-0.216896</td>\n      <td>1.000000</td>\n      <td>0.134083</td>\n      <td>0.074732</td>\n      <td>0.001802</td>\n      <td>0.090760</td>\n    </tr>\n    <tr>\n      <th>lat</th>\n      <td>0.227137</td>\n      <td>1.000000</td>\n      <td>-0.303793</td>\n      <td>-0.132932</td>\n      <td>0.227137</td>\n      <td>0.139958</td>\n      <td>-0.012724</td>\n      <td>-0.000290</td>\n      <td>-0.012335</td>\n    </tr>\n    <tr>\n      <th>lon</th>\n      <td>-0.079473</td>\n      <td>-0.303793</td>\n      <td>1.000000</td>\n      <td>0.366376</td>\n      <td>-0.079473</td>\n      <td>-0.043319</td>\n      <td>-0.003481</td>\n      <td>-0.034883</td>\n      <td>-0.033328</td>\n    </tr>\n    <tr>\n      <th>station_density</th>\n      <td>-0.216896</td>\n      <td>-0.132932</td>\n      <td>0.366376</td>\n      <td>1.000000</td>\n      <td>-0.216896</td>\n      <td>-0.069897</td>\n      <td>-0.006010</td>\n      <td>-0.034996</td>\n      <td>-0.141145</td>\n    </tr>\n    <tr>\n      <th>start_station_id</th>\n      <td>1.000000</td>\n      <td>0.227137</td>\n      <td>-0.079473</td>\n      <td>-0.216896</td>\n      <td>1.000000</td>\n      <td>0.134083</td>\n      <td>0.074732</td>\n      <td>0.001802</td>\n      <td>0.090760</td>\n    </tr>\n    <tr>\n      <th>end_station_id</th>\n      <td>0.134083</td>\n      <td>0.139958</td>\n      <td>-0.043319</td>\n      <td>-0.069897</td>\n      <td>0.134083</td>\n      <td>1.000000</td>\n      <td>0.079487</td>\n      <td>-0.008775</td>\n      <td>-0.000156</td>\n    </tr>\n    <tr>\n      <th>bike_id</th>\n      <td>0.074732</td>\n      <td>-0.012724</td>\n      <td>-0.003481</td>\n      <td>-0.006010</td>\n      <td>0.074732</td>\n      <td>0.079487</td>\n      <td>1.000000</td>\n      <td>0.013807</td>\n      <td>-0.025096</td>\n    </tr>\n    <tr>\n      <th>weekday</th>\n      <td>0.001802</td>\n      <td>-0.000290</td>\n      <td>-0.034883</td>\n      <td>-0.034996</td>\n      <td>0.001802</td>\n      <td>-0.008775</td>\n      <td>0.013807</td>\n      <td>1.000000</td>\n      <td>0.014358</td>\n    </tr>\n    <tr>\n      <th>idle_time_hours</th>\n      <td>0.090760</td>\n      <td>-0.012335</td>\n      <td>-0.033328</td>\n      <td>-0.141145</td>\n      <td>0.090760</td>\n      <td>-0.000156</td>\n      <td>-0.025096</td>\n      <td>0.014358</td>\n      <td>1.000000</td>\n    </tr>\n  </tbody>\n</table>\n</div>"
     },
     "execution_count": 22,
     "metadata": {},
     "output_type": "execute_result"
    }
   ],
   "source": [
    "merge_geodata.corr()"
   ],
   "metadata": {
    "collapsed": false,
    "ExecuteTime": {
     "start_time": "2023-07-03T15:10:38.333876Z",
     "end_time": "2023-07-03T15:10:38.945154Z"
    }
   }
  }
 ],
 "metadata": {
  "kernelspec": {
   "display_name": "Python 3",
   "language": "python",
   "name": "python3"
  },
  "language_info": {
   "codemirror_mode": {
    "name": "ipython",
    "version": 2
   },
   "file_extension": ".py",
   "mimetype": "text/x-python",
   "name": "python",
   "nbconvert_exporter": "python",
   "pygments_lexer": "ipython2",
   "version": "2.7.6"
  }
 },
 "nbformat": 4,
 "nbformat_minor": 0
}
