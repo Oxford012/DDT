{
 "cells": [
  {
   "cell_type": "markdown",
   "source": [
    "## Station Location Features"
   ],
   "metadata": {
    "collapsed": false
   }
  },
  {
   "cell_type": "code",
   "execution_count": 1,
   "metadata": {
    "collapsed": true,
    "ExecuteTime": {
     "start_time": "2023-06-25T19:45:53.545252Z",
     "end_time": "2023-06-25T19:45:54.174511Z"
    }
   },
   "outputs": [],
   "source": [
    "import pandas as pd\n",
    "import Useful_functions_for_stations\n",
    "import matplotlib.pyplot as plt\n",
    "import seaborn as sns\n",
    "import folium\n",
    "from folium.plugins import HeatMap\n"
   ]
  },
  {
   "cell_type": "code",
   "execution_count": 48,
   "outputs": [
    {
     "data": {
      "text/plain": "                  start_time             end_time  start_station_id  \\\n0        2017-01-01 00:06:58  2017-01-01 00:12:49                67   \n1        2017-01-01 00:13:16  2017-01-01 00:28:07                36   \n2        2017-01-01 00:16:17  2017-01-01 00:44:10                36   \n3        2017-01-01 00:21:22  2017-01-01 00:33:50                46   \n4        2017-01-01 00:30:06  2017-01-01 00:40:28                10   \n...                      ...                  ...               ...   \n3081456  2018-12-31 23:05:54  2018-12-31 23:08:31                43   \n3081457  2018-12-31 23:31:50  2018-12-31 23:39:14               107   \n3081458  2018-12-31 23:48:46  2018-12-31 23:56:55                19   \n3081459  2018-12-31 23:54:16  2018-12-31 23:57:17               352   \n3081460  2018-12-31 23:54:38  2018-12-31 23:59:30               352   \n\n         end_station_id  bike_id  weekday        idle_time  \n0                   139      644        6                0  \n1                    10      230        6                0  \n2                     9      980        6                0  \n3                    19     1834        6                0  \n4                     8      230        6  0 days 00:01:59  \n...                 ...      ...      ...              ...  \n3081456              40     3050        0  0 days 05:03:27  \n3081457              90     2673        0  0 days 06:00:40  \n3081458             179     4440        0  0 days 06:07:52  \n3081459              36     3605        0  0 days 06:59:37  \n3081460              36     1372        0  0 days 06:59:59  \n\n[3081461 rows x 7 columns]",
      "text/html": "<div>\n<style scoped>\n    .dataframe tbody tr th:only-of-type {\n        vertical-align: middle;\n    }\n\n    .dataframe tbody tr th {\n        vertical-align: top;\n    }\n\n    .dataframe thead th {\n        text-align: right;\n    }\n</style>\n<table border=\"1\" class=\"dataframe\">\n  <thead>\n    <tr style=\"text-align: right;\">\n      <th></th>\n      <th>start_time</th>\n      <th>end_time</th>\n      <th>start_station_id</th>\n      <th>end_station_id</th>\n      <th>bike_id</th>\n      <th>weekday</th>\n      <th>idle_time</th>\n    </tr>\n  </thead>\n  <tbody>\n    <tr>\n      <th>0</th>\n      <td>2017-01-01 00:06:58</td>\n      <td>2017-01-01 00:12:49</td>\n      <td>67</td>\n      <td>139</td>\n      <td>644</td>\n      <td>6</td>\n      <td>0</td>\n    </tr>\n    <tr>\n      <th>1</th>\n      <td>2017-01-01 00:13:16</td>\n      <td>2017-01-01 00:28:07</td>\n      <td>36</td>\n      <td>10</td>\n      <td>230</td>\n      <td>6</td>\n      <td>0</td>\n    </tr>\n    <tr>\n      <th>2</th>\n      <td>2017-01-01 00:16:17</td>\n      <td>2017-01-01 00:44:10</td>\n      <td>36</td>\n      <td>9</td>\n      <td>980</td>\n      <td>6</td>\n      <td>0</td>\n    </tr>\n    <tr>\n      <th>3</th>\n      <td>2017-01-01 00:21:22</td>\n      <td>2017-01-01 00:33:50</td>\n      <td>46</td>\n      <td>19</td>\n      <td>1834</td>\n      <td>6</td>\n      <td>0</td>\n    </tr>\n    <tr>\n      <th>4</th>\n      <td>2017-01-01 00:30:06</td>\n      <td>2017-01-01 00:40:28</td>\n      <td>10</td>\n      <td>8</td>\n      <td>230</td>\n      <td>6</td>\n      <td>0 days 00:01:59</td>\n    </tr>\n    <tr>\n      <th>...</th>\n      <td>...</td>\n      <td>...</td>\n      <td>...</td>\n      <td>...</td>\n      <td>...</td>\n      <td>...</td>\n      <td>...</td>\n    </tr>\n    <tr>\n      <th>3081456</th>\n      <td>2018-12-31 23:05:54</td>\n      <td>2018-12-31 23:08:31</td>\n      <td>43</td>\n      <td>40</td>\n      <td>3050</td>\n      <td>0</td>\n      <td>0 days 05:03:27</td>\n    </tr>\n    <tr>\n      <th>3081457</th>\n      <td>2018-12-31 23:31:50</td>\n      <td>2018-12-31 23:39:14</td>\n      <td>107</td>\n      <td>90</td>\n      <td>2673</td>\n      <td>0</td>\n      <td>0 days 06:00:40</td>\n    </tr>\n    <tr>\n      <th>3081458</th>\n      <td>2018-12-31 23:48:46</td>\n      <td>2018-12-31 23:56:55</td>\n      <td>19</td>\n      <td>179</td>\n      <td>4440</td>\n      <td>0</td>\n      <td>0 days 06:07:52</td>\n    </tr>\n    <tr>\n      <th>3081459</th>\n      <td>2018-12-31 23:54:16</td>\n      <td>2018-12-31 23:57:17</td>\n      <td>352</td>\n      <td>36</td>\n      <td>3605</td>\n      <td>0</td>\n      <td>0 days 06:59:37</td>\n    </tr>\n    <tr>\n      <th>3081460</th>\n      <td>2018-12-31 23:54:38</td>\n      <td>2018-12-31 23:59:30</td>\n      <td>352</td>\n      <td>36</td>\n      <td>1372</td>\n      <td>0</td>\n      <td>0 days 06:59:59</td>\n    </tr>\n  </tbody>\n</table>\n<p>3081461 rows × 7 columns</p>\n</div>"
     },
     "execution_count": 48,
     "metadata": {},
     "output_type": "execute_result"
    }
   ],
   "source": [
    "bluebikes = pd.read_csv('C:/Users/lauri/PycharmProjects/DSML_Data/bluebikes_idle_time_v4.csv')\n",
    "bluebikes"
   ],
   "metadata": {
    "collapsed": false,
    "ExecuteTime": {
     "start_time": "2023-06-26T16:08:28.836459Z",
     "end_time": "2023-06-26T16:08:35.110236Z"
    }
   }
  },
  {
   "cell_type": "code",
   "execution_count": 31,
   "outputs": [
    {
     "data": {
      "text/plain": "   station_id        lat        lon\n0          67  42.358100 -71.093198\n1         139  42.361780 -71.108100\n2          36  42.349792 -71.077338\n3          10  42.350406 -71.108279\n4           9  42.351187 -71.115852",
      "text/html": "<div>\n<style scoped>\n    .dataframe tbody tr th:only-of-type {\n        vertical-align: middle;\n    }\n\n    .dataframe tbody tr th {\n        vertical-align: top;\n    }\n\n    .dataframe thead th {\n        text-align: right;\n    }\n</style>\n<table border=\"1\" class=\"dataframe\">\n  <thead>\n    <tr style=\"text-align: right;\">\n      <th></th>\n      <th>station_id</th>\n      <th>lat</th>\n      <th>lon</th>\n    </tr>\n  </thead>\n  <tbody>\n    <tr>\n      <th>0</th>\n      <td>67</td>\n      <td>42.358100</td>\n      <td>-71.093198</td>\n    </tr>\n    <tr>\n      <th>1</th>\n      <td>139</td>\n      <td>42.361780</td>\n      <td>-71.108100</td>\n    </tr>\n    <tr>\n      <th>2</th>\n      <td>36</td>\n      <td>42.349792</td>\n      <td>-71.077338</td>\n    </tr>\n    <tr>\n      <th>3</th>\n      <td>10</td>\n      <td>42.350406</td>\n      <td>-71.108279</td>\n    </tr>\n    <tr>\n      <th>4</th>\n      <td>9</td>\n      <td>42.351187</td>\n      <td>-71.115852</td>\n    </tr>\n  </tbody>\n</table>\n</div>"
     },
     "execution_count": 31,
     "metadata": {},
     "output_type": "execute_result"
    }
   ],
   "source": [
    "bluebikes_stations = pd.read_csv('C:/Users/lauri/PycharmProjects/DSML_Data/bluebikes_stations.csv')\n",
    "bluebikes_stations_dist = bluebikes_stations.copy()\n",
    "bluebikes_stations.head()"
   ],
   "metadata": {
    "collapsed": false,
    "ExecuteTime": {
     "start_time": "2023-06-26T12:38:36.738330Z",
     "end_time": "2023-06-26T12:38:36.769627Z"
    }
   }
  },
  {
   "cell_type": "markdown",
   "source": [
    "Density-based feature: Calculate density of stations within a certain radius around each station. High density might imply high competition which could lead to higher idle times."
   ],
   "metadata": {
    "collapsed": false
   }
  },
  {
   "cell_type": "code",
   "execution_count": 11,
   "outputs": [],
   "source": [
    "import geopandas as gpd\n",
    "from shapely.geometry import Point\n",
    "from geopy.distance import geodesic"
   ],
   "metadata": {
    "collapsed": false,
    "ExecuteTime": {
     "start_time": "2023-06-25T22:27:50.907304Z",
     "end_time": "2023-06-25T22:27:51.090980Z"
    }
   }
  },
  {
   "cell_type": "code",
   "execution_count": 38,
   "outputs": [],
   "source": [
    "geodata = gpd.GeoDataFrame(bluebikes_stations, geometry = gpd.points_from_xy(bluebikes_stations.lon, bluebikes_stations.lat))\n",
    "\n",
    "geodata.set_crs(epsg=4326, inplace=True)\n",
    "\n",
    "geodata = geodata.to_crs(epsg=3857)\n",
    "\n",
    "buffer_radius = 1000 # = 1000 meter\n",
    "\n",
    "geodata['buffer'] = geodata['geometry'].buffer(buffer_radius)\n",
    "# Calculate number of stations within the radius around a station\n",
    "geodata['station_density'] = geodata.apply(lambda row: geodata.within(row['buffer']).sum() - 1, axis=1)\n",
    "# Convert station_density to per square km\n",
    "geodata['station_density'] = geodata['station_density'] / (3.1416* (buffer_radius/1000)**2)\n",
    "\n"
   ],
   "metadata": {
    "collapsed": false,
    "ExecuteTime": {
     "start_time": "2023-06-26T12:41:35.388577Z",
     "end_time": "2023-06-26T12:41:35.604217Z"
    }
   }
  },
  {
   "cell_type": "code",
   "execution_count": 9,
   "outputs": [
    {
     "data": {
      "text/plain": "     station_id        lat        lon                          geometry  \\\n0            67  42.358100 -71.093198  POINT (-7914058.600 5214772.943)   \n1           139  42.361780 -71.108100  POINT (-7915717.430 5215327.402)   \n2            36  42.349792 -71.077338  POINT (-7912293.113 5213521.392)   \n3            10  42.350406 -71.108279  POINT (-7915737.409 5213613.945)   \n4             9  42.351187 -71.115852  POINT (-7916580.435 5213731.525)   \n..          ...        ...        ...                               ...   \n308         229  42.345033 -71.096649  POINT (-7914442.783 5212804.682)   \n309         374  42.356683 -71.061666  POINT (-7910548.525 5214559.533)   \n310         376  42.360274 -71.128525  POINT (-7917991.131 5215100.408)   \n311         377  42.379273 -71.103419  POINT (-7915196.400 5217963.142)   \n312         378  42.380323 -71.108786  POINT (-7915793.863 5218121.391)   \n\n                                                buffer  station_density  \n0    POLYGON ((-7913058.600 5214772.943, -7913063.4...                3  \n1    POLYGON ((-7914717.430 5215327.402, -7914722.2...                8  \n2    POLYGON ((-7911293.113 5213521.392, -7911297.9...                9  \n3    POLYGON ((-7914737.409 5213613.945, -7914742.2...                5  \n4    POLYGON ((-7915580.435 5213731.525, -7915585.2...                4  \n..                                                 ...              ...  \n308  POLYGON ((-7913442.783 5212804.682, -7913447.5...               11  \n309  POLYGON ((-7909548.525 5214559.533, -7909553.3...               14  \n310  POLYGON ((-7916991.131 5215100.408, -7916995.9...                2  \n311  POLYGON ((-7914196.400 5217963.142, -7914201.2...                7  \n312  POLYGON ((-7914793.863 5218121.391, -7914798.6...                8  \n\n[313 rows x 6 columns]",
      "text/html": "<div>\n<style scoped>\n    .dataframe tbody tr th:only-of-type {\n        vertical-align: middle;\n    }\n\n    .dataframe tbody tr th {\n        vertical-align: top;\n    }\n\n    .dataframe thead th {\n        text-align: right;\n    }\n</style>\n<table border=\"1\" class=\"dataframe\">\n  <thead>\n    <tr style=\"text-align: right;\">\n      <th></th>\n      <th>station_id</th>\n      <th>lat</th>\n      <th>lon</th>\n      <th>geometry</th>\n      <th>buffer</th>\n      <th>station_density</th>\n    </tr>\n  </thead>\n  <tbody>\n    <tr>\n      <th>0</th>\n      <td>67</td>\n      <td>42.358100</td>\n      <td>-71.093198</td>\n      <td>POINT (-7914058.600 5214772.943)</td>\n      <td>POLYGON ((-7913058.600 5214772.943, -7913063.4...</td>\n      <td>3</td>\n    </tr>\n    <tr>\n      <th>1</th>\n      <td>139</td>\n      <td>42.361780</td>\n      <td>-71.108100</td>\n      <td>POINT (-7915717.430 5215327.402)</td>\n      <td>POLYGON ((-7914717.430 5215327.402, -7914722.2...</td>\n      <td>8</td>\n    </tr>\n    <tr>\n      <th>2</th>\n      <td>36</td>\n      <td>42.349792</td>\n      <td>-71.077338</td>\n      <td>POINT (-7912293.113 5213521.392)</td>\n      <td>POLYGON ((-7911293.113 5213521.392, -7911297.9...</td>\n      <td>9</td>\n    </tr>\n    <tr>\n      <th>3</th>\n      <td>10</td>\n      <td>42.350406</td>\n      <td>-71.108279</td>\n      <td>POINT (-7915737.409 5213613.945)</td>\n      <td>POLYGON ((-7914737.409 5213613.945, -7914742.2...</td>\n      <td>5</td>\n    </tr>\n    <tr>\n      <th>4</th>\n      <td>9</td>\n      <td>42.351187</td>\n      <td>-71.115852</td>\n      <td>POINT (-7916580.435 5213731.525)</td>\n      <td>POLYGON ((-7915580.435 5213731.525, -7915585.2...</td>\n      <td>4</td>\n    </tr>\n    <tr>\n      <th>...</th>\n      <td>...</td>\n      <td>...</td>\n      <td>...</td>\n      <td>...</td>\n      <td>...</td>\n      <td>...</td>\n    </tr>\n    <tr>\n      <th>308</th>\n      <td>229</td>\n      <td>42.345033</td>\n      <td>-71.096649</td>\n      <td>POINT (-7914442.783 5212804.682)</td>\n      <td>POLYGON ((-7913442.783 5212804.682, -7913447.5...</td>\n      <td>11</td>\n    </tr>\n    <tr>\n      <th>309</th>\n      <td>374</td>\n      <td>42.356683</td>\n      <td>-71.061666</td>\n      <td>POINT (-7910548.525 5214559.533)</td>\n      <td>POLYGON ((-7909548.525 5214559.533, -7909553.3...</td>\n      <td>14</td>\n    </tr>\n    <tr>\n      <th>310</th>\n      <td>376</td>\n      <td>42.360274</td>\n      <td>-71.128525</td>\n      <td>POINT (-7917991.131 5215100.408)</td>\n      <td>POLYGON ((-7916991.131 5215100.408, -7916995.9...</td>\n      <td>2</td>\n    </tr>\n    <tr>\n      <th>311</th>\n      <td>377</td>\n      <td>42.379273</td>\n      <td>-71.103419</td>\n      <td>POINT (-7915196.400 5217963.142)</td>\n      <td>POLYGON ((-7914196.400 5217963.142, -7914201.2...</td>\n      <td>7</td>\n    </tr>\n    <tr>\n      <th>312</th>\n      <td>378</td>\n      <td>42.380323</td>\n      <td>-71.108786</td>\n      <td>POINT (-7915793.863 5218121.391)</td>\n      <td>POLYGON ((-7914793.863 5218121.391, -7914798.6...</td>\n      <td>8</td>\n    </tr>\n  </tbody>\n</table>\n<p>313 rows × 6 columns</p>\n</div>"
     },
     "execution_count": 9,
     "metadata": {},
     "output_type": "execute_result"
    }
   ],
   "source": [
    "geodata"
   ],
   "metadata": {
    "collapsed": false,
    "ExecuteTime": {
     "start_time": "2023-06-25T21:01:36.723633Z",
     "end_time": "2023-06-25T21:01:36.757198Z"
    }
   }
  },
  {
   "cell_type": "markdown",
   "source": [
    "Distance-based feature: There are important locations in Boston like the City_center,the universities or popular train stations. Bike stations closer to those locations might be used more frequently which could lead to lower idle times"
   ],
   "metadata": {
    "collapsed": false
   }
  },
  {
   "cell_type": "code",
   "execution_count": 32,
   "outputs": [
    {
     "data": {
      "text/plain": "     station_id        lat        lon  city_center_distance  \\\n0            67  42.358100 -71.093198              2.835790   \n1           139  42.361780 -71.108100              4.059136   \n2            36  42.349792 -71.077338              1.902449   \n3            10  42.350406 -71.108279              4.209433   \n4             9  42.351187 -71.115852              4.796679   \n..          ...        ...        ...                   ...   \n308         229  42.345033 -71.096649              3.532434   \n309         374  42.356683 -71.061666              0.441839   \n310         376  42.360274 -71.128525              5.737488   \n311         377  42.379273 -71.103419              4.243053   \n312         378  42.380323 -71.108786              4.685436   \n\n     boston_university_distance  fenway_park_distance  \\\n0                      1.312488              1.311493   \n1                      1.272305              1.902310   \n2                      2.313407              1.674192   \n3                      0.237541              1.001153   \n4                      0.864608              1.615064   \n..                          ...                   ...   \n308                    0.942848              0.188411   \n309                    3.667965              3.133033   \n310                    2.192714              2.989070   \n311                    3.199969              3.656769   \n312                    3.324186              3.857133   \n\n     harvard_university_distance  mit_distance  boston_common_distance  \\\n0                       2.196322      0.234932                2.246784   \n1                       1.321014      1.163583                3.525886   \n2                       3.757982      1.797120                1.114398   \n3                       2.580400      1.584456                3.514814   \n4                       2.541403      2.042611                4.121133   \n..                           ...           ...                     ...   \n308                     3.352443      1.685154                2.765277   \n309                     4.383297      2.703585                0.395249   \n310                     2.142643      2.831087                5.165596   \n311                     0.816101      2.263149                4.052775   \n312                     0.749679      2.549958                4.468208   \n\n     boston_public_garden_distance  newbury_street_distance  \\\n0                         1.861094                 1.220776   \n1                         3.153329                 2.427624   \n2                         0.669948                 0.500724   \n3                         3.067487                 2.049614   \n4                         3.679314                 2.676779   \n..                             ...                      ...   \n308                       2.304460                 1.214474   \n309                       0.856422                 1.946195   \n310                       4.764520                 3.892831   \n311                       3.866193                 3.660657   \n312                       4.260417                 3.978581   \n\n     south_station_distance  north_station_distance  back_bay_station_distance  \n0                  3.195646                2.760200                   1.904668  \n1                  4.483532                3.882721                   3.149924  \n2                  1.839755                2.198291                   0.323908  \n3                  4.374321                4.225473                   2.747706  \n4                  4.995049                4.774306                   3.377621  \n..                      ...                     ...                        ...  \n308                3.502844                3.703488                   1.787130  \n309                0.728667                0.988519                   1.521709  \n310                6.104186                5.573593                   4.622995  \n311                4.980976                3.792258                   4.240577  \n312                5.406497                4.244542                   4.590774  \n\n[313 rows x 14 columns]",
      "text/html": "<div>\n<style scoped>\n    .dataframe tbody tr th:only-of-type {\n        vertical-align: middle;\n    }\n\n    .dataframe tbody tr th {\n        vertical-align: top;\n    }\n\n    .dataframe thead th {\n        text-align: right;\n    }\n</style>\n<table border=\"1\" class=\"dataframe\">\n  <thead>\n    <tr style=\"text-align: right;\">\n      <th></th>\n      <th>station_id</th>\n      <th>lat</th>\n      <th>lon</th>\n      <th>city_center_distance</th>\n      <th>boston_university_distance</th>\n      <th>fenway_park_distance</th>\n      <th>harvard_university_distance</th>\n      <th>mit_distance</th>\n      <th>boston_common_distance</th>\n      <th>boston_public_garden_distance</th>\n      <th>newbury_street_distance</th>\n      <th>south_station_distance</th>\n      <th>north_station_distance</th>\n      <th>back_bay_station_distance</th>\n    </tr>\n  </thead>\n  <tbody>\n    <tr>\n      <th>0</th>\n      <td>67</td>\n      <td>42.358100</td>\n      <td>-71.093198</td>\n      <td>2.835790</td>\n      <td>1.312488</td>\n      <td>1.311493</td>\n      <td>2.196322</td>\n      <td>0.234932</td>\n      <td>2.246784</td>\n      <td>1.861094</td>\n      <td>1.220776</td>\n      <td>3.195646</td>\n      <td>2.760200</td>\n      <td>1.904668</td>\n    </tr>\n    <tr>\n      <th>1</th>\n      <td>139</td>\n      <td>42.361780</td>\n      <td>-71.108100</td>\n      <td>4.059136</td>\n      <td>1.272305</td>\n      <td>1.902310</td>\n      <td>1.321014</td>\n      <td>1.163583</td>\n      <td>3.525886</td>\n      <td>3.153329</td>\n      <td>2.427624</td>\n      <td>4.483532</td>\n      <td>3.882721</td>\n      <td>3.149924</td>\n    </tr>\n    <tr>\n      <th>2</th>\n      <td>36</td>\n      <td>42.349792</td>\n      <td>-71.077338</td>\n      <td>1.902449</td>\n      <td>2.313407</td>\n      <td>1.674192</td>\n      <td>3.757982</td>\n      <td>1.797120</td>\n      <td>1.114398</td>\n      <td>0.669948</td>\n      <td>0.500724</td>\n      <td>1.839755</td>\n      <td>2.198291</td>\n      <td>0.323908</td>\n    </tr>\n    <tr>\n      <th>3</th>\n      <td>10</td>\n      <td>42.350406</td>\n      <td>-71.108279</td>\n      <td>4.209433</td>\n      <td>0.237541</td>\n      <td>1.001153</td>\n      <td>2.580400</td>\n      <td>1.584456</td>\n      <td>3.514814</td>\n      <td>3.067487</td>\n      <td>2.049614</td>\n      <td>4.374321</td>\n      <td>4.225473</td>\n      <td>2.747706</td>\n    </tr>\n    <tr>\n      <th>4</th>\n      <td>9</td>\n      <td>42.351187</td>\n      <td>-71.115852</td>\n      <td>4.796679</td>\n      <td>0.864608</td>\n      <td>1.615064</td>\n      <td>2.541403</td>\n      <td>2.042611</td>\n      <td>4.121133</td>\n      <td>3.679314</td>\n      <td>2.676779</td>\n      <td>4.995049</td>\n      <td>4.774306</td>\n      <td>3.377621</td>\n    </tr>\n    <tr>\n      <th>...</th>\n      <td>...</td>\n      <td>...</td>\n      <td>...</td>\n      <td>...</td>\n      <td>...</td>\n      <td>...</td>\n      <td>...</td>\n      <td>...</td>\n      <td>...</td>\n      <td>...</td>\n      <td>...</td>\n      <td>...</td>\n      <td>...</td>\n      <td>...</td>\n    </tr>\n    <tr>\n      <th>308</th>\n      <td>229</td>\n      <td>42.345033</td>\n      <td>-71.096649</td>\n      <td>3.532434</td>\n      <td>0.942848</td>\n      <td>0.188411</td>\n      <td>3.352443</td>\n      <td>1.685154</td>\n      <td>2.765277</td>\n      <td>2.304460</td>\n      <td>1.214474</td>\n      <td>3.502844</td>\n      <td>3.703488</td>\n      <td>1.787130</td>\n    </tr>\n    <tr>\n      <th>309</th>\n      <td>374</td>\n      <td>42.356683</td>\n      <td>-71.061666</td>\n      <td>0.441839</td>\n      <td>3.667965</td>\n      <td>3.133033</td>\n      <td>4.383297</td>\n      <td>2.703585</td>\n      <td>0.395249</td>\n      <td>0.856422</td>\n      <td>1.946195</td>\n      <td>0.728667</td>\n      <td>0.988519</td>\n      <td>1.521709</td>\n    </tr>\n    <tr>\n      <th>310</th>\n      <td>376</td>\n      <td>42.360274</td>\n      <td>-71.128525</td>\n      <td>5.737488</td>\n      <td>2.192714</td>\n      <td>2.989070</td>\n      <td>2.142643</td>\n      <td>2.831087</td>\n      <td>5.165596</td>\n      <td>4.764520</td>\n      <td>3.892831</td>\n      <td>6.104186</td>\n      <td>5.573593</td>\n      <td>4.622995</td>\n    </tr>\n    <tr>\n      <th>311</th>\n      <td>377</td>\n      <td>42.379273</td>\n      <td>-71.103419</td>\n      <td>4.243053</td>\n      <td>3.199969</td>\n      <td>3.656769</td>\n      <td>0.816101</td>\n      <td>2.263149</td>\n      <td>4.052775</td>\n      <td>3.866193</td>\n      <td>3.660657</td>\n      <td>4.980976</td>\n      <td>3.792258</td>\n      <td>4.240577</td>\n    </tr>\n    <tr>\n      <th>312</th>\n      <td>378</td>\n      <td>42.380323</td>\n      <td>-71.108786</td>\n      <td>4.685436</td>\n      <td>3.324186</td>\n      <td>3.857133</td>\n      <td>0.749679</td>\n      <td>2.549958</td>\n      <td>4.468208</td>\n      <td>4.260417</td>\n      <td>3.978581</td>\n      <td>5.406497</td>\n      <td>4.244542</td>\n      <td>4.590774</td>\n    </tr>\n  </tbody>\n</table>\n<p>313 rows × 14 columns</p>\n</div>"
     },
     "execution_count": 32,
     "metadata": {},
     "output_type": "execute_result"
    }
   ],
   "source": [
    "# Important locations in Boston\n",
    "locations = {\n",
    "    'city_center': (42.360082, -71.058880), # Boston City Center\n",
    "    'boston_university': (42.350503, -71.105399), # Boston University\n",
    "    'fenway_park': (42.346676, -71.097218), # Fenway Park\n",
    "    'harvard_university': (42.373611, -71.109733), # Harvard University\n",
    "    'mit': (42.360091, -71.094160), # Massachusetts Institute of Technology\n",
    "    'boston_common': (42.355443, -71.066163), # Boston Common: public park in downtown\n",
    "    'boston_public_garden': (42.353865, -71.071342), # Boston Public Garden\n",
    "    'newbury_street': (42.349846, -71.083415), # Newbury Street (shopping district)\n",
    "    'south_station': (42.352175, -71.055242), # South Station (major train/subway station)\n",
    "    'north_station': (42.365577, -71.061245), # North Station (major train/subway station)\n",
    "    'back_bay_station': (42.347351, -71.075187), # Back Bay Station (major train/subway station)\n",
    "}\n",
    "# Calculate distance to each location\n",
    "for loc_name, loc_coord in locations.items():\n",
    "    bluebikes_stations_dist[loc_name + '_distance'] = bluebikes_stations_dist.apply(lambda row: geodesic((row['lat'], row['lon']), loc_coord).km, axis=1)\n",
    "\n",
    "bluebikes_stations_dist"
   ],
   "metadata": {
    "collapsed": false,
    "ExecuteTime": {
     "start_time": "2023-06-26T12:38:55.720778Z",
     "end_time": "2023-06-26T12:38:56.689228Z"
    }
   }
  },
  {
   "cell_type": "markdown",
   "source": [
    "Stations with lowest distance to north station: 22, 192 59 35 64 48 157 81 365 302 43 151 374 54 23 218 20 7 24 49"
   ],
   "metadata": {
    "collapsed": false
   }
  },
  {
   "cell_type": "code",
   "execution_count": 49,
   "outputs": [
    {
     "data": {
      "text/plain": "start_station_id\n1      18.716289\n3       1.887311\n4       1.802574\n5       0.926074\n6       0.656744\n         ...    \n373    74.029383\n374     1.424251\n376    10.969248\n377     4.868800\n378     6.520556\nName: idle_time_hours, Length: 313, dtype: float64"
     },
     "execution_count": 49,
     "metadata": {},
     "output_type": "execute_result"
    }
   ],
   "source": [
    "# Convert idle_time to timedelta type\n",
    "bluebikes['idle_time'] = pd.to_timedelta(bluebikes['idle_time'])\n",
    "\n",
    "# Convert idle_time to minutes\n",
    "bluebikes['idle_time_hours'] = bluebikes['idle_time'].dt.total_seconds() / 3600\n",
    "\n",
    "# Calculate total idle time per start station\n",
    "total_idle_time = bluebikes.groupby('start_station_id')['idle_time_hours'].mean()\n",
    "\n",
    "total_idle_time"
   ],
   "metadata": {
    "collapsed": false,
    "ExecuteTime": {
     "start_time": "2023-06-26T16:09:46.615840Z",
     "end_time": "2023-06-26T16:09:46.980005Z"
    }
   }
  },
  {
   "cell_type": "markdown",
   "source": [
    "Merge the two tables and compare the idle times with the calculated distances."
   ],
   "metadata": {
    "collapsed": false
   }
  },
  {
   "cell_type": "code",
   "execution_count": 45,
   "outputs": [
    {
     "data": {
      "text/plain": "     station_id        lat        lon  city_center_distance  \\\n0            67  42.358100 -71.093198              2.835790   \n1           139  42.361780 -71.108100              4.059136   \n2            36  42.349792 -71.077338              1.902449   \n3            10  42.350406 -71.108279              4.209433   \n4             9  42.351187 -71.115852              4.796679   \n..          ...        ...        ...                   ...   \n308         229  42.345033 -71.096649              3.532434   \n309         374  42.356683 -71.061666              0.441839   \n310         376  42.360274 -71.128525              5.737488   \n311         377  42.379273 -71.103419              4.243053   \n312         378  42.380323 -71.108786              4.685436   \n\n     boston_university_distance  fenway_park_distance  \\\n0                      1.312488              1.311493   \n1                      1.272305              1.902310   \n2                      2.313407              1.674192   \n3                      0.237541              1.001153   \n4                      0.864608              1.615064   \n..                          ...                   ...   \n308                    0.942848              0.188411   \n309                    3.667965              3.133033   \n310                    2.192714              2.989070   \n311                    3.199969              3.656769   \n312                    3.324186              3.857133   \n\n     harvard_university_distance  mit_distance  boston_common_distance  \\\n0                       2.196322      0.234932                2.246784   \n1                       1.321014      1.163583                3.525886   \n2                       3.757982      1.797120                1.114398   \n3                       2.580400      1.584456                3.514814   \n4                       2.541403      2.042611                4.121133   \n..                           ...           ...                     ...   \n308                     3.352443      1.685154                2.765277   \n309                     4.383297      2.703585                0.395249   \n310                     2.142643      2.831087                5.165596   \n311                     0.816101      2.263149                4.052775   \n312                     0.749679      2.549958                4.468208   \n\n     boston_public_garden_distance  newbury_street_distance  \\\n0                         1.861094                 1.220776   \n1                         3.153329                 2.427624   \n2                         0.669948                 0.500724   \n3                         3.067487                 2.049614   \n4                         3.679314                 2.676779   \n..                             ...                      ...   \n308                       2.304460                 1.214474   \n309                       0.856422                 1.946195   \n310                       4.764520                 3.892831   \n311                       3.866193                 3.660657   \n312                       4.260417                 3.978581   \n\n     south_station_distance  north_station_distance  \\\n0                  3.195646                2.760200   \n1                  4.483532                3.882721   \n2                  1.839755                2.198291   \n3                  4.374321                4.225473   \n4                  4.995049                4.774306   \n..                      ...                     ...   \n308                3.502844                3.703488   \n309                0.728667                0.988519   \n310                6.104186                5.573593   \n311                4.980976                3.792258   \n312                5.406497                4.244542   \n\n     back_bay_station_distance  idle_time_hours  \n0                     1.904668     17818.559444  \n1                     3.149924     40969.531111  \n2                     0.323908     14891.648056  \n3                     2.747706     12890.978889  \n4                     3.377621     15306.393333  \n..                         ...              ...  \n308                   1.787130         0.000000  \n309                   1.521709       810.398611  \n310                   4.622995       932.386111  \n311                   4.240577      1363.263889  \n312                   4.590774       880.275000  \n\n[313 rows x 15 columns]",
      "text/html": "<div>\n<style scoped>\n    .dataframe tbody tr th:only-of-type {\n        vertical-align: middle;\n    }\n\n    .dataframe tbody tr th {\n        vertical-align: top;\n    }\n\n    .dataframe thead th {\n        text-align: right;\n    }\n</style>\n<table border=\"1\" class=\"dataframe\">\n  <thead>\n    <tr style=\"text-align: right;\">\n      <th></th>\n      <th>station_id</th>\n      <th>lat</th>\n      <th>lon</th>\n      <th>city_center_distance</th>\n      <th>boston_university_distance</th>\n      <th>fenway_park_distance</th>\n      <th>harvard_university_distance</th>\n      <th>mit_distance</th>\n      <th>boston_common_distance</th>\n      <th>boston_public_garden_distance</th>\n      <th>newbury_street_distance</th>\n      <th>south_station_distance</th>\n      <th>north_station_distance</th>\n      <th>back_bay_station_distance</th>\n      <th>idle_time_hours</th>\n    </tr>\n  </thead>\n  <tbody>\n    <tr>\n      <th>0</th>\n      <td>67</td>\n      <td>42.358100</td>\n      <td>-71.093198</td>\n      <td>2.835790</td>\n      <td>1.312488</td>\n      <td>1.311493</td>\n      <td>2.196322</td>\n      <td>0.234932</td>\n      <td>2.246784</td>\n      <td>1.861094</td>\n      <td>1.220776</td>\n      <td>3.195646</td>\n      <td>2.760200</td>\n      <td>1.904668</td>\n      <td>17818.559444</td>\n    </tr>\n    <tr>\n      <th>1</th>\n      <td>139</td>\n      <td>42.361780</td>\n      <td>-71.108100</td>\n      <td>4.059136</td>\n      <td>1.272305</td>\n      <td>1.902310</td>\n      <td>1.321014</td>\n      <td>1.163583</td>\n      <td>3.525886</td>\n      <td>3.153329</td>\n      <td>2.427624</td>\n      <td>4.483532</td>\n      <td>3.882721</td>\n      <td>3.149924</td>\n      <td>40969.531111</td>\n    </tr>\n    <tr>\n      <th>2</th>\n      <td>36</td>\n      <td>42.349792</td>\n      <td>-71.077338</td>\n      <td>1.902449</td>\n      <td>2.313407</td>\n      <td>1.674192</td>\n      <td>3.757982</td>\n      <td>1.797120</td>\n      <td>1.114398</td>\n      <td>0.669948</td>\n      <td>0.500724</td>\n      <td>1.839755</td>\n      <td>2.198291</td>\n      <td>0.323908</td>\n      <td>14891.648056</td>\n    </tr>\n    <tr>\n      <th>3</th>\n      <td>10</td>\n      <td>42.350406</td>\n      <td>-71.108279</td>\n      <td>4.209433</td>\n      <td>0.237541</td>\n      <td>1.001153</td>\n      <td>2.580400</td>\n      <td>1.584456</td>\n      <td>3.514814</td>\n      <td>3.067487</td>\n      <td>2.049614</td>\n      <td>4.374321</td>\n      <td>4.225473</td>\n      <td>2.747706</td>\n      <td>12890.978889</td>\n    </tr>\n    <tr>\n      <th>4</th>\n      <td>9</td>\n      <td>42.351187</td>\n      <td>-71.115852</td>\n      <td>4.796679</td>\n      <td>0.864608</td>\n      <td>1.615064</td>\n      <td>2.541403</td>\n      <td>2.042611</td>\n      <td>4.121133</td>\n      <td>3.679314</td>\n      <td>2.676779</td>\n      <td>4.995049</td>\n      <td>4.774306</td>\n      <td>3.377621</td>\n      <td>15306.393333</td>\n    </tr>\n    <tr>\n      <th>...</th>\n      <td>...</td>\n      <td>...</td>\n      <td>...</td>\n      <td>...</td>\n      <td>...</td>\n      <td>...</td>\n      <td>...</td>\n      <td>...</td>\n      <td>...</td>\n      <td>...</td>\n      <td>...</td>\n      <td>...</td>\n      <td>...</td>\n      <td>...</td>\n      <td>...</td>\n    </tr>\n    <tr>\n      <th>308</th>\n      <td>229</td>\n      <td>42.345033</td>\n      <td>-71.096649</td>\n      <td>3.532434</td>\n      <td>0.942848</td>\n      <td>0.188411</td>\n      <td>3.352443</td>\n      <td>1.685154</td>\n      <td>2.765277</td>\n      <td>2.304460</td>\n      <td>1.214474</td>\n      <td>3.502844</td>\n      <td>3.703488</td>\n      <td>1.787130</td>\n      <td>0.000000</td>\n    </tr>\n    <tr>\n      <th>309</th>\n      <td>374</td>\n      <td>42.356683</td>\n      <td>-71.061666</td>\n      <td>0.441839</td>\n      <td>3.667965</td>\n      <td>3.133033</td>\n      <td>4.383297</td>\n      <td>2.703585</td>\n      <td>0.395249</td>\n      <td>0.856422</td>\n      <td>1.946195</td>\n      <td>0.728667</td>\n      <td>0.988519</td>\n      <td>1.521709</td>\n      <td>810.398611</td>\n    </tr>\n    <tr>\n      <th>310</th>\n      <td>376</td>\n      <td>42.360274</td>\n      <td>-71.128525</td>\n      <td>5.737488</td>\n      <td>2.192714</td>\n      <td>2.989070</td>\n      <td>2.142643</td>\n      <td>2.831087</td>\n      <td>5.165596</td>\n      <td>4.764520</td>\n      <td>3.892831</td>\n      <td>6.104186</td>\n      <td>5.573593</td>\n      <td>4.622995</td>\n      <td>932.386111</td>\n    </tr>\n    <tr>\n      <th>311</th>\n      <td>377</td>\n      <td>42.379273</td>\n      <td>-71.103419</td>\n      <td>4.243053</td>\n      <td>3.199969</td>\n      <td>3.656769</td>\n      <td>0.816101</td>\n      <td>2.263149</td>\n      <td>4.052775</td>\n      <td>3.866193</td>\n      <td>3.660657</td>\n      <td>4.980976</td>\n      <td>3.792258</td>\n      <td>4.240577</td>\n      <td>1363.263889</td>\n    </tr>\n    <tr>\n      <th>312</th>\n      <td>378</td>\n      <td>42.380323</td>\n      <td>-71.108786</td>\n      <td>4.685436</td>\n      <td>3.324186</td>\n      <td>3.857133</td>\n      <td>0.749679</td>\n      <td>2.549958</td>\n      <td>4.468208</td>\n      <td>4.260417</td>\n      <td>3.978581</td>\n      <td>5.406497</td>\n      <td>4.244542</td>\n      <td>4.590774</td>\n      <td>880.275000</td>\n    </tr>\n  </tbody>\n</table>\n<p>313 rows × 15 columns</p>\n</div>"
     },
     "execution_count": 45,
     "metadata": {},
     "output_type": "execute_result"
    }
   ],
   "source": [
    "merge = pd.merge(bluebikes_stations_dist, total_idle_time, left_on='station_id', right_on='start_station_id', how='inner')\n",
    "merge"
   ],
   "metadata": {
    "collapsed": false,
    "ExecuteTime": {
     "start_time": "2023-06-26T15:42:59.008909Z",
     "end_time": "2023-06-26T15:42:59.084993Z"
    }
   }
  },
  {
   "cell_type": "code",
   "execution_count": 46,
   "outputs": [
    {
     "data": {
      "text/plain": "                               station_id       lat       lon  \\\nstation_id                       1.000000 -0.210642 -0.071248   \nlat                             -0.210642  1.000000 -0.084013   \nlon                             -0.071248 -0.084013  1.000000   \ncity_center_distance             0.333029 -0.404726 -0.637454   \nboston_university_distance       0.340180 -0.292182  0.294445   \nfenway_park_distance             0.344237 -0.143003  0.078659   \nharvard_university_distance      0.303147 -0.797734  0.364481   \nmit_distance                     0.378826 -0.567075  0.040594   \nboston_common_distance           0.348926 -0.328446 -0.573774   \nboston_public_garden_distance    0.360185 -0.307813 -0.500103   \nnewbury_street_distance          0.372364 -0.225413 -0.267153   \nsouth_station_distance           0.313229 -0.206425 -0.717860   \nnorth_station_distance           0.332835 -0.530772 -0.567687   \nback_bay_station_distance        0.348444 -0.121763 -0.453744   \nidle_time_hours                 -0.636788  0.255007  0.064506   \n\n                               city_center_distance  \\\nstation_id                                 0.333029   \nlat                                       -0.404726   \nlon                                       -0.637454   \ncity_center_distance                       1.000000   \nboston_university_distance                 0.425940   \nfenway_park_distance                       0.549080   \nharvard_university_distance                0.377494   \nmit_distance                               0.692257   \nboston_common_distance                     0.983868   \nboston_public_garden_distance              0.957719   \nnewbury_street_distance                    0.820515   \nsouth_station_distance                     0.970841   \nnorth_station_distance                     0.986164   \nback_bay_station_distance                  0.875511   \nidle_time_hours                           -0.256764   \n\n                               boston_university_distance  \\\nstation_id                                       0.340180   \nlat                                             -0.292182   \nlon                                              0.294445   \ncity_center_distance                             0.425940   \nboston_university_distance                       1.000000   \nfenway_park_distance                             0.959331   \nharvard_university_distance                      0.746630   \nmit_distance                                     0.898708   \nboston_common_distance                           0.532505   \nboston_public_garden_distance                    0.616797   \nnewbury_street_distance                          0.813441   \nsouth_station_distance                           0.368777   \nnorth_station_distance                           0.450400   \nback_bay_station_distance                        0.665062   \nidle_time_hours                                 -0.189567   \n\n                               fenway_park_distance  \\\nstation_id                                 0.344237   \nlat                                       -0.143003   \nlon                                        0.078659   \ncity_center_distance                       0.549080   \nboston_university_distance                 0.959331   \nfenway_park_distance                       1.000000   \nharvard_university_distance                0.586137   \nmit_distance                               0.866077   \nboston_common_distance                     0.664573   \nboston_public_garden_distance              0.742956   \nnewbury_street_distance                    0.915319   \nsouth_station_distance                     0.539836   \nnorth_station_distance                     0.537143   \nback_bay_station_distance                  0.818027   \nidle_time_hours                           -0.165725   \n\n                               harvard_university_distance  mit_distance  \\\nstation_id                                        0.303147      0.378826   \nlat                                              -0.797734     -0.567075   \nlon                                               0.364481      0.040594   \ncity_center_distance                              0.377494      0.692257   \nboston_university_distance                        0.746630      0.898708   \nfenway_park_distance                              0.586137      0.866077   \nharvard_university_distance                       1.000000      0.856926   \nmit_distance                                      0.856926      1.000000   \nboston_common_distance                            0.393943      0.746337   \nboston_public_garden_distance                     0.436358      0.795684   \nnewbury_street_distance                           0.517857      0.873757   \nsouth_station_distance                            0.201830      0.586955   \nnorth_station_distance                            0.487442      0.742823   \nback_bay_station_distance                         0.341490      0.753706   \nidle_time_hours                                  -0.264889     -0.264944   \n\n                               boston_common_distance  \\\nstation_id                                   0.348926   \nlat                                         -0.328446   \nlon                                         -0.573774   \ncity_center_distance                         0.983868   \nboston_university_distance                   0.532505   \nfenway_park_distance                         0.664573   \nharvard_university_distance                  0.393943   \nmit_distance                                 0.746337   \nboston_common_distance                       1.000000   \nboston_public_garden_distance                0.992779   \nnewbury_street_distance                      0.900807   \nsouth_station_distance                       0.972821   \nnorth_station_distance                       0.958567   \nback_bay_station_distance                    0.944540   \nidle_time_hours                             -0.238981   \n\n                               boston_public_garden_distance  \\\nstation_id                                          0.360185   \nlat                                                -0.307813   \nlon                                                -0.500103   \ncity_center_distance                                0.957719   \nboston_university_distance                          0.616797   \nfenway_park_distance                                0.742956   \nharvard_university_distance                         0.436358   \nmit_distance                                        0.795684   \nboston_common_distance                              0.992779   \nboston_public_garden_distance                       1.000000   \nnewbury_street_distance                             0.945034   \nsouth_station_distance                              0.948045   \nnorth_station_distance                              0.932712   \nback_bay_station_distance                           0.970415   \nidle_time_hours                                    -0.232533   \n\n                               newbury_street_distance  \\\nstation_id                                    0.372364   \nlat                                          -0.225413   \nlon                                          -0.267153   \ncity_center_distance                          0.820515   \nboston_university_distance                    0.813441   \nfenway_park_distance                          0.915319   \nharvard_university_distance                   0.517857   \nmit_distance                                  0.873757   \nboston_common_distance                        0.900807   \nboston_public_garden_distance                 0.945034   \nnewbury_street_distance                       1.000000   \nsouth_station_distance                        0.816520   \nnorth_station_distance                        0.796703   \nback_bay_station_distance                     0.971349   \nidle_time_hours                              -0.207242   \n\n                               south_station_distance  north_station_distance  \\\nstation_id                                   0.313229                0.332835   \nlat                                         -0.206425               -0.530772   \nlon                                         -0.717860               -0.567687   \ncity_center_distance                         0.970841                0.986164   \nboston_university_distance                   0.368777                0.450400   \nfenway_park_distance                         0.539836                0.537143   \nharvard_university_distance                  0.201830                0.487442   \nmit_distance                                 0.586955                0.742823   \nboston_common_distance                       0.972821                0.958567   \nboston_public_garden_distance                0.948045                0.932712   \nnewbury_street_distance                      0.816520                0.796703   \nsouth_station_distance                       1.000000                0.919817   \nnorth_station_distance                       0.919817                1.000000   \nback_bay_station_distance                    0.908862                0.824665   \nidle_time_hours                             -0.216253               -0.279997   \n\n                               back_bay_station_distance  idle_time_hours  \nstation_id                                      0.348444        -0.636788  \nlat                                            -0.121763         0.255007  \nlon                                            -0.453744         0.064506  \ncity_center_distance                            0.875511        -0.256764  \nboston_university_distance                      0.665062        -0.189567  \nfenway_park_distance                            0.818027        -0.165725  \nharvard_university_distance                     0.341490        -0.264889  \nmit_distance                                    0.753706        -0.264944  \nboston_common_distance                          0.944540        -0.238981  \nboston_public_garden_distance                   0.970415        -0.232533  \nnewbury_street_distance                         0.971349        -0.207242  \nsouth_station_distance                          0.908862        -0.216253  \nnorth_station_distance                          0.824665        -0.279997  \nback_bay_station_distance                       1.000000        -0.192145  \nidle_time_hours                                -0.192145         1.000000  ",
      "text/html": "<div>\n<style scoped>\n    .dataframe tbody tr th:only-of-type {\n        vertical-align: middle;\n    }\n\n    .dataframe tbody tr th {\n        vertical-align: top;\n    }\n\n    .dataframe thead th {\n        text-align: right;\n    }\n</style>\n<table border=\"1\" class=\"dataframe\">\n  <thead>\n    <tr style=\"text-align: right;\">\n      <th></th>\n      <th>station_id</th>\n      <th>lat</th>\n      <th>lon</th>\n      <th>city_center_distance</th>\n      <th>boston_university_distance</th>\n      <th>fenway_park_distance</th>\n      <th>harvard_university_distance</th>\n      <th>mit_distance</th>\n      <th>boston_common_distance</th>\n      <th>boston_public_garden_distance</th>\n      <th>newbury_street_distance</th>\n      <th>south_station_distance</th>\n      <th>north_station_distance</th>\n      <th>back_bay_station_distance</th>\n      <th>idle_time_hours</th>\n    </tr>\n  </thead>\n  <tbody>\n    <tr>\n      <th>station_id</th>\n      <td>1.000000</td>\n      <td>-0.210642</td>\n      <td>-0.071248</td>\n      <td>0.333029</td>\n      <td>0.340180</td>\n      <td>0.344237</td>\n      <td>0.303147</td>\n      <td>0.378826</td>\n      <td>0.348926</td>\n      <td>0.360185</td>\n      <td>0.372364</td>\n      <td>0.313229</td>\n      <td>0.332835</td>\n      <td>0.348444</td>\n      <td>-0.636788</td>\n    </tr>\n    <tr>\n      <th>lat</th>\n      <td>-0.210642</td>\n      <td>1.000000</td>\n      <td>-0.084013</td>\n      <td>-0.404726</td>\n      <td>-0.292182</td>\n      <td>-0.143003</td>\n      <td>-0.797734</td>\n      <td>-0.567075</td>\n      <td>-0.328446</td>\n      <td>-0.307813</td>\n      <td>-0.225413</td>\n      <td>-0.206425</td>\n      <td>-0.530772</td>\n      <td>-0.121763</td>\n      <td>0.255007</td>\n    </tr>\n    <tr>\n      <th>lon</th>\n      <td>-0.071248</td>\n      <td>-0.084013</td>\n      <td>1.000000</td>\n      <td>-0.637454</td>\n      <td>0.294445</td>\n      <td>0.078659</td>\n      <td>0.364481</td>\n      <td>0.040594</td>\n      <td>-0.573774</td>\n      <td>-0.500103</td>\n      <td>-0.267153</td>\n      <td>-0.717860</td>\n      <td>-0.567687</td>\n      <td>-0.453744</td>\n      <td>0.064506</td>\n    </tr>\n    <tr>\n      <th>city_center_distance</th>\n      <td>0.333029</td>\n      <td>-0.404726</td>\n      <td>-0.637454</td>\n      <td>1.000000</td>\n      <td>0.425940</td>\n      <td>0.549080</td>\n      <td>0.377494</td>\n      <td>0.692257</td>\n      <td>0.983868</td>\n      <td>0.957719</td>\n      <td>0.820515</td>\n      <td>0.970841</td>\n      <td>0.986164</td>\n      <td>0.875511</td>\n      <td>-0.256764</td>\n    </tr>\n    <tr>\n      <th>boston_university_distance</th>\n      <td>0.340180</td>\n      <td>-0.292182</td>\n      <td>0.294445</td>\n      <td>0.425940</td>\n      <td>1.000000</td>\n      <td>0.959331</td>\n      <td>0.746630</td>\n      <td>0.898708</td>\n      <td>0.532505</td>\n      <td>0.616797</td>\n      <td>0.813441</td>\n      <td>0.368777</td>\n      <td>0.450400</td>\n      <td>0.665062</td>\n      <td>-0.189567</td>\n    </tr>\n    <tr>\n      <th>fenway_park_distance</th>\n      <td>0.344237</td>\n      <td>-0.143003</td>\n      <td>0.078659</td>\n      <td>0.549080</td>\n      <td>0.959331</td>\n      <td>1.000000</td>\n      <td>0.586137</td>\n      <td>0.866077</td>\n      <td>0.664573</td>\n      <td>0.742956</td>\n      <td>0.915319</td>\n      <td>0.539836</td>\n      <td>0.537143</td>\n      <td>0.818027</td>\n      <td>-0.165725</td>\n    </tr>\n    <tr>\n      <th>harvard_university_distance</th>\n      <td>0.303147</td>\n      <td>-0.797734</td>\n      <td>0.364481</td>\n      <td>0.377494</td>\n      <td>0.746630</td>\n      <td>0.586137</td>\n      <td>1.000000</td>\n      <td>0.856926</td>\n      <td>0.393943</td>\n      <td>0.436358</td>\n      <td>0.517857</td>\n      <td>0.201830</td>\n      <td>0.487442</td>\n      <td>0.341490</td>\n      <td>-0.264889</td>\n    </tr>\n    <tr>\n      <th>mit_distance</th>\n      <td>0.378826</td>\n      <td>-0.567075</td>\n      <td>0.040594</td>\n      <td>0.692257</td>\n      <td>0.898708</td>\n      <td>0.866077</td>\n      <td>0.856926</td>\n      <td>1.000000</td>\n      <td>0.746337</td>\n      <td>0.795684</td>\n      <td>0.873757</td>\n      <td>0.586955</td>\n      <td>0.742823</td>\n      <td>0.753706</td>\n      <td>-0.264944</td>\n    </tr>\n    <tr>\n      <th>boston_common_distance</th>\n      <td>0.348926</td>\n      <td>-0.328446</td>\n      <td>-0.573774</td>\n      <td>0.983868</td>\n      <td>0.532505</td>\n      <td>0.664573</td>\n      <td>0.393943</td>\n      <td>0.746337</td>\n      <td>1.000000</td>\n      <td>0.992779</td>\n      <td>0.900807</td>\n      <td>0.972821</td>\n      <td>0.958567</td>\n      <td>0.944540</td>\n      <td>-0.238981</td>\n    </tr>\n    <tr>\n      <th>boston_public_garden_distance</th>\n      <td>0.360185</td>\n      <td>-0.307813</td>\n      <td>-0.500103</td>\n      <td>0.957719</td>\n      <td>0.616797</td>\n      <td>0.742956</td>\n      <td>0.436358</td>\n      <td>0.795684</td>\n      <td>0.992779</td>\n      <td>1.000000</td>\n      <td>0.945034</td>\n      <td>0.948045</td>\n      <td>0.932712</td>\n      <td>0.970415</td>\n      <td>-0.232533</td>\n    </tr>\n    <tr>\n      <th>newbury_street_distance</th>\n      <td>0.372364</td>\n      <td>-0.225413</td>\n      <td>-0.267153</td>\n      <td>0.820515</td>\n      <td>0.813441</td>\n      <td>0.915319</td>\n      <td>0.517857</td>\n      <td>0.873757</td>\n      <td>0.900807</td>\n      <td>0.945034</td>\n      <td>1.000000</td>\n      <td>0.816520</td>\n      <td>0.796703</td>\n      <td>0.971349</td>\n      <td>-0.207242</td>\n    </tr>\n    <tr>\n      <th>south_station_distance</th>\n      <td>0.313229</td>\n      <td>-0.206425</td>\n      <td>-0.717860</td>\n      <td>0.970841</td>\n      <td>0.368777</td>\n      <td>0.539836</td>\n      <td>0.201830</td>\n      <td>0.586955</td>\n      <td>0.972821</td>\n      <td>0.948045</td>\n      <td>0.816520</td>\n      <td>1.000000</td>\n      <td>0.919817</td>\n      <td>0.908862</td>\n      <td>-0.216253</td>\n    </tr>\n    <tr>\n      <th>north_station_distance</th>\n      <td>0.332835</td>\n      <td>-0.530772</td>\n      <td>-0.567687</td>\n      <td>0.986164</td>\n      <td>0.450400</td>\n      <td>0.537143</td>\n      <td>0.487442</td>\n      <td>0.742823</td>\n      <td>0.958567</td>\n      <td>0.932712</td>\n      <td>0.796703</td>\n      <td>0.919817</td>\n      <td>1.000000</td>\n      <td>0.824665</td>\n      <td>-0.279997</td>\n    </tr>\n    <tr>\n      <th>back_bay_station_distance</th>\n      <td>0.348444</td>\n      <td>-0.121763</td>\n      <td>-0.453744</td>\n      <td>0.875511</td>\n      <td>0.665062</td>\n      <td>0.818027</td>\n      <td>0.341490</td>\n      <td>0.753706</td>\n      <td>0.944540</td>\n      <td>0.970415</td>\n      <td>0.971349</td>\n      <td>0.908862</td>\n      <td>0.824665</td>\n      <td>1.000000</td>\n      <td>-0.192145</td>\n    </tr>\n    <tr>\n      <th>idle_time_hours</th>\n      <td>-0.636788</td>\n      <td>0.255007</td>\n      <td>0.064506</td>\n      <td>-0.256764</td>\n      <td>-0.189567</td>\n      <td>-0.165725</td>\n      <td>-0.264889</td>\n      <td>-0.264944</td>\n      <td>-0.238981</td>\n      <td>-0.232533</td>\n      <td>-0.207242</td>\n      <td>-0.216253</td>\n      <td>-0.279997</td>\n      <td>-0.192145</td>\n      <td>1.000000</td>\n    </tr>\n  </tbody>\n</table>\n</div>"
     },
     "execution_count": 46,
     "metadata": {},
     "output_type": "execute_result"
    }
   ],
   "source": [
    "merge.corr()"
   ],
   "metadata": {
    "collapsed": false,
    "ExecuteTime": {
     "start_time": "2023-06-26T15:43:04.450724Z",
     "end_time": "2023-06-26T15:43:04.503074Z"
    }
   }
  },
  {
   "cell_type": "markdown",
   "source": [],
   "metadata": {
    "collapsed": false
   }
  },
  {
   "cell_type": "markdown",
   "source": [
    "Merge station_density data with the idle time to see if they correlate"
   ],
   "metadata": {
    "collapsed": false
   }
  },
  {
   "cell_type": "code",
   "execution_count": 39,
   "outputs": [
    {
     "data": {
      "text/plain": "     station_id        lat        lon                          geometry  \\\n0            67  42.358100 -71.093198  POINT (-7914058.600 5214772.943)   \n1           139  42.361780 -71.108100  POINT (-7915717.430 5215327.402)   \n2            36  42.349792 -71.077338  POINT (-7912293.113 5213521.392)   \n3            10  42.350406 -71.108279  POINT (-7915737.409 5213613.945)   \n4             9  42.351187 -71.115852  POINT (-7916580.435 5213731.525)   \n..          ...        ...        ...                               ...   \n308         229  42.345033 -71.096649  POINT (-7914442.783 5212804.682)   \n309         374  42.356683 -71.061666  POINT (-7910548.525 5214559.533)   \n310         376  42.360274 -71.128525  POINT (-7917991.131 5215100.408)   \n311         377  42.379273 -71.103419  POINT (-7915196.400 5217963.142)   \n312         378  42.380323 -71.108786  POINT (-7915793.863 5218121.391)   \n\n                                                buffer  station_density  \\\n0    POLYGON ((-7913058.600 5214772.943, -7913063.4...         0.954927   \n1    POLYGON ((-7914717.430 5215327.402, -7914722.2...         2.546473   \n2    POLYGON ((-7911293.113 5213521.392, -7911297.9...         2.864782   \n3    POLYGON ((-7914737.409 5213613.945, -7914742.2...         1.591546   \n4    POLYGON ((-7915580.435 5213731.525, -7915585.2...         1.273237   \n..                                                 ...              ...   \n308  POLYGON ((-7913442.783 5212804.682, -7913447.5...         3.501401   \n309  POLYGON ((-7909548.525 5214559.533, -7909553.3...         4.456328   \n310  POLYGON ((-7916991.131 5215100.408, -7916995.9...         0.636618   \n311  POLYGON ((-7914196.400 5217963.142, -7914201.2...         2.228164   \n312  POLYGON ((-7914793.863 5218121.391, -7914798.6...         2.546473   \n\n     idle_time_hours  \n0           0.185292  \n1           2.415799  \n2           0.333819  \n3           0.610715  \n4           0.786233  \n..               ...  \n308         0.000000  \n309         1.424251  \n310        10.969248  \n311         4.868800  \n312         6.520556  \n\n[313 rows x 7 columns]",
      "text/html": "<div>\n<style scoped>\n    .dataframe tbody tr th:only-of-type {\n        vertical-align: middle;\n    }\n\n    .dataframe tbody tr th {\n        vertical-align: top;\n    }\n\n    .dataframe thead th {\n        text-align: right;\n    }\n</style>\n<table border=\"1\" class=\"dataframe\">\n  <thead>\n    <tr style=\"text-align: right;\">\n      <th></th>\n      <th>station_id</th>\n      <th>lat</th>\n      <th>lon</th>\n      <th>geometry</th>\n      <th>buffer</th>\n      <th>station_density</th>\n      <th>idle_time_hours</th>\n    </tr>\n  </thead>\n  <tbody>\n    <tr>\n      <th>0</th>\n      <td>67</td>\n      <td>42.358100</td>\n      <td>-71.093198</td>\n      <td>POINT (-7914058.600 5214772.943)</td>\n      <td>POLYGON ((-7913058.600 5214772.943, -7913063.4...</td>\n      <td>0.954927</td>\n      <td>0.185292</td>\n    </tr>\n    <tr>\n      <th>1</th>\n      <td>139</td>\n      <td>42.361780</td>\n      <td>-71.108100</td>\n      <td>POINT (-7915717.430 5215327.402)</td>\n      <td>POLYGON ((-7914717.430 5215327.402, -7914722.2...</td>\n      <td>2.546473</td>\n      <td>2.415799</td>\n    </tr>\n    <tr>\n      <th>2</th>\n      <td>36</td>\n      <td>42.349792</td>\n      <td>-71.077338</td>\n      <td>POINT (-7912293.113 5213521.392)</td>\n      <td>POLYGON ((-7911293.113 5213521.392, -7911297.9...</td>\n      <td>2.864782</td>\n      <td>0.333819</td>\n    </tr>\n    <tr>\n      <th>3</th>\n      <td>10</td>\n      <td>42.350406</td>\n      <td>-71.108279</td>\n      <td>POINT (-7915737.409 5213613.945)</td>\n      <td>POLYGON ((-7914737.409 5213613.945, -7914742.2...</td>\n      <td>1.591546</td>\n      <td>0.610715</td>\n    </tr>\n    <tr>\n      <th>4</th>\n      <td>9</td>\n      <td>42.351187</td>\n      <td>-71.115852</td>\n      <td>POINT (-7916580.435 5213731.525)</td>\n      <td>POLYGON ((-7915580.435 5213731.525, -7915585.2...</td>\n      <td>1.273237</td>\n      <td>0.786233</td>\n    </tr>\n    <tr>\n      <th>...</th>\n      <td>...</td>\n      <td>...</td>\n      <td>...</td>\n      <td>...</td>\n      <td>...</td>\n      <td>...</td>\n      <td>...</td>\n    </tr>\n    <tr>\n      <th>308</th>\n      <td>229</td>\n      <td>42.345033</td>\n      <td>-71.096649</td>\n      <td>POINT (-7914442.783 5212804.682)</td>\n      <td>POLYGON ((-7913442.783 5212804.682, -7913447.5...</td>\n      <td>3.501401</td>\n      <td>0.000000</td>\n    </tr>\n    <tr>\n      <th>309</th>\n      <td>374</td>\n      <td>42.356683</td>\n      <td>-71.061666</td>\n      <td>POINT (-7910548.525 5214559.533)</td>\n      <td>POLYGON ((-7909548.525 5214559.533, -7909553.3...</td>\n      <td>4.456328</td>\n      <td>1.424251</td>\n    </tr>\n    <tr>\n      <th>310</th>\n      <td>376</td>\n      <td>42.360274</td>\n      <td>-71.128525</td>\n      <td>POINT (-7917991.131 5215100.408)</td>\n      <td>POLYGON ((-7916991.131 5215100.408, -7916995.9...</td>\n      <td>0.636618</td>\n      <td>10.969248</td>\n    </tr>\n    <tr>\n      <th>311</th>\n      <td>377</td>\n      <td>42.379273</td>\n      <td>-71.103419</td>\n      <td>POINT (-7915196.400 5217963.142)</td>\n      <td>POLYGON ((-7914196.400 5217963.142, -7914201.2...</td>\n      <td>2.228164</td>\n      <td>4.868800</td>\n    </tr>\n    <tr>\n      <th>312</th>\n      <td>378</td>\n      <td>42.380323</td>\n      <td>-71.108786</td>\n      <td>POINT (-7915793.863 5218121.391)</td>\n      <td>POLYGON ((-7914793.863 5218121.391, -7914798.6...</td>\n      <td>2.546473</td>\n      <td>6.520556</td>\n    </tr>\n  </tbody>\n</table>\n<p>313 rows × 7 columns</p>\n</div>"
     },
     "execution_count": 39,
     "metadata": {},
     "output_type": "execute_result"
    }
   ],
   "source": [
    "merge_geodata = pd.merge(geodata, total_idle_time, left_on='station_id', right_on='start_station_id', how='inner')\n",
    "merge_geodata"
   ],
   "metadata": {
    "collapsed": false,
    "ExecuteTime": {
     "start_time": "2023-06-26T12:41:40.402527Z",
     "end_time": "2023-06-26T12:41:40.444812Z"
    }
   }
  },
  {
   "cell_type": "code",
   "execution_count": 43,
   "outputs": [
    {
     "name": "stderr",
     "output_type": "stream",
     "text": [
      "C:\\Users\\lauri\\AppData\\Local\\Temp\\ipykernel_11520\\2671976427.py:1: FutureWarning: The default value of numeric_only in GeoDataFrame.corr is deprecated. In a future version, it will default to False. Select only valid columns or specify the value of numeric_only to silence this warning.\n",
      "  merge_geodata.corr()\n"
     ]
    },
    {
     "data": {
      "text/plain": "                 station_id       lat       lon  station_density  \\\nstation_id         1.000000 -0.210642 -0.071248        -0.191791   \nlat               -0.210642  1.000000 -0.084013         0.159667   \nlon               -0.071248 -0.084013  1.000000         0.239616   \nstation_density   -0.191791  0.159667  0.239616         1.000000   \nidle_time_hours    0.427416 -0.521051  0.022001        -0.328333   \n\n                 idle_time_hours  \nstation_id              0.427416  \nlat                    -0.521051  \nlon                     0.022001  \nstation_density        -0.328333  \nidle_time_hours         1.000000  ",
      "text/html": "<div>\n<style scoped>\n    .dataframe tbody tr th:only-of-type {\n        vertical-align: middle;\n    }\n\n    .dataframe tbody tr th {\n        vertical-align: top;\n    }\n\n    .dataframe thead th {\n        text-align: right;\n    }\n</style>\n<table border=\"1\" class=\"dataframe\">\n  <thead>\n    <tr style=\"text-align: right;\">\n      <th></th>\n      <th>station_id</th>\n      <th>lat</th>\n      <th>lon</th>\n      <th>station_density</th>\n      <th>idle_time_hours</th>\n    </tr>\n  </thead>\n  <tbody>\n    <tr>\n      <th>station_id</th>\n      <td>1.000000</td>\n      <td>-0.210642</td>\n      <td>-0.071248</td>\n      <td>-0.191791</td>\n      <td>0.427416</td>\n    </tr>\n    <tr>\n      <th>lat</th>\n      <td>-0.210642</td>\n      <td>1.000000</td>\n      <td>-0.084013</td>\n      <td>0.159667</td>\n      <td>-0.521051</td>\n    </tr>\n    <tr>\n      <th>lon</th>\n      <td>-0.071248</td>\n      <td>-0.084013</td>\n      <td>1.000000</td>\n      <td>0.239616</td>\n      <td>0.022001</td>\n    </tr>\n    <tr>\n      <th>station_density</th>\n      <td>-0.191791</td>\n      <td>0.159667</td>\n      <td>0.239616</td>\n      <td>1.000000</td>\n      <td>-0.328333</td>\n    </tr>\n    <tr>\n      <th>idle_time_hours</th>\n      <td>0.427416</td>\n      <td>-0.521051</td>\n      <td>0.022001</td>\n      <td>-0.328333</td>\n      <td>1.000000</td>\n    </tr>\n  </tbody>\n</table>\n</div>"
     },
     "execution_count": 43,
     "metadata": {},
     "output_type": "execute_result"
    }
   ],
   "source": [
    "merge_geodata.corr()"
   ],
   "metadata": {
    "collapsed": false,
    "ExecuteTime": {
     "start_time": "2023-06-26T15:20:25.881123Z",
     "end_time": "2023-06-26T15:20:25.927013Z"
    }
   }
  }
 ],
 "metadata": {
  "kernelspec": {
   "display_name": "Python 3",
   "language": "python",
   "name": "python3"
  },
  "language_info": {
   "codemirror_mode": {
    "name": "ipython",
    "version": 2
   },
   "file_extension": ".py",
   "mimetype": "text/x-python",
   "name": "python",
   "nbconvert_exporter": "python",
   "pygments_lexer": "ipython2",
   "version": "2.7.6"
  }
 },
 "nbformat": 4,
 "nbformat_minor": 0
}
