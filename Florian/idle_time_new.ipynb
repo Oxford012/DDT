{
 "cells": [
  {
   "cell_type": "code",
   "execution_count": null,
   "metadata": {},
   "outputs": [],
   "source": [
    "import numpy as np\n",
    "import pandas as pd\n",
    "import matplotlib.pyplot as plt\n",
    "from data_cleaning import new_clean_data\n",
    "from datetime import datetime\n",
    "import plotly.graph_objs as go\n",
    "import plotly.offline as pyo\n",
    "import seaborn as sns\n",
    "from data_cleaning import new_clean_data\n",
    "%matplotlib inline"
   ]
  },
  {
   "cell_type": "code",
   "execution_count": null,
   "metadata": {},
   "outputs": [],
   "source": [
    "def calculate_idle_time2(dataframe):\n",
    "    data = dataframe.copy()\n",
    "    earliest_datetime_2017 = datetime(2017, 1, 1, 0, 0, 0)\n",
    "    # liefert bessere Ergebisse, da viele Ausreiser bei der Berechnung der idle_time ansonsten enstehen von Stationen, die erst später eingeführt wurden\n",
    "    data['idle_time'] = 0\n",
    "\n",
    "    latest_end_time = {}\n",
    "    for i in range(len(data)):\n",
    "        print(str(i))\n",
    "        start_station = data.loc[i, 'start_station_id']\n",
    "        end_station = data.loc[i, 'end_station_id']\n",
    "        if start_station in latest_end_time:\n",
    "            last_end_times = latest_end_time[start_station]\n",
    "\n",
    "            for time in last_end_times:\n",
    "                if time <= data.loc[i, 'start_time']:\n",
    "                    idle_time = data.loc[i, 'start_time'] - time\n",
    "                    data.at[i, 'idle_time'] = idle_time\n",
    "                    break\n",
    "\n",
    "            if end_station in latest_end_time:\n",
    "                latest_end_time[end_station].insert(0, data.loc[i, 'end_time'])\n",
    "            else:\n",
    "                latest_end_time[end_station] = [data.loc[i, 'end_time']]    \n",
    "        else:\n",
    "            latest_end_time[end_station] = [data.loc[i, 'end_time']]\n",
    "\n",
    "    return data"
   ]
  },
  {
   "cell_type": "code",
   "execution_count": null,
   "metadata": {},
   "outputs": [],
   "source": [
    "bluebikes = new_clean_data(r\"C:\\Users\\STH_0\\Desktop\\Data\\bluebikes_2017_2018\")"
   ]
  },
  {
   "cell_type": "code",
   "execution_count": null,
   "metadata": {},
   "outputs": [],
   "source": [
    "test = calculate_idle_time2(bluebikes)\n",
    "test.to_csv(r\"C:\\Users\\STH_0\\Desktop\\Data\\bluebikes_idle_time_v4.csv\", index=False)"
   ]
  },
  {
   "cell_type": "code",
   "execution_count": null,
   "metadata": {},
   "outputs": [],
   "source": [
    "bluebikes_idle_time = pd.read_csv(r\"C:\\Users\\STH_0\\Desktop\\Data\\bluebikes_idle_time_v4.csv\")\n",
    "bluebikes_idle_time['idle_time'] = pd.to_timedelta(bluebikes_idle_time['idle_time'])\n",
    "bluebikes_idle_time['idle_time'] = bluebikes_idle_time['idle_time'].dt.total_seconds()\n",
    "bluebikes_idle_time['idle_time'] = bluebikes_idle_time['idle_time'] / 60\n",
    "bluebikes_idle_time.head()"
   ]
  },
  {
   "cell_type": "code",
   "execution_count": null,
   "metadata": {},
   "outputs": [],
   "source": [
    "bluebikes_idle_time.describe()"
   ]
  },
  {
   "cell_type": "code",
   "execution_count": null,
   "metadata": {},
   "outputs": [],
   "source": [
    "#plot idle time distribution with plotly\n",
    "data_new = [go.Histogram(x=bluebikes_idle_time['idle_time'])]\n",
    "layout = go.Layout(title='Idle Time Distribution', xaxis=dict(title='Idle Time in Minutes'), yaxis=dict(title='Count'))\n",
    "fig = go.Figure(data=data_new, layout=layout)\n",
    "pyo.iplot(fig)"
   ]
  },
  {
   "cell_type": "code",
   "execution_count": null,
   "metadata": {},
   "outputs": [],
   "source": [
    "# Convert 'start_time' column to datetime\n",
    "bluebikes_idle_time['start_time'] = pd.to_datetime(bluebikes_idle_time['start_time'])\n",
    "\n",
    "# Group the data by date and calculate the mean of idle time for each day\n",
    "daily_idle_time_mean = bluebikes_idle_time.groupby(bluebikes_idle_time['start_time'].dt.date)['idle_time'].mean()\n",
    "\n",
    "# Group the data by date and count the number of data points for each day\n",
    "daily_data_count = bluebikes_idle_time.groupby(bluebikes_idle_time['start_time'].dt.date).size()\n",
    "\n",
    "# Create the scatter plots\n",
    "trace_idle_time = go.Scatter(x=daily_idle_time_mean.index, y=daily_idle_time_mean.values, name='Mean Idle Time')\n",
    "trace_data_count = go.Scatter(x=daily_data_count.index, y=daily_data_count.values, name='Data Point Count')\n",
    "\n",
    "# Set the layout\n",
    "layout = go.Layout(title='Mean Idle Time and Data Point Count over 2 Years',\n",
    "                   xaxis=dict(title='Date'), yaxis=dict(title='Value'))\n",
    "\n",
    "# Create the figure\n",
    "fig = go.Figure(data=[trace_idle_time, trace_data_count], layout=layout)\n",
    "\n",
    "# Plot the figure\n",
    "pyo.iplot(fig)"
   ]
  },
  {
   "cell_type": "code",
   "execution_count": null,
   "metadata": {},
   "outputs": [],
   "source": [
    "bluebikes_idle_time['start_time'] = pd.to_datetime(bluebikes_idle_time['start_time'])\n",
    "\n",
    "# Extract the hour from the 'start_time' column\n",
    "bluebikes_idle_time['hour_of_day'] = bluebikes_idle_time['start_time'].dt.hour\n",
    "\n",
    "# Group the data by hour of the day and calculate the mean of idle time for each hour\n",
    "hourly_idle_time_mean = bluebikes_idle_time.groupby('hour_of_day')['idle_time'].mean()\n",
    "\n",
    "# Create the bar plot\n",
    "data = [go.Bar(x=hourly_idle_time_mean.index, y=hourly_idle_time_mean.values)]\n",
    "\n",
    "# Set the layout\n",
    "layout = go.Layout(title='Mean Idle Time by Hour of the Day',\n",
    "                   xaxis=dict(title='Hour of the Day', tickmode='array', tickvals=hourly_idle_time_mean.index, ticktext=hourly_idle_time_mean.index),\n",
    "                   yaxis=dict(title='Mean Idle Time'))\n",
    "\n",
    "# Create the figure\n",
    "fig = go.Figure(data=data, layout=layout)\n",
    "\n",
    "# Plot the figure\n",
    "pyo.iplot(fig)"
   ]
  },
  {
   "cell_type": "code",
   "execution_count": null,
   "metadata": {},
   "outputs": [],
   "source": [
    "\n",
    "bluebikes_idle_time['start_time'] = pd.to_datetime(bluebikes_idle_time['start_time'])\n",
    "bluebikes_idle_time['hour_of_day'] = bluebikes_idle_time['start_time'].dt.hour\n",
    "\n",
    "# Group the data by hour of the day and calculate the mean of idle time for each hour\n",
    "daily_idle_time_mean = bluebikes_idle_time.groupby('weekday')['idle_time'].mean()\n",
    "daily_data_count = bluebikes_idle_time.groupby('weekday').size()\n",
    "\n",
    "# Create the bar plot\n",
    "data = [go.Scatter(x=daily_idle_time_mean.index, y=daily_idle_time_mean.values)]\n",
    "data2 = [go.Scatter(x=daily_data_count.index, y=daily_data_count.values)]\n",
    "# Set the layout\n",
    "layout = go.Layout(title='Mean Idle Time by Hour of the Day',\n",
    "                   xaxis=dict(title='Hour of the Day'),\n",
    "                   yaxis=dict(title='Mean Idle Time'))\n",
    "\n",
    "\n",
    "# Create the figure\n",
    "# add data2 to graph\n",
    "fig = go.Figure(data=[data, data2], layout=layout)\n",
    "\n",
    "# Plot the figure\n",
    "pyo.iplot(fig)"
   ]
  },
  {
   "cell_type": "code",
   "execution_count": null,
   "metadata": {},
   "outputs": [],
   "source": [
    "daily_idle_time = bluebikes_idle_time.groupby(bluebikes_idle_time['start_time'].dt.date)['idle_time'].mean()\n",
    "\n",
    "# Group the data by date and count the number of data points for each day\n",
    "daily_data_count = bluebikes_idle_time.groupby(bluebikes_idle_time['start_time'].dt.date).size()\n",
    "\n",
    "# Create the scatter plot\n",
    "data = [go.Scatter(x=daily_data_count, y=daily_idle_time, mode='markers')]\n",
    "\n",
    "# Set the layout\n",
    "layout = go.Layout(title='Idle Time vs Data Point Count', xaxis=dict(title='Data Point Count'), yaxis=dict(title='Idle Time'))\n",
    "\n",
    "# Create the figure\n",
    "fig = go.Figure(data=data, layout=layout)\n",
    "\n",
    "# Plot the figure\n",
    "pyo.iplot(fig)"
   ]
  }
 ],
 "metadata": {
  "kernelspec": {
   "display_name": "base",
   "language": "python",
   "name": "python3"
  },
  "language_info": {
   "codemirror_mode": {
    "name": "ipython",
    "version": 3
   },
   "file_extension": ".py",
   "mimetype": "text/x-python",
   "name": "python",
   "nbconvert_exporter": "python",
   "pygments_lexer": "ipython3",
   "version": "3.10.9"
  },
  "orig_nbformat": 4
 },
 "nbformat": 4,
 "nbformat_minor": 2
}
