{
 "cells": [
  {
   "cell_type": "code",
   "execution_count": null,
   "metadata": {},
   "outputs": [],
   "source": [
    "import numpy as np\n",
    "import pandas as pd\n",
    "import matplotlib.pyplot as plt\n",
    "from data_cleaning import new_clean_data\n",
    "from datetime import datetime\n",
    "import plotly.graph_objs as go\n",
    "import plotly.offline as pyo\n",
    "\n",
    "import seaborn as sns\n",
    "from  weather import getCleanWeather\n",
    "%matplotlib inline"
   ]
  },
  {
   "cell_type": "code",
   "execution_count": null,
   "metadata": {},
   "outputs": [],
   "source": [
    "weather = getCleanWeather(r'C:\\Users\\STH_0\\Desktop\\Data\\Boston')\n",
    "bluebikes_idle_time = pd.read_csv(r\"C:\\Users\\STH_0\\Desktop\\Data\\bluebikes_idle_time_v3.csv\")\n",
    "bluebikes_idle_time['idle_time'] = pd.to_timedelta(bluebikes_idle_time['idle_time'])\n",
    "bluebikes_idle_time['idle_time'] = bluebikes_idle_time['idle_time'].dt.total_seconds()\n",
    "bluebikes_idle_time['idle_time'] = bluebikes_idle_time['idle_time'] / 60\n",
    "bluebikes_idle_time['start_time'] = pd.to_datetime(bluebikes_idle_time['start_time'])\n",
    "weather['timestamp'] = pd.to_datetime(weather['timestamp'])\n",
    "bluebikes_idle_time.head()\n",
    "bluebikes_idle_time = bluebikes_idle_time[bluebikes_idle_time['idle_time'] < 502.416667]\n",
    "\n",
    "merged_df = pd.merge_asof(bluebikes_idle_time.sort_values('start_time'), weather.sort_values('timestamp'),\n",
    "                          left_on='start_time', right_on='timestamp',\n",
    "                          direction='nearest')"
   ]
  },
  {
   "cell_type": "code",
   "execution_count": null,
   "metadata": {},
   "outputs": [],
   "source": [
    "bluebikes_idle_time['idle_time'].quantile([0.25,0.5,0.75,0.9,0.95,0.99,1])"
   ]
  },
  {
   "cell_type": "code",
   "execution_count": null,
   "metadata": {},
   "outputs": [],
   "source": [
    "bluebikes_idle_time = bluebikes_idle_time[bluebikes_idle_time['idle_time'] < 502.416667]"
   ]
  },
  {
   "cell_type": "code",
   "execution_count": null,
   "metadata": {},
   "outputs": [],
   "source": [
    "merged_df.head(20)"
   ]
  },
  {
   "cell_type": "code",
   "execution_count": null,
   "metadata": {},
   "outputs": [],
   "source": [
    "#calculate correlation between attributes\n",
    "merged_df.corr()"
   ]
  },
  {
   "cell_type": "code",
   "execution_count": null,
   "metadata": {},
   "outputs": [],
   "source": [
    "# Group the data by date and calculate the mean of idle time for each day\n",
    "daily_idle_time_mean = bluebikes_idle_time.groupby(bluebikes_idle_time['start_time'].dt.day_of_year)['idle_time'].mean()\n",
    "temperator_mean = weather.groupby(weather['timestamp'].dt.day_of_year)['temperature'].mean()\n",
    "\n",
    "# Group the data by date and count the number of data points for each day\n",
    "daily_data_count = bluebikes_idle_time.groupby(bluebikes_idle_time['start_time'].dt.date).size()\n",
    "\n",
    "# Create the scatter plots\n",
    "trace_idle_time = go.Scatter(x=daily_idle_time_mean.index, y=daily_idle_time_mean.values, name='Mean Idle Time')\n",
    "trace_data_count = go.Scatter(x=temperator_mean.index, y=temperator_mean.values, name='Data Point Count')\n",
    "\n",
    "# Set the layout\n",
    "layout = go.Layout(title='Mean Idle Time and Data Point Count over 2 Years',\n",
    "                   xaxis=dict(title='Date'), yaxis=dict(title='Value'))\n",
    "\n",
    "# Create the figure\n",
    "fig = go.Figure(data=[trace_idle_time, trace_data_count], layout=layout)\n",
    "\n",
    "# Plot the figure\n",
    "pyo.iplot(fig)"
   ]
  },
  {
   "cell_type": "code",
   "execution_count": null,
   "metadata": {},
   "outputs": [],
   "source": [
    "(weather.groupby(weather['timestamp'].dt.date)['cloud_cover'].mean()).corr(bluebikes_idle_time.groupby(bluebikes_idle_time['start_time'].dt.date)['idle_time'].mean())"
   ]
  },
  {
   "cell_type": "code",
   "execution_count": null,
   "metadata": {},
   "outputs": [],
   "source": [
    "(merged_df.groupby(merged_df['timestamp'].dt.date)['temperature'].mean()).corr(merged_df.groupby(merged_df['start_time'].dt.date)['idle_time'].mean())"
   ]
  },
  {
   "cell_type": "code",
   "execution_count": null,
   "metadata": {},
   "outputs": [],
   "source": [
    "merged_df['mean_temp_day'] = merged_df.groupby(merged_df['timestamp'].dt.date)['cloud_cover'].transform('mean')\n",
    "merged_df['mean_temp_hour'] = merged_df.groupby(merged_df['timestamp'].dt.hour)['cloud_cover'].transform('mean')\n",
    "merged_df['mean_temp_weekday'] = merged_df.groupby(merged_df['timestamp'].dt.weekday)['cloud_cover'].transform('mean')\n",
    "merged_df['mean_temp_month'] = merged_df.groupby(merged_df['timestamp'].dt.month)['cloud_cover'].transform('mean')\n",
    "merged_df['mean_temp_year'] = merged_df.groupby(merged_df['timestamp'].dt.year)['cloud_cover'].transform('mean')\n"
   ]
  },
  {
   "cell_type": "code",
   "execution_count": null,
   "metadata": {},
   "outputs": [],
   "source": [
    "merged_df['mean_temp_day'] = merged_df.groupby(merged_df['timestamp'].dt.date)['cloud_cover'].transform('mean')\n",
    "merged_df['mean_temp_hour'] = merged_df.groupby(merged_df['timestamp'].dt.hour)['cloud_cover'].transform('mean')\n",
    "merged_df['mean_temp_weekday'] = merged_df.groupby(merged_df['timestamp'].dt.weekday)['cloud_cover'].transform('mean')\n",
    "merged_df['mean_temp_month'] = merged_df.groupby(merged_df['timestamp'].dt.month)['cloud_cover'].transform('mean')\n",
    "merged_df['mean_temp_year'] = merged_df.groupby(merged_df['timestamp'].dt.year)['cloud_cover'].transform('mean')\n",
    "\n"
   ]
  },
  {
   "cell_type": "code",
   "execution_count": null,
   "metadata": {},
   "outputs": [],
   "source": [
    "weather.info()"
   ]
  },
  {
   "cell_type": "code",
   "execution_count": null,
   "metadata": {},
   "outputs": [],
   "source": [
    "weather.head(20)"
   ]
  },
  {
   "cell_type": "code",
   "execution_count": null,
   "metadata": {},
   "outputs": [],
   "source": [
    "merged_df.corr()"
   ]
  },
  {
   "cell_type": "code",
   "execution_count": null,
   "metadata": {},
   "outputs": [],
   "source": [
    "# Group the data by date and calculate the mean of idle time for each day\n",
    "daily_idle_time_mean = merged_df.groupby(merged_df['start_time'].dt.date)['idle_time'].mean()\n",
    "temperator_mean = merged_df.groupby(merged_df['start_time'].dt.date)['temperature'].mean()\n",
    "\n",
    "# Group the data by date and count the number of data points for each day\n",
    "\n",
    "\n",
    "# Create the scatter plots\n",
    "trace_idle_time = go.Scatter(x=daily_idle_time_mean.index, y=daily_idle_time_mean.values, name='Mean Idle Time')\n",
    "trace_data_count = go.Scatter(x=temperator_mean.index, y=temperator_mean.values, name='Data Point Count')\n",
    "\n",
    "# Set the layout\n",
    "layout = go.Layout(title='Mean Idle Time and Data Point Count over 2 Years',\n",
    "                   xaxis=dict(title='Date'), yaxis=dict(title='Value'))\n",
    "\n",
    "# Create the figure\n",
    "fig = go.Figure(data=[trace_idle_time, trace_data_count], layout=layout)\n",
    "\n",
    "# Plot the figure\n",
    "pyo.iplot(fig)"
   ]
  },
  {
   "cell_type": "code",
   "execution_count": null,
   "metadata": {},
   "outputs": [],
   "source": [
    "daily_idle_time_mean = merged_df.groupby(merged_df['start_time'].dt.date)['temperature'].mean()\n",
    "daily_idle_time_mean2 = merged_df.groupby(merged_df['start_time'].dt.date)['felt_temperature'].mean()\n",
    "\n",
    "# Group the data by date and count the number of data points for each day\n",
    "\n",
    "\n",
    "# Create the scatter plots\n",
    "trace_idle_time = go.Scatter(x=merged_df['start_time'], y=merged_df['temperature'], name='Mean Idle Time')\n",
    "\n",
    "\n",
    "# Set the layout\n",
    "layout = go.Layout(title='Mean Idle Time and Data Point Count over 2 Years',\n",
    "                   xaxis=dict(title='Date'), yaxis=dict(title='Value'))\n",
    "\n",
    "# Create the figure\n",
    "fig = go.Figure(data=[trace_idle_time], layout=layout)\n",
    "\n",
    "# Plot the figure\n",
    "pyo.iplot(fig)"
   ]
  },
  {
   "cell_type": "code",
   "execution_count": null,
   "metadata": {},
   "outputs": [],
   "source": [
    "sns.jointplot(x='temperature', y='idle_time', data=merged_df, kind='reg')"
   ]
  },
  {
   "cell_type": "code",
   "execution_count": null,
   "metadata": {},
   "outputs": [],
   "source": [
    "merged_df['start_time'] = pd.to_datetime(merged_df['start_time'])\n",
    "merged_df['timestamp'] = pd.to_datetime(merged_df['timestamp'])\n",
    "\n",
    "# Group the data by date and calculate the mean of idle time for each day\n",
    "temperator_mean = merged_df.groupby(merged_df['temperature'])['idle_time'].mean()\n",
    "\n",
    "# Create the scatter plots\n",
    "trace_data_count = go.Scatter(x=temperator_mean.index, y=temperator_mean.values, name='Temperature') \n",
    "\n",
    "# Set the layout\n",
    "layout = go.Layout(title='Mean Idle Time vs Temperature',\n",
    "                   xaxis=dict(title='Temperature'), yaxis=dict(title='Idle Time'))\n",
    "\n",
    "# Create the figure\n",
    "fig = go.Figure(data=[trace_data_count], layout=layout)\n",
    "\n",
    "# Plot the figure\n",
    "pyo.iplot(fig)"
   ]
  },
  {
   "cell_type": "code",
   "execution_count": null,
   "metadata": {},
   "outputs": [],
   "source": [
    "# Group the data by date and calculate the mean of idle time for each day\n",
    "temperator_mean = merged_df.groupby(merged_df['felt_temperature'])['idle_time'].mean()\n",
    "\n",
    "# Group the data by date and count the number of data points for each day\n",
    "daily_data_count = merged_df.groupby(merged_df['start_time'].dt.date).size()\n",
    "\n",
    "# Create the scatter plots\n",
    "trace_data_count = go.Scatter(x=temperator_mean.index, y=temperator_mean.values, name='Temperature') \n",
    "\n",
    "# Set the layout\n",
    "layout = go.Layout(title='Mean Idle Time vs Temperature',\n",
    "                   xaxis=dict(title='Temperature'), yaxis=dict(title='Idle Time'))\n",
    "\n",
    "# Create the figure\n",
    "fig = go.Figure(data=[trace_data_count], layout=layout)\n",
    "\n",
    "# Plot the figure\n",
    "pyo.iplot(fig)"
   ]
  },
  {
   "cell_type": "code",
   "execution_count": null,
   "metadata": {},
   "outputs": [],
   "source": [
    "temperator_mean = merged_df.groupby(merged_df['windspeed'])['idle_time'].mean()\n",
    "\n",
    "# Create the scatter plots\n",
    "trace_data_count = go.Scatter(x=temperator_mean.index, y=temperator_mean.values, name='Temperature') \n",
    "\n",
    "# Set the layout\n",
    "layout = go.Layout(title='Mean Idle Time vs Temperature',\n",
    "                   xaxis=dict(title='Windspeed'), yaxis=dict(title='Idle Time'))\n",
    "\n",
    "# Create the figure\n",
    "fig = go.Figure(data=[trace_data_count], layout=layout)\n",
    "\n",
    "# Plot the figure\n",
    "pyo.iplot(fig)"
   ]
  },
  {
   "cell_type": "code",
   "execution_count": null,
   "metadata": {},
   "outputs": [],
   "source": [
    "temperator_mean = merged_df.groupby(merged_df['cloud_cover'])['idle_time'].mean()\n",
    "\n",
    "# Create the scatter plots\n",
    "trace_data_count = go.Scatter(x=temperator_mean.index, y=temperator_mean.values, name='Temperature') \n",
    "\n",
    "# Set the layout\n",
    "layout = go.Layout(title='Mean Idle Time vs Temperature',\n",
    "                   xaxis=dict(title='Windspeed'), yaxis=dict(title='Idle Time'))\n",
    "\n",
    "# Create the figure\n",
    "fig = go.Figure(data=[trace_data_count], layout=layout)\n",
    "\n",
    "# Plot the figure\n",
    "pyo.iplot(fig)"
   ]
  },
  {
   "cell_type": "code",
   "execution_count": null,
   "metadata": {},
   "outputs": [],
   "source": [
    "temperator_mean = merged_df.groupby(merged_df['precipitation'])['idle_time'].mean()\n",
    "\n",
    "# Create the scatter plots\n",
    "trace_data_count = go.Scatter(x=temperator_mean.index, y=temperator_mean.values, name='Temperature') \n",
    "\n",
    "# Set the layout\n",
    "layout = go.Layout(title='Mean Idle Time vs Precipitation',\n",
    "                   xaxis=dict(title='Precipitation'), yaxis=dict(title='Idle Time'))\n",
    "\n",
    "# Create the figure\n",
    "fig = go.Figure(data=[trace_data_count], layout=layout)\n",
    "\n",
    "# Plot the figure\n",
    "pyo.iplot(fig)"
   ]
  },
  {
   "cell_type": "code",
   "execution_count": null,
   "metadata": {},
   "outputs": [],
   "source": [
    "\n",
    "temperator_mean = merged_df.groupby(merged_df['cloud_cover_description'])['idle_time'].mean()\n",
    "\n",
    "# Create the scatter plots\n",
    "trace_data_count = go.Scatter(x=temperator_mean.index, y=temperator_mean.values, name='Temperature') \n",
    "\n",
    "# Set the layout\n",
    "layout = go.Layout(title='Mean Idle Time vs Precipitation',\n",
    "                   xaxis=dict(title='Precipitation'), yaxis=dict(title='Idle Time'))\n",
    "\n",
    "# Create the figure\n",
    "fig = go.Figure(data=[trace_data_count], layout=layout)\n",
    "\n",
    "# Plot the figure\n",
    "pyo.iplot(fig)"
   ]
  },
  {
   "cell_type": "code",
   "execution_count": null,
   "metadata": {},
   "outputs": [],
   "source": [
    "\n",
    "\n",
    "temperator_mean = merged_df.groupby(merged_df['pressure'])['idle_time'].mean()\n",
    "\n",
    "# Create the scatter plots\n",
    "trace_data_count = go.Scatter(x=temperator_mean.index, y=temperator_mean.values, name='Temperature') \n",
    "\n",
    "# Set the layout\n",
    "layout = go.Layout(title='Mean Idle Time vs Pressure',\n",
    "                   xaxis=dict(title='Pressure'), yaxis=dict(title='Idle Time'))\n",
    "\n",
    "# Create the figure\n",
    "fig = go.Figure(data=[trace_data_count], layout=layout)\n",
    "\n",
    "# Plot the figure\n",
    "pyo.iplot(fig)"
   ]
  }
 ],
 "metadata": {
  "kernelspec": {
   "display_name": "base",
   "language": "python",
   "name": "python3"
  },
  "language_info": {
   "codemirror_mode": {
    "name": "ipython",
    "version": 3
   },
   "file_extension": ".py",
   "mimetype": "text/x-python",
   "name": "python",
   "nbconvert_exporter": "python",
   "pygments_lexer": "ipython3",
   "version": "3.10.9"
  },
  "orig_nbformat": 4
 },
 "nbformat": 4,
 "nbformat_minor": 2
}
