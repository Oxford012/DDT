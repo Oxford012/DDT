{
 "cells": [
  {
   "cell_type": "code",
   "execution_count": 1,
   "metadata": {
    "collapsed": true,
    "ExecuteTime": {
     "end_time": "2023-06-02T16:13:13.273620800Z",
     "start_time": "2023-06-02T16:13:13.253777600Z"
    }
   },
   "outputs": [],
   "source": [
    "#import der notwendigen packages\n",
    "\n",
    "import pandas as pd\n",
    "import numpy as np\n",
    "import matplotlib.pyplot as plt"
   ]
  },
  {
   "cell_type": "code",
   "execution_count": 2,
   "outputs": [
    {
     "data": {
      "text/plain": "    Unnamed: 0           start_time             end_time  start_station_id  \\\n0            0  2018-08-28 07:01:05  2018-08-28 07:06:57               137   \n1            1  2018-04-11 18:21:53  2018-04-11 18:35:06               122   \n2            2  2018-11-28 17:08:21  2018-11-28 17:22:44                22   \n3            3  2018-05-29 08:13:13  2018-05-29 08:23:12                88   \n4            4  2018-07-13 06:26:24  2018-07-13 06:34:04                47   \n..         ...                  ...                  ...               ...   \n95          95  2018-05-31 16:47:00  2018-05-31 17:09:33               182   \n96          96  2017-09-21 11:47:24  2017-09-21 11:54:10                31   \n97          97  2017-06-27 08:34:23  2017-06-27 09:02:02               182   \n98          98  2018-07-14 13:33:33  2018-07-14 13:48:06                20   \n99          99  2017-10-01 15:05:17  2017-10-01 15:21:04                22   \n\n    start_station_lat  start_station_lon  end_station_id  end_station_lat  \\\n0           42.398365         -71.107818             220        42.396384   \n1           42.345733         -71.100694             179        42.355601   \n2           42.352175         -71.055547              98        42.371848   \n3           42.374035         -71.101427             107        42.362500   \n4           42.362811         -71.056067              64        42.351004   \n..                ...                ...             ...              ...   \n95          42.367690         -71.071163              32        42.345194   \n96          42.348810         -71.041677              22        42.352175   \n97          42.367690         -71.071163             109        42.365908   \n98          42.359912         -71.051430             190        42.365673   \n99          42.352175         -71.055547             119        42.335741   \n\n    end_station_lon  bike_id  \n0        -71.120105     3296  \n1        -71.103945     1766  \n2        -71.060292     2585  \n3        -71.088220     2768  \n4        -71.049300     1002  \n..              ...      ...  \n95       -71.101697     1186  \n96       -71.055547      742  \n97       -71.064467     1113  \n98       -71.064263     1190  \n99       -71.038770     1635  \n\n[100 rows x 10 columns]",
      "text/html": "<div>\n<style scoped>\n    .dataframe tbody tr th:only-of-type {\n        vertical-align: middle;\n    }\n\n    .dataframe tbody tr th {\n        vertical-align: top;\n    }\n\n    .dataframe thead th {\n        text-align: right;\n    }\n</style>\n<table border=\"1\" class=\"dataframe\">\n  <thead>\n    <tr style=\"text-align: right;\">\n      <th></th>\n      <th>Unnamed: 0</th>\n      <th>start_time</th>\n      <th>end_time</th>\n      <th>start_station_id</th>\n      <th>start_station_lat</th>\n      <th>start_station_lon</th>\n      <th>end_station_id</th>\n      <th>end_station_lat</th>\n      <th>end_station_lon</th>\n      <th>bike_id</th>\n    </tr>\n  </thead>\n  <tbody>\n    <tr>\n      <th>0</th>\n      <td>0</td>\n      <td>2018-08-28 07:01:05</td>\n      <td>2018-08-28 07:06:57</td>\n      <td>137</td>\n      <td>42.398365</td>\n      <td>-71.107818</td>\n      <td>220</td>\n      <td>42.396384</td>\n      <td>-71.120105</td>\n      <td>3296</td>\n    </tr>\n    <tr>\n      <th>1</th>\n      <td>1</td>\n      <td>2018-04-11 18:21:53</td>\n      <td>2018-04-11 18:35:06</td>\n      <td>122</td>\n      <td>42.345733</td>\n      <td>-71.100694</td>\n      <td>179</td>\n      <td>42.355601</td>\n      <td>-71.103945</td>\n      <td>1766</td>\n    </tr>\n    <tr>\n      <th>2</th>\n      <td>2</td>\n      <td>2018-11-28 17:08:21</td>\n      <td>2018-11-28 17:22:44</td>\n      <td>22</td>\n      <td>42.352175</td>\n      <td>-71.055547</td>\n      <td>98</td>\n      <td>42.371848</td>\n      <td>-71.060292</td>\n      <td>2585</td>\n    </tr>\n    <tr>\n      <th>3</th>\n      <td>3</td>\n      <td>2018-05-29 08:13:13</td>\n      <td>2018-05-29 08:23:12</td>\n      <td>88</td>\n      <td>42.374035</td>\n      <td>-71.101427</td>\n      <td>107</td>\n      <td>42.362500</td>\n      <td>-71.088220</td>\n      <td>2768</td>\n    </tr>\n    <tr>\n      <th>4</th>\n      <td>4</td>\n      <td>2018-07-13 06:26:24</td>\n      <td>2018-07-13 06:34:04</td>\n      <td>47</td>\n      <td>42.362811</td>\n      <td>-71.056067</td>\n      <td>64</td>\n      <td>42.351004</td>\n      <td>-71.049300</td>\n      <td>1002</td>\n    </tr>\n    <tr>\n      <th>...</th>\n      <td>...</td>\n      <td>...</td>\n      <td>...</td>\n      <td>...</td>\n      <td>...</td>\n      <td>...</td>\n      <td>...</td>\n      <td>...</td>\n      <td>...</td>\n      <td>...</td>\n    </tr>\n    <tr>\n      <th>95</th>\n      <td>95</td>\n      <td>2018-05-31 16:47:00</td>\n      <td>2018-05-31 17:09:33</td>\n      <td>182</td>\n      <td>42.367690</td>\n      <td>-71.071163</td>\n      <td>32</td>\n      <td>42.345194</td>\n      <td>-71.101697</td>\n      <td>1186</td>\n    </tr>\n    <tr>\n      <th>96</th>\n      <td>96</td>\n      <td>2017-09-21 11:47:24</td>\n      <td>2017-09-21 11:54:10</td>\n      <td>31</td>\n      <td>42.348810</td>\n      <td>-71.041677</td>\n      <td>22</td>\n      <td>42.352175</td>\n      <td>-71.055547</td>\n      <td>742</td>\n    </tr>\n    <tr>\n      <th>97</th>\n      <td>97</td>\n      <td>2017-06-27 08:34:23</td>\n      <td>2017-06-27 09:02:02</td>\n      <td>182</td>\n      <td>42.367690</td>\n      <td>-71.071163</td>\n      <td>109</td>\n      <td>42.365908</td>\n      <td>-71.064467</td>\n      <td>1113</td>\n    </tr>\n    <tr>\n      <th>98</th>\n      <td>98</td>\n      <td>2018-07-14 13:33:33</td>\n      <td>2018-07-14 13:48:06</td>\n      <td>20</td>\n      <td>42.359912</td>\n      <td>-71.051430</td>\n      <td>190</td>\n      <td>42.365673</td>\n      <td>-71.064263</td>\n      <td>1190</td>\n    </tr>\n    <tr>\n      <th>99</th>\n      <td>99</td>\n      <td>2017-10-01 15:05:17</td>\n      <td>2017-10-01 15:21:04</td>\n      <td>22</td>\n      <td>42.352175</td>\n      <td>-71.055547</td>\n      <td>119</td>\n      <td>42.335741</td>\n      <td>-71.038770</td>\n      <td>1635</td>\n    </tr>\n  </tbody>\n</table>\n<p>100 rows × 10 columns</p>\n</div>"
     },
     "execution_count": 2,
     "metadata": {},
     "output_type": "execute_result"
    }
   ],
   "source": [
    "#einlesen der Daten\n",
    "\n",
    "data = pd.read_csv(r\"D:\\Benutzer\\Jonathan Lanz\\Dokumente\\Uni\\Data Science and Machine Learning\\TeamProjektDaten\\bluebikes_2017_2018\")\n",
    "data.head(100)"
   ],
   "metadata": {
    "collapsed": false,
    "ExecuteTime": {
     "end_time": "2023-06-02T16:13:32.592405900Z",
     "start_time": "2023-06-02T16:13:22.803446900Z"
    }
   }
  },
  {
   "cell_type": "code",
   "execution_count": 3,
   "outputs": [
    {
     "name": "stdout",
     "output_type": "stream",
     "text": [
      "<bound method DataFrame.info of          Unnamed: 0           start_time             end_time  \\\n",
      "0                 0  2018-08-28 07:01:05  2018-08-28 07:06:57   \n",
      "1                 1  2018-04-11 18:21:53  2018-04-11 18:35:06   \n",
      "2                 2  2018-11-28 17:08:21  2018-11-28 17:22:44   \n",
      "3                 3  2018-05-29 08:13:13  2018-05-29 08:23:12   \n",
      "4                 4  2018-07-13 06:26:24  2018-07-13 06:34:04   \n",
      "...             ...                  ...                  ...   \n",
      "3081595     3081595  2018-11-11 16:21:53  2018-11-11 17:01:29   \n",
      "3081596     3081596  2017-08-02 08:28:53  2017-08-02 08:45:32   \n",
      "3081597     3081597  2017-08-19 13:41:02  2017-08-19 13:48:03   \n",
      "3081598     3081598  2018-07-11 16:03:06  2018-07-11 16:14:15   \n",
      "3081599     3081599  2018-08-21 08:46:46  2018-08-21 08:49:14   \n",
      "\n",
      "         start_station_id  start_station_lat  start_station_lon  \\\n",
      "0                     137          42.398365         -71.107818   \n",
      "1                     122          42.345733         -71.100694   \n",
      "2                      22          42.352175         -71.055547   \n",
      "3                      88          42.374035         -71.101427   \n",
      "4                      47          42.362811         -71.056067   \n",
      "...                   ...                ...                ...   \n",
      "3081595               160          42.337586         -71.096271   \n",
      "3081596                99          42.385582         -71.113341   \n",
      "3081597                47          42.362811         -71.056067   \n",
      "3081598                70          42.372217         -71.121881   \n",
      "3081599               114          42.402038         -71.126533   \n",
      "\n",
      "         end_station_id  end_station_lat  end_station_lon  bike_id  \n",
      "0                   220        42.396384       -71.120105     3296  \n",
      "1                   179        42.355601       -71.103945     1766  \n",
      "2                    98        42.371848       -71.060292     2585  \n",
      "3                   107        42.362500       -71.088220     2768  \n",
      "4                    64        42.351004       -71.049300     1002  \n",
      "...                 ...              ...              ...      ...  \n",
      "3081595              81        42.352409       -71.062679     3559  \n",
      "3081596              80        42.361962       -71.092053     1113  \n",
      "3081597              59        42.351356       -71.059367      700  \n",
      "3081598             105        42.357219       -71.113872     1325  \n",
      "3081599             100        42.396969       -71.123024     3233  \n",
      "\n",
      "[3081600 rows x 10 columns]>\n"
     ]
    }
   ],
   "source": [
    "#algemeine Informationen des Datensatzes\n",
    "\n",
    "print(data.info)"
   ],
   "metadata": {
    "collapsed": false,
    "ExecuteTime": {
     "end_time": "2023-06-02T16:15:27.443835700Z",
     "start_time": "2023-06-02T16:15:27.375042800Z"
    }
   }
  },
  {
   "cell_type": "code",
   "execution_count": 4,
   "outputs": [
    {
     "name": "stdout",
     "output_type": "stream",
     "text": [
      "         Unnamed: 0  start_station_id  start_station_lat  start_station_lon  \\\n",
      "count  3.081600e+06      3.081600e+06       3.081600e+06       3.081600e+06   \n",
      "mean   1.540800e+06      9.142570e+01       4.235739e+01      -7.108600e+01   \n",
      "std    8.895814e+05      6.351354e+01       1.372931e-01       2.304351e-01   \n",
      "min    0.000000e+00      1.000000e+00       0.000000e+00      -7.356692e+01   \n",
      "25%    7.703998e+05      4.400000e+01       4.234876e+01      -7.110394e+01   \n",
      "50%    1.540800e+06      7.500000e+01       4.235810e+01      -7.108822e+01   \n",
      "75%    2.311199e+06      1.310000e+02       4.236567e+01      -7.106629e+01   \n",
      "max    3.081599e+06      3.780000e+02       4.550509e+01       0.000000e+00   \n",
      "\n",
      "       end_station_id  end_station_lat  end_station_lon       bike_id  \n",
      "count    3.081600e+06     3.081600e+06     3.081600e+06  3.081600e+06  \n",
      "mean     9.128123e+01     4.235695e+01    -7.108548e+01  1.779580e+03  \n",
      "std      6.373496e+01     2.751284e-01     2.636222e-01  1.140185e+03  \n",
      "min      1.000000e+00    -9.000000e+01    -7.356692e+01  1.000000e+00  \n",
      "25%      4.400000e+01     4.234876e+01    -7.110394e+01  8.170000e+02  \n",
      "50%      7.500000e+01     4.235810e+01    -7.108809e+01  1.666000e+03  \n",
      "75%      1.310000e+02     4.236567e+01    -7.106526e+01  2.682000e+03  \n",
      "max      3.790000e+02     4.550509e+01     0.000000e+00  4.553000e+03  \n"
     ]
    }
   ],
   "source": [
    "#algemeine Informationen des Datensatzes\n",
    "\n",
    "print(data.describe())"
   ],
   "metadata": {
    "collapsed": false,
    "ExecuteTime": {
     "end_time": "2023-06-02T16:15:47.559000200Z",
     "start_time": "2023-06-02T16:15:45.583593800Z"
    }
   }
  },
  {
   "cell_type": "code",
   "execution_count": 6,
   "outputs": [
    {
     "data": {
      "text/plain": "Unnamed: 0           0\nstart_time           0\nend_time             0\nstart_station_id     0\nstart_station_lat    0\nstart_station_lon    0\nend_station_id       0\nend_station_lat      0\nend_station_lon      0\nbike_id              0\ndtype: int64"
     },
     "execution_count": 6,
     "metadata": {},
     "output_type": "execute_result"
    }
   ],
   "source": [
    "#null-values zählen\n",
    "\n",
    "data.isnull().sum()"
   ],
   "metadata": {
    "collapsed": false,
    "ExecuteTime": {
     "end_time": "2023-06-02T16:18:34.923940800Z",
     "start_time": "2023-06-02T16:18:33.233699700Z"
    }
   }
  },
  {
   "cell_type": "code",
   "execution_count": 7,
   "outputs": [
    {
     "data": {
      "text/plain": "0.0"
     },
     "execution_count": 7,
     "metadata": {},
     "output_type": "execute_result"
    }
   ],
   "source": [
    "#Prozent der Null-Values (Ich weiß das war überflüssig)\n",
    "\n",
    "data.isnull().sum().sum()/len(data)"
   ],
   "metadata": {
    "collapsed": false,
    "ExecuteTime": {
     "end_time": "2023-06-02T16:18:38.733814100Z",
     "start_time": "2023-06-02T16:18:37.748923500Z"
    }
   }
  },
  {
   "cell_type": "code",
   "execution_count": 5,
   "outputs": [
    {
     "name": "stdout",
     "output_type": "stream",
     "text": [
      "3081600\n",
      "3081600\n"
     ]
    }
   ],
   "source": [
    "#Übertragen der station-daten in zwei neue Datensätze. Diese werde ich noch weiter reinigen und danach in einem Datesatz wieder zusammenfassen. Ich versuche außerdem noch wiederholungen von Daten auszufiltern.\n",
    "\n",
    "start_station_data = data.loc[:, ['start_station_id', 'start_station_lat', 'start_station_lon']].copy()\n",
    "end_station_data = data.loc[:, ['end_station_id', 'end_station_lat', 'end_station_lon']].copy()\n",
    "\n",
    "start_station_data.sort_values(['start_station_id'], inplace=True)\n",
    "end_station_data.sort_values(['end_station_id'], inplace=True)\n",
    "\n",
    "print(len(start_station_data))\n",
    "print(len(end_station_data))"
   ],
   "metadata": {
    "collapsed": false,
    "ExecuteTime": {
     "end_time": "2023-06-02T16:18:25.703929100Z",
     "start_time": "2023-06-02T16:18:23.378516100Z"
    }
   }
  },
  {
   "cell_type": "code",
   "execution_count": 21,
   "outputs": [
    {
     "data": {
      "text/plain": "         start_station_id  start_station_lat  start_station_lon  \\\n1803451                 1          42.387151         -71.075978   \n119377                  1          42.387151         -71.075978   \n340262                  1          42.387151         -71.075978   \n2340432                 1          42.387151         -71.075978   \n2886498                 1          42.387151         -71.075978   \n...                   ...                ...                ...   \n2397290                 1          42.387151         -71.075978   \n700712                  1          42.387151         -71.075978   \n1895541                 1          42.387151         -71.075978   \n1072059                 1          42.387151         -71.075978   \n1862996                 1          42.387151         -71.075978   \n\n         prev_start_station_lat  \n1803451                     NaN  \n119377                42.387151  \n340262                42.387151  \n2340432               42.387151  \n2886498               42.387151  \n...                         ...  \n2397290               42.387151  \n700712                42.387151  \n1895541               42.387151  \n1072059               42.387151  \n1862996               42.387151  \n\n[100 rows x 4 columns]",
      "text/html": "<div>\n<style scoped>\n    .dataframe tbody tr th:only-of-type {\n        vertical-align: middle;\n    }\n\n    .dataframe tbody tr th {\n        vertical-align: top;\n    }\n\n    .dataframe thead th {\n        text-align: right;\n    }\n</style>\n<table border=\"1\" class=\"dataframe\">\n  <thead>\n    <tr style=\"text-align: right;\">\n      <th></th>\n      <th>start_station_id</th>\n      <th>start_station_lat</th>\n      <th>start_station_lon</th>\n      <th>prev_start_station_lat</th>\n    </tr>\n  </thead>\n  <tbody>\n    <tr>\n      <th>1803451</th>\n      <td>1</td>\n      <td>42.387151</td>\n      <td>-71.075978</td>\n      <td>NaN</td>\n    </tr>\n    <tr>\n      <th>119377</th>\n      <td>1</td>\n      <td>42.387151</td>\n      <td>-71.075978</td>\n      <td>42.387151</td>\n    </tr>\n    <tr>\n      <th>340262</th>\n      <td>1</td>\n      <td>42.387151</td>\n      <td>-71.075978</td>\n      <td>42.387151</td>\n    </tr>\n    <tr>\n      <th>2340432</th>\n      <td>1</td>\n      <td>42.387151</td>\n      <td>-71.075978</td>\n      <td>42.387151</td>\n    </tr>\n    <tr>\n      <th>2886498</th>\n      <td>1</td>\n      <td>42.387151</td>\n      <td>-71.075978</td>\n      <td>42.387151</td>\n    </tr>\n    <tr>\n      <th>...</th>\n      <td>...</td>\n      <td>...</td>\n      <td>...</td>\n      <td>...</td>\n    </tr>\n    <tr>\n      <th>2397290</th>\n      <td>1</td>\n      <td>42.387151</td>\n      <td>-71.075978</td>\n      <td>42.387151</td>\n    </tr>\n    <tr>\n      <th>700712</th>\n      <td>1</td>\n      <td>42.387151</td>\n      <td>-71.075978</td>\n      <td>42.387151</td>\n    </tr>\n    <tr>\n      <th>1895541</th>\n      <td>1</td>\n      <td>42.387151</td>\n      <td>-71.075978</td>\n      <td>42.387151</td>\n    </tr>\n    <tr>\n      <th>1072059</th>\n      <td>1</td>\n      <td>42.387151</td>\n      <td>-71.075978</td>\n      <td>42.387151</td>\n    </tr>\n    <tr>\n      <th>1862996</th>\n      <td>1</td>\n      <td>42.387151</td>\n      <td>-71.075978</td>\n      <td>42.387151</td>\n    </tr>\n  </tbody>\n</table>\n<p>100 rows × 4 columns</p>\n</div>"
     },
     "execution_count": 21,
     "metadata": {},
     "output_type": "execute_result"
    }
   ],
   "source": [
    "#Bis zum Entfernen der ausgelagerten Spalten kommt jetzt nur Unfertiger Code zum erbessern der ausgeagerten stationsinformationen. Diese Befehle müsst ihr euch also noch nicht anschauen, da sie eh noch nicht funktionieren. Die betreffenden Zellen habe ich mit einem X versehen.\n",
    "\n",
    "grouped = start_station_data.groupby('start_station_id')\n",
    "start_station_data = start_station_data.assign(prev_start_station_lat=grouped['start_station_lat'].shift())\n",
    "start_station_data.head(100)"
   ],
   "metadata": {
    "collapsed": false,
    "ExecuteTime": {
     "end_time": "2023-05-27T13:57:03.675971700Z",
     "start_time": "2023-05-27T13:57:03.181737600Z"
    }
   }
  },
  {
   "cell_type": "code",
   "execution_count": 30,
   "outputs": [
    {
     "data": {
      "text/plain": "         start_station_id  start_station_lat  start_station_lon  \\\n1803451                 1          42.387151         -71.075978   \n119377                  1          42.387151         -71.075978   \n340262                  1          42.387151         -71.075978   \n2340432                 1          42.387151         -71.075978   \n2886498                 1          42.387151         -71.075978   \n...                   ...                ...                ...   \n1630932                 3          42.340115         -71.100619   \n3059526                 3          42.340115         -71.100619   \n1599342                 3          42.340115         -71.100619   \n1342709                 3          42.340115         -71.100619   \n1406968                 3          42.340115         -71.100619   \n\n         prev_start_station_lat  different_lat  \n1803451                     NaN              1  \n119377                42.387151              0  \n340262                42.387151              0  \n2340432               42.387151              0  \n2886498               42.387151              0  \n...                         ...            ...  \n1630932               42.340115              0  \n3059526               42.340115              0  \n1599342               42.340115              0  \n1342709               42.340115              0  \n1406968               42.340115              0  \n\n[10000 rows x 5 columns]",
      "text/html": "<div>\n<style scoped>\n    .dataframe tbody tr th:only-of-type {\n        vertical-align: middle;\n    }\n\n    .dataframe tbody tr th {\n        vertical-align: top;\n    }\n\n    .dataframe thead th {\n        text-align: right;\n    }\n</style>\n<table border=\"1\" class=\"dataframe\">\n  <thead>\n    <tr style=\"text-align: right;\">\n      <th></th>\n      <th>start_station_id</th>\n      <th>start_station_lat</th>\n      <th>start_station_lon</th>\n      <th>prev_start_station_lat</th>\n      <th>different_lat</th>\n    </tr>\n  </thead>\n  <tbody>\n    <tr>\n      <th>1803451</th>\n      <td>1</td>\n      <td>42.387151</td>\n      <td>-71.075978</td>\n      <td>NaN</td>\n      <td>1</td>\n    </tr>\n    <tr>\n      <th>119377</th>\n      <td>1</td>\n      <td>42.387151</td>\n      <td>-71.075978</td>\n      <td>42.387151</td>\n      <td>0</td>\n    </tr>\n    <tr>\n      <th>340262</th>\n      <td>1</td>\n      <td>42.387151</td>\n      <td>-71.075978</td>\n      <td>42.387151</td>\n      <td>0</td>\n    </tr>\n    <tr>\n      <th>2340432</th>\n      <td>1</td>\n      <td>42.387151</td>\n      <td>-71.075978</td>\n      <td>42.387151</td>\n      <td>0</td>\n    </tr>\n    <tr>\n      <th>2886498</th>\n      <td>1</td>\n      <td>42.387151</td>\n      <td>-71.075978</td>\n      <td>42.387151</td>\n      <td>0</td>\n    </tr>\n    <tr>\n      <th>...</th>\n      <td>...</td>\n      <td>...</td>\n      <td>...</td>\n      <td>...</td>\n      <td>...</td>\n    </tr>\n    <tr>\n      <th>1630932</th>\n      <td>3</td>\n      <td>42.340115</td>\n      <td>-71.100619</td>\n      <td>42.340115</td>\n      <td>0</td>\n    </tr>\n    <tr>\n      <th>3059526</th>\n      <td>3</td>\n      <td>42.340115</td>\n      <td>-71.100619</td>\n      <td>42.340115</td>\n      <td>0</td>\n    </tr>\n    <tr>\n      <th>1599342</th>\n      <td>3</td>\n      <td>42.340115</td>\n      <td>-71.100619</td>\n      <td>42.340115</td>\n      <td>0</td>\n    </tr>\n    <tr>\n      <th>1342709</th>\n      <td>3</td>\n      <td>42.340115</td>\n      <td>-71.100619</td>\n      <td>42.340115</td>\n      <td>0</td>\n    </tr>\n    <tr>\n      <th>1406968</th>\n      <td>3</td>\n      <td>42.340115</td>\n      <td>-71.100619</td>\n      <td>42.340115</td>\n      <td>0</td>\n    </tr>\n  </tbody>\n</table>\n<p>10000 rows × 5 columns</p>\n</div>"
     },
     "execution_count": 30,
     "metadata": {},
     "output_type": "execute_result"
    }
   ],
   "source": [
    "#X\n",
    "\n",
    "start_station_data['different_lat'] = 0  # Initialisiere die Spalte 'different_lat' mit Nullen\n",
    "\n",
    "# Gruppiere die Daten nach 'start_station_id'\n",
    "grouped = start_station_data.groupby('start_station_id')\n",
    "\n",
    "# Iteriere über jede Gruppe\n",
    "for _, group in grouped:\n",
    "    # Überprüfe die Bedingung für die Gruppe\n",
    "    group['different_lat'] = np.where(group['start_station_lat'] != group['prev_start_station_lat'], 1, 0)\n",
    "    # Aktualisiere die entsprechenden Einträge in der ursprünglichen DataFrame 'start_station_data'\n",
    "    start_station_data.loc[group.index, 'different_lat'] = group['different_lat']\n",
    "\n",
    "start_station_data.head(10000)"
   ],
   "metadata": {
    "collapsed": false,
    "ExecuteTime": {
     "end_time": "2023-05-27T14:28:43.211937500Z",
     "start_time": "2023-05-27T14:28:41.172048400Z"
    }
   }
  },
  {
   "cell_type": "code",
   "execution_count": 23,
   "outputs": [
    {
     "data": {
      "text/plain": "         start_station_id  start_station_lat  start_station_lon  \\\n1803451                 1          42.387151         -71.075978   \n119377                  1          42.387151         -71.075978   \n340262                  1          42.387151         -71.075978   \n2340432                 1          42.387151         -71.075978   \n2886498                 1          42.387151         -71.075978   \n...                   ...                ...                ...   \n2397290                 1          42.387151         -71.075978   \n700712                  1          42.387151         -71.075978   \n1895541                 1          42.387151         -71.075978   \n1072059                 1          42.387151         -71.075978   \n1862996                 1          42.387151         -71.075978   \n\n         prev_start_station_lat  different_lat  \n1803451                     NaN              1  \n119377                42.387151              0  \n340262                42.387151              0  \n2340432               42.387151              0  \n2886498               42.387151              0  \n...                         ...            ...  \n2397290               42.387151              0  \n700712                42.387151              0  \n1895541               42.387151              0  \n1072059               42.387151              0  \n1862996               42.387151              0  \n\n[100 rows x 5 columns]",
      "text/html": "<div>\n<style scoped>\n    .dataframe tbody tr th:only-of-type {\n        vertical-align: middle;\n    }\n\n    .dataframe tbody tr th {\n        vertical-align: top;\n    }\n\n    .dataframe thead th {\n        text-align: right;\n    }\n</style>\n<table border=\"1\" class=\"dataframe\">\n  <thead>\n    <tr style=\"text-align: right;\">\n      <th></th>\n      <th>start_station_id</th>\n      <th>start_station_lat</th>\n      <th>start_station_lon</th>\n      <th>prev_start_station_lat</th>\n      <th>different_lat</th>\n    </tr>\n  </thead>\n  <tbody>\n    <tr>\n      <th>1803451</th>\n      <td>1</td>\n      <td>42.387151</td>\n      <td>-71.075978</td>\n      <td>NaN</td>\n      <td>1</td>\n    </tr>\n    <tr>\n      <th>119377</th>\n      <td>1</td>\n      <td>42.387151</td>\n      <td>-71.075978</td>\n      <td>42.387151</td>\n      <td>0</td>\n    </tr>\n    <tr>\n      <th>340262</th>\n      <td>1</td>\n      <td>42.387151</td>\n      <td>-71.075978</td>\n      <td>42.387151</td>\n      <td>0</td>\n    </tr>\n    <tr>\n      <th>2340432</th>\n      <td>1</td>\n      <td>42.387151</td>\n      <td>-71.075978</td>\n      <td>42.387151</td>\n      <td>0</td>\n    </tr>\n    <tr>\n      <th>2886498</th>\n      <td>1</td>\n      <td>42.387151</td>\n      <td>-71.075978</td>\n      <td>42.387151</td>\n      <td>0</td>\n    </tr>\n    <tr>\n      <th>...</th>\n      <td>...</td>\n      <td>...</td>\n      <td>...</td>\n      <td>...</td>\n      <td>...</td>\n    </tr>\n    <tr>\n      <th>2397290</th>\n      <td>1</td>\n      <td>42.387151</td>\n      <td>-71.075978</td>\n      <td>42.387151</td>\n      <td>0</td>\n    </tr>\n    <tr>\n      <th>700712</th>\n      <td>1</td>\n      <td>42.387151</td>\n      <td>-71.075978</td>\n      <td>42.387151</td>\n      <td>0</td>\n    </tr>\n    <tr>\n      <th>1895541</th>\n      <td>1</td>\n      <td>42.387151</td>\n      <td>-71.075978</td>\n      <td>42.387151</td>\n      <td>0</td>\n    </tr>\n    <tr>\n      <th>1072059</th>\n      <td>1</td>\n      <td>42.387151</td>\n      <td>-71.075978</td>\n      <td>42.387151</td>\n      <td>0</td>\n    </tr>\n    <tr>\n      <th>1862996</th>\n      <td>1</td>\n      <td>42.387151</td>\n      <td>-71.075978</td>\n      <td>42.387151</td>\n      <td>0</td>\n    </tr>\n  </tbody>\n</table>\n<p>100 rows × 5 columns</p>\n</div>"
     },
     "execution_count": 23,
     "metadata": {},
     "output_type": "execute_result"
    }
   ],
   "source": [
    "#X\n",
    "\n",
    "start_station_data['different_lat'] = start_station_data.apply(lambda row: 1 if row['start_station_lat'] != row['prev_start_station_lat'] else 0, axis=1)\n",
    "start_station_data.head(100)"
   ],
   "metadata": {
    "collapsed": false,
    "ExecuteTime": {
     "end_time": "2023-05-27T14:17:13.229274600Z",
     "start_time": "2023-05-27T14:16:05.106635200Z"
    }
   }
  },
  {
   "cell_type": "code",
   "execution_count": 29,
   "outputs": [
    {
     "data": {
      "text/plain": "257668"
     },
     "execution_count": 29,
     "metadata": {},
     "output_type": "execute_result"
    }
   ],
   "source": [
    "#X\n",
    "\n",
    "start_station_data['different_lat'].sum()"
   ],
   "metadata": {
    "collapsed": false,
    "ExecuteTime": {
     "end_time": "2023-05-27T14:28:32.213234600Z",
     "start_time": "2023-05-27T14:28:32.145190300Z"
    }
   }
  },
  {
   "cell_type": "code",
   "execution_count": 22,
   "outputs": [
    {
     "ename": "ValueError",
     "evalue": "The truth value of a Series is ambiguous. Use a.empty, a.bool(), a.item(), a.any() or a.all().",
     "output_type": "error",
     "traceback": [
      "\u001B[1;31m---------------------------------------------------------------------------\u001B[0m",
      "\u001B[1;31mValueError\u001B[0m                                Traceback (most recent call last)",
      "Cell \u001B[1;32mIn[22], line 4\u001B[0m\n\u001B[0;32m      2\u001B[0m grouped \u001B[38;5;241m=\u001B[39m start_station_data\u001B[38;5;241m.\u001B[39mgroupby(\u001B[38;5;124m'\u001B[39m\u001B[38;5;124mstart_station_id\u001B[39m\u001B[38;5;124m'\u001B[39m)\n\u001B[0;32m      3\u001B[0m \u001B[38;5;28;01mfor\u001B[39;00m start_station_id, group \u001B[38;5;129;01min\u001B[39;00m grouped:\n\u001B[1;32m----> 4\u001B[0m     \u001B[38;5;28;01mif\u001B[39;00m \u001B[43mgroup\u001B[49m\u001B[43m[\u001B[49m\u001B[38;5;124;43m'\u001B[39;49m\u001B[38;5;124;43mstart_station_lat\u001B[39;49m\u001B[38;5;124;43m'\u001B[39;49m\u001B[43m]\u001B[49m\u001B[43m \u001B[49m\u001B[38;5;241;43m==\u001B[39;49m\u001B[43m \u001B[49m\u001B[43mgroup\u001B[49m\u001B[43m[\u001B[49m\u001B[38;5;124;43m'\u001B[39;49m\u001B[38;5;124;43mprev_start_station_lat\u001B[39;49m\u001B[38;5;124;43m'\u001B[39;49m\u001B[43m]\u001B[49m:\n\u001B[0;32m      5\u001B[0m         group[\u001B[38;5;124m'\u001B[39m\u001B[38;5;124mdifferent_lat\u001B[39m\u001B[38;5;124m'\u001B[39m] \u001B[38;5;241m=\u001B[39m \u001B[38;5;241m1\u001B[39m\n\u001B[0;32m      6\u001B[0m     \u001B[38;5;28;01melse\u001B[39;00m:\n",
      "File \u001B[1;32m~\\anaconda3\\lib\\site-packages\\pandas\\core\\generic.py:1527\u001B[0m, in \u001B[0;36mNDFrame.__nonzero__\u001B[1;34m(self)\u001B[0m\n\u001B[0;32m   1525\u001B[0m \u001B[38;5;129m@final\u001B[39m\n\u001B[0;32m   1526\u001B[0m \u001B[38;5;28;01mdef\u001B[39;00m \u001B[38;5;21m__nonzero__\u001B[39m(\u001B[38;5;28mself\u001B[39m) \u001B[38;5;241m-\u001B[39m\u001B[38;5;241m>\u001B[39m NoReturn:\n\u001B[1;32m-> 1527\u001B[0m     \u001B[38;5;28;01mraise\u001B[39;00m \u001B[38;5;167;01mValueError\u001B[39;00m(\n\u001B[0;32m   1528\u001B[0m         \u001B[38;5;124mf\u001B[39m\u001B[38;5;124m\"\u001B[39m\u001B[38;5;124mThe truth value of a \u001B[39m\u001B[38;5;132;01m{\u001B[39;00m\u001B[38;5;28mtype\u001B[39m(\u001B[38;5;28mself\u001B[39m)\u001B[38;5;241m.\u001B[39m\u001B[38;5;18m__name__\u001B[39m\u001B[38;5;132;01m}\u001B[39;00m\u001B[38;5;124m is ambiguous. \u001B[39m\u001B[38;5;124m\"\u001B[39m\n\u001B[0;32m   1529\u001B[0m         \u001B[38;5;124m\"\u001B[39m\u001B[38;5;124mUse a.empty, a.bool(), a.item(), a.any() or a.all().\u001B[39m\u001B[38;5;124m\"\u001B[39m\n\u001B[0;32m   1530\u001B[0m     )\n",
      "\u001B[1;31mValueError\u001B[0m: The truth value of a Series is ambiguous. Use a.empty, a.bool(), a.item(), a.any() or a.all()."
     ]
    }
   ],
   "source": [
    "#X\n",
    "\n",
    "start_station_data['different_lat'] = pd.NaT\n",
    "grouped = start_station_data.groupby('start_station_id')\n",
    "for start_station_id, group in grouped:\n",
    "    if group['start_station_lat'] == group['prev_start_station_lat']:\n",
    "        group['different_lat'] = 1\n",
    "    else:\n",
    "        group['different_lat'] = 0\n",
    "    data.loc[group.index, 'different_lat'] = group['different_lat']\n",
    "\n",
    "start_station_data.head(100)"
   ],
   "metadata": {
    "collapsed": false,
    "ExecuteTime": {
     "end_time": "2023-05-27T14:11:45.357009800Z",
     "start_time": "2023-05-27T14:11:44.516440300Z"
    }
   }
  },
  {
   "cell_type": "code",
   "execution_count": 8,
   "outputs": [
    {
     "data": {
      "text/plain": "    Unnamed: 0           start_time             end_time  start_station_id  \\\n0            0  2018-08-28 07:01:05  2018-08-28 07:06:57               137   \n1            1  2018-04-11 18:21:53  2018-04-11 18:35:06               122   \n2            2  2018-11-28 17:08:21  2018-11-28 17:22:44                22   \n3            3  2018-05-29 08:13:13  2018-05-29 08:23:12                88   \n4            4  2018-07-13 06:26:24  2018-07-13 06:34:04                47   \n..         ...                  ...                  ...               ...   \n95          95  2018-05-31 16:47:00  2018-05-31 17:09:33               182   \n96          96  2017-09-21 11:47:24  2017-09-21 11:54:10                31   \n97          97  2017-06-27 08:34:23  2017-06-27 09:02:02               182   \n98          98  2018-07-14 13:33:33  2018-07-14 13:48:06                20   \n99          99  2017-10-01 15:05:17  2017-10-01 15:21:04                22   \n\n    end_station_id  bike_id  \n0              220     3296  \n1              179     1766  \n2               98     2585  \n3              107     2768  \n4               64     1002  \n..             ...      ...  \n95              32     1186  \n96              22      742  \n97             109     1113  \n98             190     1190  \n99             119     1635  \n\n[100 rows x 6 columns]",
      "text/html": "<div>\n<style scoped>\n    .dataframe tbody tr th:only-of-type {\n        vertical-align: middle;\n    }\n\n    .dataframe tbody tr th {\n        vertical-align: top;\n    }\n\n    .dataframe thead th {\n        text-align: right;\n    }\n</style>\n<table border=\"1\" class=\"dataframe\">\n  <thead>\n    <tr style=\"text-align: right;\">\n      <th></th>\n      <th>Unnamed: 0</th>\n      <th>start_time</th>\n      <th>end_time</th>\n      <th>start_station_id</th>\n      <th>end_station_id</th>\n      <th>bike_id</th>\n    </tr>\n  </thead>\n  <tbody>\n    <tr>\n      <th>0</th>\n      <td>0</td>\n      <td>2018-08-28 07:01:05</td>\n      <td>2018-08-28 07:06:57</td>\n      <td>137</td>\n      <td>220</td>\n      <td>3296</td>\n    </tr>\n    <tr>\n      <th>1</th>\n      <td>1</td>\n      <td>2018-04-11 18:21:53</td>\n      <td>2018-04-11 18:35:06</td>\n      <td>122</td>\n      <td>179</td>\n      <td>1766</td>\n    </tr>\n    <tr>\n      <th>2</th>\n      <td>2</td>\n      <td>2018-11-28 17:08:21</td>\n      <td>2018-11-28 17:22:44</td>\n      <td>22</td>\n      <td>98</td>\n      <td>2585</td>\n    </tr>\n    <tr>\n      <th>3</th>\n      <td>3</td>\n      <td>2018-05-29 08:13:13</td>\n      <td>2018-05-29 08:23:12</td>\n      <td>88</td>\n      <td>107</td>\n      <td>2768</td>\n    </tr>\n    <tr>\n      <th>4</th>\n      <td>4</td>\n      <td>2018-07-13 06:26:24</td>\n      <td>2018-07-13 06:34:04</td>\n      <td>47</td>\n      <td>64</td>\n      <td>1002</td>\n    </tr>\n    <tr>\n      <th>...</th>\n      <td>...</td>\n      <td>...</td>\n      <td>...</td>\n      <td>...</td>\n      <td>...</td>\n      <td>...</td>\n    </tr>\n    <tr>\n      <th>95</th>\n      <td>95</td>\n      <td>2018-05-31 16:47:00</td>\n      <td>2018-05-31 17:09:33</td>\n      <td>182</td>\n      <td>32</td>\n      <td>1186</td>\n    </tr>\n    <tr>\n      <th>96</th>\n      <td>96</td>\n      <td>2017-09-21 11:47:24</td>\n      <td>2017-09-21 11:54:10</td>\n      <td>31</td>\n      <td>22</td>\n      <td>742</td>\n    </tr>\n    <tr>\n      <th>97</th>\n      <td>97</td>\n      <td>2017-06-27 08:34:23</td>\n      <td>2017-06-27 09:02:02</td>\n      <td>182</td>\n      <td>109</td>\n      <td>1113</td>\n    </tr>\n    <tr>\n      <th>98</th>\n      <td>98</td>\n      <td>2018-07-14 13:33:33</td>\n      <td>2018-07-14 13:48:06</td>\n      <td>20</td>\n      <td>190</td>\n      <td>1190</td>\n    </tr>\n    <tr>\n      <th>99</th>\n      <td>99</td>\n      <td>2017-10-01 15:05:17</td>\n      <td>2017-10-01 15:21:04</td>\n      <td>22</td>\n      <td>119</td>\n      <td>1635</td>\n    </tr>\n  </tbody>\n</table>\n<p>100 rows × 6 columns</p>\n</div>"
     },
     "execution_count": 8,
     "metadata": {},
     "output_type": "execute_result"
    }
   ],
   "source": [
    "#Entfernen der ausgelagerten Spalten\n",
    "\n",
    "data = data.drop(['start_station_lat', 'start_station_lon', 'end_station_lat', 'end_station_lon'], axis=1)\n",
    "data.head(100)"
   ],
   "metadata": {
    "collapsed": false,
    "ExecuteTime": {
     "end_time": "2023-06-02T16:21:44.447304600Z",
     "start_time": "2023-06-02T16:21:44.179955800Z"
    }
   }
  },
  {
   "cell_type": "code",
   "execution_count": 9,
   "outputs": [
    {
     "data": {
      "text/plain": "Unnamed: 0           int64\nstart_time          object\nend_time            object\nstart_station_id     int64\nend_station_id       int64\nbike_id              int64\ndtype: object"
     },
     "execution_count": 9,
     "metadata": {},
     "output_type": "execute_result"
    }
   ],
   "source": [
    "#start_time und end_time sind nicht vom typ datetime.\n",
    "\n",
    "data.dtypes"
   ],
   "metadata": {
    "collapsed": false,
    "ExecuteTime": {
     "end_time": "2023-05-26T19:17:26.334736400Z",
     "start_time": "2023-05-26T19:17:26.310720500Z"
    }
   }
  },
  {
   "cell_type": "code",
   "execution_count": 9,
   "outputs": [
    {
     "data": {
      "text/plain": "Unnamed: 0                   int64\nstart_time          datetime64[ns]\nend_time            datetime64[ns]\nstart_station_id             int64\nend_station_id               int64\nbike_id                      int64\ndtype: object"
     },
     "execution_count": 9,
     "metadata": {},
     "output_type": "execute_result"
    }
   ],
   "source": [
    "#start_time und end_time werden zum typ datetime gecastet.\n",
    "\n",
    "data['start_time'] = pd.to_datetime(data['start_time'])\n",
    "data['end_time'] = pd.to_datetime(data['end_time'])\n",
    "\n",
    "data.dtypes"
   ],
   "metadata": {
    "collapsed": false,
    "ExecuteTime": {
     "end_time": "2023-06-02T16:23:11.713697600Z",
     "start_time": "2023-06-02T16:23:06.233776700Z"
    }
   }
  },
  {
   "cell_type": "code",
   "execution_count": 10,
   "outputs": [],
   "source": [
    "#Für uns unwchtige Daten, also daten, die nicht zu den Jahren 2017 und 2018 gehören werden aussortiert.\n",
    "\n",
    "data = data[(data['start_time'].dt.year >= 2017) & (data['end_time'].dt.year <= 2018)]\n",
    "\n",
    "data.reset_index(drop=True, inplace=True)"
   ],
   "metadata": {
    "collapsed": false,
    "ExecuteTime": {
     "end_time": "2023-06-02T16:23:58.883362100Z",
     "start_time": "2023-06-02T16:23:57.508474700Z"
    }
   }
  },
  {
   "cell_type": "code",
   "execution_count": 11,
   "outputs": [
    {
     "data": {
      "text/plain": "         Unnamed: 0          start_time            end_time  start_station_id  \\\n2789488     2789512 2017-01-05 16:45:24 2017-01-05 17:01:43               151   \n2093523     2093543 2017-01-06 08:54:23 2017-01-06 09:00:30                16   \n1226975     1226989 2017-01-06 09:07:51 2017-01-06 09:22:12                39   \n130262       130262 2017-03-06 18:37:43 2017-03-06 18:40:16                21   \n689589       689592 2017-03-07 09:17:09 2017-03-07 09:24:10                46   \n...             ...                 ...                 ...               ...   \n1286877     1286891 2017-04-19 18:25:56 2017-04-19 18:31:28                68   \n1072353     1072363 2017-04-19 18:39:40 2017-04-19 18:49:12                67   \n2548036     2548057 2017-04-20 07:55:42 2017-04-20 08:06:11                88   \n1287448     1287462 2017-04-20 16:40:46 2017-04-20 16:58:30                84   \n345443       345444 2017-04-20 17:03:24 2017-04-20 17:10:35               179   \n\n         end_station_id  bike_id       prev_end_time  \n2789488              16        1                 NaT  \n2093523              39        1 2017-01-05 17:01:43  \n1226975              43        1 2017-01-06 09:00:30  \n130262               46        1 2017-01-06 09:22:12  \n689589               67        1 2017-03-06 18:40:16  \n...                 ...      ...                 ...  \n1286877              67        1 2017-04-19 16:33:59  \n1072353              88        1 2017-04-19 18:31:28  \n2548036              84        1 2017-04-19 18:49:12  \n1287448             179        1 2017-04-20 08:06:11  \n345443               68        1 2017-04-20 16:58:30  \n\n[100 rows x 7 columns]",
      "text/html": "<div>\n<style scoped>\n    .dataframe tbody tr th:only-of-type {\n        vertical-align: middle;\n    }\n\n    .dataframe tbody tr th {\n        vertical-align: top;\n    }\n\n    .dataframe thead th {\n        text-align: right;\n    }\n</style>\n<table border=\"1\" class=\"dataframe\">\n  <thead>\n    <tr style=\"text-align: right;\">\n      <th></th>\n      <th>Unnamed: 0</th>\n      <th>start_time</th>\n      <th>end_time</th>\n      <th>start_station_id</th>\n      <th>end_station_id</th>\n      <th>bike_id</th>\n      <th>prev_end_time</th>\n    </tr>\n  </thead>\n  <tbody>\n    <tr>\n      <th>2789488</th>\n      <td>2789512</td>\n      <td>2017-01-05 16:45:24</td>\n      <td>2017-01-05 17:01:43</td>\n      <td>151</td>\n      <td>16</td>\n      <td>1</td>\n      <td>NaT</td>\n    </tr>\n    <tr>\n      <th>2093523</th>\n      <td>2093543</td>\n      <td>2017-01-06 08:54:23</td>\n      <td>2017-01-06 09:00:30</td>\n      <td>16</td>\n      <td>39</td>\n      <td>1</td>\n      <td>2017-01-05 17:01:43</td>\n    </tr>\n    <tr>\n      <th>1226975</th>\n      <td>1226989</td>\n      <td>2017-01-06 09:07:51</td>\n      <td>2017-01-06 09:22:12</td>\n      <td>39</td>\n      <td>43</td>\n      <td>1</td>\n      <td>2017-01-06 09:00:30</td>\n    </tr>\n    <tr>\n      <th>130262</th>\n      <td>130262</td>\n      <td>2017-03-06 18:37:43</td>\n      <td>2017-03-06 18:40:16</td>\n      <td>21</td>\n      <td>46</td>\n      <td>1</td>\n      <td>2017-01-06 09:22:12</td>\n    </tr>\n    <tr>\n      <th>689589</th>\n      <td>689592</td>\n      <td>2017-03-07 09:17:09</td>\n      <td>2017-03-07 09:24:10</td>\n      <td>46</td>\n      <td>67</td>\n      <td>1</td>\n      <td>2017-03-06 18:40:16</td>\n    </tr>\n    <tr>\n      <th>...</th>\n      <td>...</td>\n      <td>...</td>\n      <td>...</td>\n      <td>...</td>\n      <td>...</td>\n      <td>...</td>\n      <td>...</td>\n    </tr>\n    <tr>\n      <th>1286877</th>\n      <td>1286891</td>\n      <td>2017-04-19 18:25:56</td>\n      <td>2017-04-19 18:31:28</td>\n      <td>68</td>\n      <td>67</td>\n      <td>1</td>\n      <td>2017-04-19 16:33:59</td>\n    </tr>\n    <tr>\n      <th>1072353</th>\n      <td>1072363</td>\n      <td>2017-04-19 18:39:40</td>\n      <td>2017-04-19 18:49:12</td>\n      <td>67</td>\n      <td>88</td>\n      <td>1</td>\n      <td>2017-04-19 18:31:28</td>\n    </tr>\n    <tr>\n      <th>2548036</th>\n      <td>2548057</td>\n      <td>2017-04-20 07:55:42</td>\n      <td>2017-04-20 08:06:11</td>\n      <td>88</td>\n      <td>84</td>\n      <td>1</td>\n      <td>2017-04-19 18:49:12</td>\n    </tr>\n    <tr>\n      <th>1287448</th>\n      <td>1287462</td>\n      <td>2017-04-20 16:40:46</td>\n      <td>2017-04-20 16:58:30</td>\n      <td>84</td>\n      <td>179</td>\n      <td>1</td>\n      <td>2017-04-20 08:06:11</td>\n    </tr>\n    <tr>\n      <th>345443</th>\n      <td>345444</td>\n      <td>2017-04-20 17:03:24</td>\n      <td>2017-04-20 17:10:35</td>\n      <td>179</td>\n      <td>68</td>\n      <td>1</td>\n      <td>2017-04-20 16:58:30</td>\n    </tr>\n  </tbody>\n</table>\n<p>100 rows × 7 columns</p>\n</div>"
     },
     "execution_count": 11,
     "metadata": {},
     "output_type": "execute_result"
    }
   ],
   "source": [
    "#Neue Spalte namens prev_end_time wird erstellt und mit der end-time des vorgängers versehen (Deswegen wird bevor dies passiert erst einmal der Datensatz sortiert).\n",
    "\n",
    "data.sort_values(['bike_id', 'start_time'], inplace=True)\n",
    "\n",
    "grouped = data.groupby('bike_id')\n",
    "data = data.assign(prev_end_time=grouped['end_time'].shift())\n",
    "\n",
    "data.head(100)"
   ],
   "metadata": {
    "collapsed": false,
    "ExecuteTime": {
     "end_time": "2023-06-02T16:25:15.663514400Z",
     "start_time": "2023-06-02T16:25:10.323492400Z"
    }
   }
  },
  {
   "cell_type": "code",
   "execution_count": 12,
   "outputs": [
    {
     "data": {
      "text/plain": "         Unnamed: 0          start_time            end_time  start_station_id  \\\n2789488     2789512 2017-01-05 16:45:24 2017-01-05 17:01:43               151   \n2093523     2093543 2017-01-06 08:54:23 2017-01-06 09:00:30                16   \n1226975     1226989 2017-01-06 09:07:51 2017-01-06 09:22:12                39   \n130262       130262 2017-03-06 18:37:43 2017-03-06 18:40:16                21   \n689589       689592 2017-03-07 09:17:09 2017-03-07 09:24:10                46   \n...             ...                 ...                 ...               ...   \n1286877     1286891 2017-04-19 18:25:56 2017-04-19 18:31:28                68   \n1072353     1072363 2017-04-19 18:39:40 2017-04-19 18:49:12                67   \n2548036     2548057 2017-04-20 07:55:42 2017-04-20 08:06:11                88   \n1287448     1287462 2017-04-20 16:40:46 2017-04-20 16:58:30                84   \n345443       345444 2017-04-20 17:03:24 2017-04-20 17:10:35               179   \n\n         end_station_id  bike_id       prev_end_time         idle_time  \n2789488              16        1                 NaT               NaT  \n2093523              39        1 2017-01-05 17:01:43   0 days 15:52:40  \n1226975              43        1 2017-01-06 09:00:30   0 days 00:07:21  \n130262               46        1 2017-01-06 09:22:12  59 days 09:15:31  \n689589               67        1 2017-03-06 18:40:16   0 days 14:36:53  \n...                 ...      ...                 ...               ...  \n1286877              67        1 2017-04-19 16:33:59   0 days 01:51:57  \n1072353              88        1 2017-04-19 18:31:28   0 days 00:08:12  \n2548036              84        1 2017-04-19 18:49:12   0 days 13:06:30  \n1287448             179        1 2017-04-20 08:06:11   0 days 08:34:35  \n345443               68        1 2017-04-20 16:58:30   0 days 00:04:54  \n\n[100 rows x 8 columns]",
      "text/html": "<div>\n<style scoped>\n    .dataframe tbody tr th:only-of-type {\n        vertical-align: middle;\n    }\n\n    .dataframe tbody tr th {\n        vertical-align: top;\n    }\n\n    .dataframe thead th {\n        text-align: right;\n    }\n</style>\n<table border=\"1\" class=\"dataframe\">\n  <thead>\n    <tr style=\"text-align: right;\">\n      <th></th>\n      <th>Unnamed: 0</th>\n      <th>start_time</th>\n      <th>end_time</th>\n      <th>start_station_id</th>\n      <th>end_station_id</th>\n      <th>bike_id</th>\n      <th>prev_end_time</th>\n      <th>idle_time</th>\n    </tr>\n  </thead>\n  <tbody>\n    <tr>\n      <th>2789488</th>\n      <td>2789512</td>\n      <td>2017-01-05 16:45:24</td>\n      <td>2017-01-05 17:01:43</td>\n      <td>151</td>\n      <td>16</td>\n      <td>1</td>\n      <td>NaT</td>\n      <td>NaT</td>\n    </tr>\n    <tr>\n      <th>2093523</th>\n      <td>2093543</td>\n      <td>2017-01-06 08:54:23</td>\n      <td>2017-01-06 09:00:30</td>\n      <td>16</td>\n      <td>39</td>\n      <td>1</td>\n      <td>2017-01-05 17:01:43</td>\n      <td>0 days 15:52:40</td>\n    </tr>\n    <tr>\n      <th>1226975</th>\n      <td>1226989</td>\n      <td>2017-01-06 09:07:51</td>\n      <td>2017-01-06 09:22:12</td>\n      <td>39</td>\n      <td>43</td>\n      <td>1</td>\n      <td>2017-01-06 09:00:30</td>\n      <td>0 days 00:07:21</td>\n    </tr>\n    <tr>\n      <th>130262</th>\n      <td>130262</td>\n      <td>2017-03-06 18:37:43</td>\n      <td>2017-03-06 18:40:16</td>\n      <td>21</td>\n      <td>46</td>\n      <td>1</td>\n      <td>2017-01-06 09:22:12</td>\n      <td>59 days 09:15:31</td>\n    </tr>\n    <tr>\n      <th>689589</th>\n      <td>689592</td>\n      <td>2017-03-07 09:17:09</td>\n      <td>2017-03-07 09:24:10</td>\n      <td>46</td>\n      <td>67</td>\n      <td>1</td>\n      <td>2017-03-06 18:40:16</td>\n      <td>0 days 14:36:53</td>\n    </tr>\n    <tr>\n      <th>...</th>\n      <td>...</td>\n      <td>...</td>\n      <td>...</td>\n      <td>...</td>\n      <td>...</td>\n      <td>...</td>\n      <td>...</td>\n      <td>...</td>\n    </tr>\n    <tr>\n      <th>1286877</th>\n      <td>1286891</td>\n      <td>2017-04-19 18:25:56</td>\n      <td>2017-04-19 18:31:28</td>\n      <td>68</td>\n      <td>67</td>\n      <td>1</td>\n      <td>2017-04-19 16:33:59</td>\n      <td>0 days 01:51:57</td>\n    </tr>\n    <tr>\n      <th>1072353</th>\n      <td>1072363</td>\n      <td>2017-04-19 18:39:40</td>\n      <td>2017-04-19 18:49:12</td>\n      <td>67</td>\n      <td>88</td>\n      <td>1</td>\n      <td>2017-04-19 18:31:28</td>\n      <td>0 days 00:08:12</td>\n    </tr>\n    <tr>\n      <th>2548036</th>\n      <td>2548057</td>\n      <td>2017-04-20 07:55:42</td>\n      <td>2017-04-20 08:06:11</td>\n      <td>88</td>\n      <td>84</td>\n      <td>1</td>\n      <td>2017-04-19 18:49:12</td>\n      <td>0 days 13:06:30</td>\n    </tr>\n    <tr>\n      <th>1287448</th>\n      <td>1287462</td>\n      <td>2017-04-20 16:40:46</td>\n      <td>2017-04-20 16:58:30</td>\n      <td>84</td>\n      <td>179</td>\n      <td>1</td>\n      <td>2017-04-20 08:06:11</td>\n      <td>0 days 08:34:35</td>\n    </tr>\n    <tr>\n      <th>345443</th>\n      <td>345444</td>\n      <td>2017-04-20 17:03:24</td>\n      <td>2017-04-20 17:10:35</td>\n      <td>179</td>\n      <td>68</td>\n      <td>1</td>\n      <td>2017-04-20 16:58:30</td>\n      <td>0 days 00:04:54</td>\n    </tr>\n  </tbody>\n</table>\n<p>100 rows × 8 columns</p>\n</div>"
     },
     "execution_count": 12,
     "metadata": {},
     "output_type": "execute_result"
    }
   ],
   "source": [
    "#Berechnung der idle_time mithilfe der davor neu angelegten Spalte.\n",
    "\n",
    "data['idle_time'] = pd.NaT\n",
    "grouped = data.groupby('bike_id')\n",
    "for bike_id, group in grouped:\n",
    "    group['idle_time'] = group['start_time'] - group['prev_end_time']\n",
    "    data.loc[group.index, 'idle_time'] = group['idle_time']\n",
    "\n",
    "data.head(100)"
   ],
   "metadata": {
    "collapsed": false,
    "ExecuteTime": {
     "end_time": "2023-06-02T16:26:25.075467200Z",
     "start_time": "2023-06-02T16:25:59.008665400Z"
    }
   }
  },
  {
   "cell_type": "code",
   "execution_count": 13,
   "outputs": [
    {
     "data": {
      "text/plain": "Unnamed: 0                    int64\nstart_time           datetime64[ns]\nend_time             datetime64[ns]\nstart_station_id              int64\nend_station_id                int64\nbike_id                       int64\nprev_end_time        datetime64[ns]\nidle_time           timedelta64[ns]\ndtype: object"
     },
     "execution_count": 13,
     "metadata": {},
     "output_type": "execute_result"
    }
   ],
   "source": [
    "#idle_time wird zum Typ timedelta umgecastet.\n",
    "\n",
    "data['idle_time'] = pd.to_timedelta(data['idle_time'])\n",
    "data.dtypes"
   ],
   "metadata": {
    "collapsed": false,
    "ExecuteTime": {
     "end_time": "2023-06-02T16:26:48.058596500Z",
     "start_time": "2023-06-02T16:26:47.998602500Z"
    }
   }
  },
  {
   "cell_type": "code",
   "execution_count": 14,
   "outputs": [
    {
     "data": {
      "text/plain": "         Unnamed: 0          start_time            end_time  start_station_id  \\\n2244910     2244930 2017-05-09 08:01:44 2017-05-09 08:33:13               133   \n3026149     3026176 2018-02-02 14:40:13 2018-02-02 15:05:19               130   \n1324536     1324550 2017-06-26 15:23:40 2017-06-26 15:29:13               103   \n1746499     1746516 2017-11-05 01:16:53 2017-11-05 01:27:34                88   \n\n         end_station_id  bike_id       prev_end_time           idle_time  \n2244910              91        1 2017-09-10 19:28:30 -125 days +12:33:14  \n3026149              81        1 2018-08-17 17:00:23 -197 days +21:39:50  \n1324536              41        4 2017-10-06 10:27:42 -102 days +04:55:58  \n1746499             149        4 2017-11-05 01:19:07   -1 days +23:57:46  ",
      "text/html": "<div>\n<style scoped>\n    .dataframe tbody tr th:only-of-type {\n        vertical-align: middle;\n    }\n\n    .dataframe tbody tr th {\n        vertical-align: top;\n    }\n\n    .dataframe thead th {\n        text-align: right;\n    }\n</style>\n<table border=\"1\" class=\"dataframe\">\n  <thead>\n    <tr style=\"text-align: right;\">\n      <th></th>\n      <th>Unnamed: 0</th>\n      <th>start_time</th>\n      <th>end_time</th>\n      <th>start_station_id</th>\n      <th>end_station_id</th>\n      <th>bike_id</th>\n      <th>prev_end_time</th>\n      <th>idle_time</th>\n    </tr>\n  </thead>\n  <tbody>\n    <tr>\n      <th>2244910</th>\n      <td>2244930</td>\n      <td>2017-05-09 08:01:44</td>\n      <td>2017-05-09 08:33:13</td>\n      <td>133</td>\n      <td>91</td>\n      <td>1</td>\n      <td>2017-09-10 19:28:30</td>\n      <td>-125 days +12:33:14</td>\n    </tr>\n    <tr>\n      <th>3026149</th>\n      <td>3026176</td>\n      <td>2018-02-02 14:40:13</td>\n      <td>2018-02-02 15:05:19</td>\n      <td>130</td>\n      <td>81</td>\n      <td>1</td>\n      <td>2018-08-17 17:00:23</td>\n      <td>-197 days +21:39:50</td>\n    </tr>\n    <tr>\n      <th>1324536</th>\n      <td>1324550</td>\n      <td>2017-06-26 15:23:40</td>\n      <td>2017-06-26 15:29:13</td>\n      <td>103</td>\n      <td>41</td>\n      <td>4</td>\n      <td>2017-10-06 10:27:42</td>\n      <td>-102 days +04:55:58</td>\n    </tr>\n    <tr>\n      <th>1746499</th>\n      <td>1746516</td>\n      <td>2017-11-05 01:16:53</td>\n      <td>2017-11-05 01:27:34</td>\n      <td>88</td>\n      <td>149</td>\n      <td>4</td>\n      <td>2017-11-05 01:19:07</td>\n      <td>-1 days +23:57:46</td>\n    </tr>\n  </tbody>\n</table>\n</div>"
     },
     "execution_count": 14,
     "metadata": {},
     "output_type": "execute_result"
    }
   ],
   "source": [
    "#negative idle_time und damit einhergehende Überschneidungen von verschiedenen Ausleihungen eines Rads werden seperat gespeichert.\n",
    "\n",
    "negative_idle_time = data[data['idle_time'] < pd.Timedelta(0)]\n",
    "\n",
    "negative_idle_time.head(100)"
   ],
   "metadata": {
    "collapsed": false,
    "ExecuteTime": {
     "end_time": "2023-06-02T16:27:59.553640800Z",
     "start_time": "2023-06-02T16:27:59.483537300Z"
    }
   }
  },
  {
   "cell_type": "code",
   "execution_count": 15,
   "outputs": [
    {
     "name": "stdout",
     "output_type": "stream",
     "text": [
      "3081573\n",
      "3081569\n"
     ]
    }
   ],
   "source": [
    "#Die gespeicherten negativen idle_times werden aus dem eigentlichen Datensatz gelöscht\n",
    "\n",
    "data_cleaned = data.drop(negative_idle_time.index)\n",
    "\n",
    "print(len(data))\n",
    "print(len(data_cleaned))"
   ],
   "metadata": {
    "collapsed": false,
    "ExecuteTime": {
     "end_time": "2023-06-02T16:28:22.976479500Z",
     "start_time": "2023-06-02T16:28:22.363760700Z"
    }
   }
  },
  {
   "cell_type": "code",
   "execution_count": 16,
   "outputs": [
    {
     "data": {
      "text/plain": "3081569"
     },
     "execution_count": 16,
     "metadata": {},
     "output_type": "execute_result"
    }
   ],
   "source": [
    "#data wird geupdatet.\n",
    "\n",
    "data = data_cleaned\n",
    "len(data)"
   ],
   "metadata": {
    "collapsed": false,
    "ExecuteTime": {
     "end_time": "2023-06-02T16:28:52.193639600Z",
     "start_time": "2023-06-02T16:28:52.163493500Z"
    }
   }
  },
  {
   "cell_type": "code",
   "execution_count": 17,
   "outputs": [
    {
     "ename": "IntCastingNaNError",
     "evalue": "Cannot convert non-finite values (NA or inf) to integer",
     "output_type": "error",
     "traceback": [
      "\u001B[1;31m---------------------------------------------------------------------------\u001B[0m",
      "\u001B[1;31mIntCastingNaNError\u001B[0m                        Traceback (most recent call last)",
      "Cell \u001B[1;32mIn[17], line 2\u001B[0m\n\u001B[0;32m      1\u001B[0m data[\u001B[38;5;124m'\u001B[39m\u001B[38;5;124midle_time_minutes\u001B[39m\u001B[38;5;124m'\u001B[39m] \u001B[38;5;241m=\u001B[39m data[\u001B[38;5;124m'\u001B[39m\u001B[38;5;124midle_time\u001B[39m\u001B[38;5;124m'\u001B[39m]\u001B[38;5;241m.\u001B[39mdt\u001B[38;5;241m.\u001B[39mtotal_seconds() \u001B[38;5;241m/\u001B[39m \u001B[38;5;241m60\u001B[39m\n\u001B[1;32m----> 2\u001B[0m data[\u001B[38;5;124m'\u001B[39m\u001B[38;5;124midle_time_minutes\u001B[39m\u001B[38;5;124m'\u001B[39m] \u001B[38;5;241m=\u001B[39m \u001B[43mdata\u001B[49m\u001B[43m[\u001B[49m\u001B[38;5;124;43m'\u001B[39;49m\u001B[38;5;124;43midle_time_minutes\u001B[39;49m\u001B[38;5;124;43m'\u001B[39;49m\u001B[43m]\u001B[49m\u001B[38;5;241;43m.\u001B[39;49m\u001B[43mastype\u001B[49m\u001B[43m(\u001B[49m\u001B[38;5;28;43mint\u001B[39;49m\u001B[43m)\u001B[49m\n\u001B[0;32m      4\u001B[0m data\u001B[38;5;241m.\u001B[39mhead(\u001B[38;5;241m100\u001B[39m)\n",
      "File \u001B[1;32m~\\anaconda3\\lib\\site-packages\\pandas\\core\\generic.py:6240\u001B[0m, in \u001B[0;36mNDFrame.astype\u001B[1;34m(self, dtype, copy, errors)\u001B[0m\n\u001B[0;32m   6233\u001B[0m     results \u001B[38;5;241m=\u001B[39m [\n\u001B[0;32m   6234\u001B[0m         \u001B[38;5;28mself\u001B[39m\u001B[38;5;241m.\u001B[39miloc[:, i]\u001B[38;5;241m.\u001B[39mastype(dtype, copy\u001B[38;5;241m=\u001B[39mcopy)\n\u001B[0;32m   6235\u001B[0m         \u001B[38;5;28;01mfor\u001B[39;00m i \u001B[38;5;129;01min\u001B[39;00m \u001B[38;5;28mrange\u001B[39m(\u001B[38;5;28mlen\u001B[39m(\u001B[38;5;28mself\u001B[39m\u001B[38;5;241m.\u001B[39mcolumns))\n\u001B[0;32m   6236\u001B[0m     ]\n\u001B[0;32m   6238\u001B[0m \u001B[38;5;28;01melse\u001B[39;00m:\n\u001B[0;32m   6239\u001B[0m     \u001B[38;5;66;03m# else, only a single dtype is given\u001B[39;00m\n\u001B[1;32m-> 6240\u001B[0m     new_data \u001B[38;5;241m=\u001B[39m \u001B[38;5;28;43mself\u001B[39;49m\u001B[38;5;241;43m.\u001B[39;49m\u001B[43m_mgr\u001B[49m\u001B[38;5;241;43m.\u001B[39;49m\u001B[43mastype\u001B[49m\u001B[43m(\u001B[49m\u001B[43mdtype\u001B[49m\u001B[38;5;241;43m=\u001B[39;49m\u001B[43mdtype\u001B[49m\u001B[43m,\u001B[49m\u001B[43m \u001B[49m\u001B[43mcopy\u001B[49m\u001B[38;5;241;43m=\u001B[39;49m\u001B[43mcopy\u001B[49m\u001B[43m,\u001B[49m\u001B[43m \u001B[49m\u001B[43merrors\u001B[49m\u001B[38;5;241;43m=\u001B[39;49m\u001B[43merrors\u001B[49m\u001B[43m)\u001B[49m\n\u001B[0;32m   6241\u001B[0m     \u001B[38;5;28;01mreturn\u001B[39;00m \u001B[38;5;28mself\u001B[39m\u001B[38;5;241m.\u001B[39m_constructor(new_data)\u001B[38;5;241m.\u001B[39m__finalize__(\u001B[38;5;28mself\u001B[39m, method\u001B[38;5;241m=\u001B[39m\u001B[38;5;124m\"\u001B[39m\u001B[38;5;124mastype\u001B[39m\u001B[38;5;124m\"\u001B[39m)\n\u001B[0;32m   6243\u001B[0m \u001B[38;5;66;03m# GH 33113: handle empty frame or series\u001B[39;00m\n",
      "File \u001B[1;32m~\\anaconda3\\lib\\site-packages\\pandas\\core\\internals\\managers.py:448\u001B[0m, in \u001B[0;36mBaseBlockManager.astype\u001B[1;34m(self, dtype, copy, errors)\u001B[0m\n\u001B[0;32m    447\u001B[0m \u001B[38;5;28;01mdef\u001B[39;00m \u001B[38;5;21mastype\u001B[39m(\u001B[38;5;28mself\u001B[39m: T, dtype, copy: \u001B[38;5;28mbool\u001B[39m \u001B[38;5;241m=\u001B[39m \u001B[38;5;28;01mFalse\u001B[39;00m, errors: \u001B[38;5;28mstr\u001B[39m \u001B[38;5;241m=\u001B[39m \u001B[38;5;124m\"\u001B[39m\u001B[38;5;124mraise\u001B[39m\u001B[38;5;124m\"\u001B[39m) \u001B[38;5;241m-\u001B[39m\u001B[38;5;241m>\u001B[39m T:\n\u001B[1;32m--> 448\u001B[0m     \u001B[38;5;28;01mreturn\u001B[39;00m \u001B[38;5;28;43mself\u001B[39;49m\u001B[38;5;241;43m.\u001B[39;49m\u001B[43mapply\u001B[49m\u001B[43m(\u001B[49m\u001B[38;5;124;43m\"\u001B[39;49m\u001B[38;5;124;43mastype\u001B[39;49m\u001B[38;5;124;43m\"\u001B[39;49m\u001B[43m,\u001B[49m\u001B[43m \u001B[49m\u001B[43mdtype\u001B[49m\u001B[38;5;241;43m=\u001B[39;49m\u001B[43mdtype\u001B[49m\u001B[43m,\u001B[49m\u001B[43m \u001B[49m\u001B[43mcopy\u001B[49m\u001B[38;5;241;43m=\u001B[39;49m\u001B[43mcopy\u001B[49m\u001B[43m,\u001B[49m\u001B[43m \u001B[49m\u001B[43merrors\u001B[49m\u001B[38;5;241;43m=\u001B[39;49m\u001B[43merrors\u001B[49m\u001B[43m)\u001B[49m\n",
      "File \u001B[1;32m~\\anaconda3\\lib\\site-packages\\pandas\\core\\internals\\managers.py:352\u001B[0m, in \u001B[0;36mBaseBlockManager.apply\u001B[1;34m(self, f, align_keys, ignore_failures, **kwargs)\u001B[0m\n\u001B[0;32m    350\u001B[0m         applied \u001B[38;5;241m=\u001B[39m b\u001B[38;5;241m.\u001B[39mapply(f, \u001B[38;5;241m*\u001B[39m\u001B[38;5;241m*\u001B[39mkwargs)\n\u001B[0;32m    351\u001B[0m     \u001B[38;5;28;01melse\u001B[39;00m:\n\u001B[1;32m--> 352\u001B[0m         applied \u001B[38;5;241m=\u001B[39m \u001B[38;5;28mgetattr\u001B[39m(b, f)(\u001B[38;5;241m*\u001B[39m\u001B[38;5;241m*\u001B[39mkwargs)\n\u001B[0;32m    353\u001B[0m \u001B[38;5;28;01mexcept\u001B[39;00m (\u001B[38;5;167;01mTypeError\u001B[39;00m, \u001B[38;5;167;01mNotImplementedError\u001B[39;00m):\n\u001B[0;32m    354\u001B[0m     \u001B[38;5;28;01mif\u001B[39;00m \u001B[38;5;129;01mnot\u001B[39;00m ignore_failures:\n",
      "File \u001B[1;32m~\\anaconda3\\lib\\site-packages\\pandas\\core\\internals\\blocks.py:526\u001B[0m, in \u001B[0;36mBlock.astype\u001B[1;34m(self, dtype, copy, errors)\u001B[0m\n\u001B[0;32m    508\u001B[0m \u001B[38;5;124;03m\"\"\"\u001B[39;00m\n\u001B[0;32m    509\u001B[0m \u001B[38;5;124;03mCoerce to the new dtype.\u001B[39;00m\n\u001B[0;32m    510\u001B[0m \n\u001B[1;32m   (...)\u001B[0m\n\u001B[0;32m    522\u001B[0m \u001B[38;5;124;03mBlock\u001B[39;00m\n\u001B[0;32m    523\u001B[0m \u001B[38;5;124;03m\"\"\"\u001B[39;00m\n\u001B[0;32m    524\u001B[0m values \u001B[38;5;241m=\u001B[39m \u001B[38;5;28mself\u001B[39m\u001B[38;5;241m.\u001B[39mvalues\n\u001B[1;32m--> 526\u001B[0m new_values \u001B[38;5;241m=\u001B[39m \u001B[43mastype_array_safe\u001B[49m\u001B[43m(\u001B[49m\u001B[43mvalues\u001B[49m\u001B[43m,\u001B[49m\u001B[43m \u001B[49m\u001B[43mdtype\u001B[49m\u001B[43m,\u001B[49m\u001B[43m \u001B[49m\u001B[43mcopy\u001B[49m\u001B[38;5;241;43m=\u001B[39;49m\u001B[43mcopy\u001B[49m\u001B[43m,\u001B[49m\u001B[43m \u001B[49m\u001B[43merrors\u001B[49m\u001B[38;5;241;43m=\u001B[39;49m\u001B[43merrors\u001B[49m\u001B[43m)\u001B[49m\n\u001B[0;32m    528\u001B[0m new_values \u001B[38;5;241m=\u001B[39m maybe_coerce_values(new_values)\n\u001B[0;32m    529\u001B[0m newb \u001B[38;5;241m=\u001B[39m \u001B[38;5;28mself\u001B[39m\u001B[38;5;241m.\u001B[39mmake_block(new_values)\n",
      "File \u001B[1;32m~\\anaconda3\\lib\\site-packages\\pandas\\core\\dtypes\\astype.py:299\u001B[0m, in \u001B[0;36mastype_array_safe\u001B[1;34m(values, dtype, copy, errors)\u001B[0m\n\u001B[0;32m    296\u001B[0m     \u001B[38;5;28;01mreturn\u001B[39;00m values\u001B[38;5;241m.\u001B[39mcopy()\n\u001B[0;32m    298\u001B[0m \u001B[38;5;28;01mtry\u001B[39;00m:\n\u001B[1;32m--> 299\u001B[0m     new_values \u001B[38;5;241m=\u001B[39m \u001B[43mastype_array\u001B[49m\u001B[43m(\u001B[49m\u001B[43mvalues\u001B[49m\u001B[43m,\u001B[49m\u001B[43m \u001B[49m\u001B[43mdtype\u001B[49m\u001B[43m,\u001B[49m\u001B[43m \u001B[49m\u001B[43mcopy\u001B[49m\u001B[38;5;241;43m=\u001B[39;49m\u001B[43mcopy\u001B[49m\u001B[43m)\u001B[49m\n\u001B[0;32m    300\u001B[0m \u001B[38;5;28;01mexcept\u001B[39;00m (\u001B[38;5;167;01mValueError\u001B[39;00m, \u001B[38;5;167;01mTypeError\u001B[39;00m):\n\u001B[0;32m    301\u001B[0m     \u001B[38;5;66;03m# e.g. astype_nansafe can fail on object-dtype of strings\u001B[39;00m\n\u001B[0;32m    302\u001B[0m     \u001B[38;5;66;03m#  trying to convert to float\u001B[39;00m\n\u001B[0;32m    303\u001B[0m     \u001B[38;5;28;01mif\u001B[39;00m errors \u001B[38;5;241m==\u001B[39m \u001B[38;5;124m\"\u001B[39m\u001B[38;5;124mignore\u001B[39m\u001B[38;5;124m\"\u001B[39m:\n",
      "File \u001B[1;32m~\\anaconda3\\lib\\site-packages\\pandas\\core\\dtypes\\astype.py:230\u001B[0m, in \u001B[0;36mastype_array\u001B[1;34m(values, dtype, copy)\u001B[0m\n\u001B[0;32m    227\u001B[0m     values \u001B[38;5;241m=\u001B[39m values\u001B[38;5;241m.\u001B[39mastype(dtype, copy\u001B[38;5;241m=\u001B[39mcopy)\n\u001B[0;32m    229\u001B[0m \u001B[38;5;28;01melse\u001B[39;00m:\n\u001B[1;32m--> 230\u001B[0m     values \u001B[38;5;241m=\u001B[39m \u001B[43mastype_nansafe\u001B[49m\u001B[43m(\u001B[49m\u001B[43mvalues\u001B[49m\u001B[43m,\u001B[49m\u001B[43m \u001B[49m\u001B[43mdtype\u001B[49m\u001B[43m,\u001B[49m\u001B[43m \u001B[49m\u001B[43mcopy\u001B[49m\u001B[38;5;241;43m=\u001B[39;49m\u001B[43mcopy\u001B[49m\u001B[43m)\u001B[49m\n\u001B[0;32m    232\u001B[0m \u001B[38;5;66;03m# in pandas we don't store numpy str dtypes, so convert to object\u001B[39;00m\n\u001B[0;32m    233\u001B[0m \u001B[38;5;28;01mif\u001B[39;00m \u001B[38;5;28misinstance\u001B[39m(dtype, np\u001B[38;5;241m.\u001B[39mdtype) \u001B[38;5;129;01mand\u001B[39;00m \u001B[38;5;28missubclass\u001B[39m(values\u001B[38;5;241m.\u001B[39mdtype\u001B[38;5;241m.\u001B[39mtype, \u001B[38;5;28mstr\u001B[39m):\n",
      "File \u001B[1;32m~\\anaconda3\\lib\\site-packages\\pandas\\core\\dtypes\\astype.py:140\u001B[0m, in \u001B[0;36mastype_nansafe\u001B[1;34m(arr, dtype, copy, skipna)\u001B[0m\n\u001B[0;32m    137\u001B[0m     \u001B[38;5;28;01mraise\u001B[39;00m \u001B[38;5;167;01mTypeError\u001B[39;00m(\u001B[38;5;124mf\u001B[39m\u001B[38;5;124m\"\u001B[39m\u001B[38;5;124mcannot astype a timedelta from [\u001B[39m\u001B[38;5;132;01m{\u001B[39;00marr\u001B[38;5;241m.\u001B[39mdtype\u001B[38;5;132;01m}\u001B[39;00m\u001B[38;5;124m] to [\u001B[39m\u001B[38;5;132;01m{\u001B[39;00mdtype\u001B[38;5;132;01m}\u001B[39;00m\u001B[38;5;124m]\u001B[39m\u001B[38;5;124m\"\u001B[39m)\n\u001B[0;32m    139\u001B[0m \u001B[38;5;28;01melif\u001B[39;00m np\u001B[38;5;241m.\u001B[39missubdtype(arr\u001B[38;5;241m.\u001B[39mdtype, np\u001B[38;5;241m.\u001B[39mfloating) \u001B[38;5;129;01mand\u001B[39;00m is_integer_dtype(dtype):\n\u001B[1;32m--> 140\u001B[0m     \u001B[38;5;28;01mreturn\u001B[39;00m \u001B[43m_astype_float_to_int_nansafe\u001B[49m\u001B[43m(\u001B[49m\u001B[43marr\u001B[49m\u001B[43m,\u001B[49m\u001B[43m \u001B[49m\u001B[43mdtype\u001B[49m\u001B[43m,\u001B[49m\u001B[43m \u001B[49m\u001B[43mcopy\u001B[49m\u001B[43m)\u001B[49m\n\u001B[0;32m    142\u001B[0m \u001B[38;5;28;01melif\u001B[39;00m is_object_dtype(arr\u001B[38;5;241m.\u001B[39mdtype):\n\u001B[0;32m    143\u001B[0m \n\u001B[0;32m    144\u001B[0m     \u001B[38;5;66;03m# if we have a datetime/timedelta array of objects\u001B[39;00m\n\u001B[0;32m    145\u001B[0m     \u001B[38;5;66;03m# then coerce to a proper dtype and recall astype_nansafe\u001B[39;00m\n\u001B[0;32m    147\u001B[0m     \u001B[38;5;28;01mif\u001B[39;00m is_datetime64_dtype(dtype):\n",
      "File \u001B[1;32m~\\anaconda3\\lib\\site-packages\\pandas\\core\\dtypes\\astype.py:182\u001B[0m, in \u001B[0;36m_astype_float_to_int_nansafe\u001B[1;34m(values, dtype, copy)\u001B[0m\n\u001B[0;32m    178\u001B[0m \u001B[38;5;124;03m\"\"\"\u001B[39;00m\n\u001B[0;32m    179\u001B[0m \u001B[38;5;124;03mastype with a check preventing converting NaN to an meaningless integer value.\u001B[39;00m\n\u001B[0;32m    180\u001B[0m \u001B[38;5;124;03m\"\"\"\u001B[39;00m\n\u001B[0;32m    181\u001B[0m \u001B[38;5;28;01mif\u001B[39;00m \u001B[38;5;129;01mnot\u001B[39;00m np\u001B[38;5;241m.\u001B[39misfinite(values)\u001B[38;5;241m.\u001B[39mall():\n\u001B[1;32m--> 182\u001B[0m     \u001B[38;5;28;01mraise\u001B[39;00m IntCastingNaNError(\n\u001B[0;32m    183\u001B[0m         \u001B[38;5;124m\"\u001B[39m\u001B[38;5;124mCannot convert non-finite values (NA or inf) to integer\u001B[39m\u001B[38;5;124m\"\u001B[39m\n\u001B[0;32m    184\u001B[0m     )\n\u001B[0;32m    185\u001B[0m \u001B[38;5;28;01mif\u001B[39;00m dtype\u001B[38;5;241m.\u001B[39mkind \u001B[38;5;241m==\u001B[39m \u001B[38;5;124m\"\u001B[39m\u001B[38;5;124mu\u001B[39m\u001B[38;5;124m\"\u001B[39m:\n\u001B[0;32m    186\u001B[0m     \u001B[38;5;66;03m# GH#45151\u001B[39;00m\n\u001B[0;32m    187\u001B[0m     \u001B[38;5;28;01mif\u001B[39;00m \u001B[38;5;129;01mnot\u001B[39;00m (values \u001B[38;5;241m>\u001B[39m\u001B[38;5;241m=\u001B[39m \u001B[38;5;241m0\u001B[39m)\u001B[38;5;241m.\u001B[39mall():\n",
      "\u001B[1;31mIntCastingNaNError\u001B[0m: Cannot convert non-finite values (NA or inf) to integer"
     ]
    }
   ],
   "source": [
    "#Umrechnung der idle_time in Minuten um diese besser plotten zu können.\n",
    "#Hier habe ich nicht weiter gemacht da Agela und ich uns geeinigt hatten, dass sie sich um das plotten kümmert.\n",
    "\n",
    "data['idle_time_minutes'] = data['idle_time'].dt.total_seconds() / 60\n",
    "data['idle_time_minutes'] = data['idle_time_minutes'].astype(int)\n",
    "\n",
    "data.head(100)"
   ],
   "metadata": {
    "collapsed": false,
    "ExecuteTime": {
     "end_time": "2023-06-02T16:29:02.888720200Z",
     "start_time": "2023-06-02T16:28:59.063649300Z"
    }
   }
  },
  {
   "cell_type": "code",
   "execution_count": 1,
   "outputs": [
    {
     "ename": "NameError",
     "evalue": "name 'plt' is not defined",
     "output_type": "error",
     "traceback": [
      "\u001B[1;31m---------------------------------------------------------------------------\u001B[0m",
      "\u001B[1;31mNameError\u001B[0m                                 Traceback (most recent call last)",
      "Cell \u001B[1;32mIn[1], line 1\u001B[0m\n\u001B[1;32m----> 1\u001B[0m \u001B[43mplt\u001B[49m\u001B[38;5;241m.\u001B[39mhist(data_cleaned[\u001B[38;5;124m'\u001B[39m\u001B[38;5;124midle_time_minutes\u001B[39m\u001B[38;5;124m'\u001B[39m], bins\u001B[38;5;241m=\u001B[39m\u001B[38;5;241m1000\u001B[39m, edgecolor\u001B[38;5;241m=\u001B[39m\u001B[38;5;124m'\u001B[39m\u001B[38;5;124mblack\u001B[39m\u001B[38;5;124m'\u001B[39m)\n\u001B[0;32m      3\u001B[0m plt\u001B[38;5;241m.\u001B[39mxlabel(\u001B[38;5;124m'\u001B[39m\u001B[38;5;124mIdle Time (Minutes)\u001B[39m\u001B[38;5;124m'\u001B[39m)\n\u001B[0;32m      4\u001B[0m plt\u001B[38;5;241m.\u001B[39mylabel(\u001B[38;5;124m'\u001B[39m\u001B[38;5;124mFrequency\u001B[39m\u001B[38;5;124m'\u001B[39m)\n",
      "\u001B[1;31mNameError\u001B[0m: name 'plt' is not defined"
     ]
    }
   ],
   "source": [
    "#erster Plotversuch\n",
    "#Hier habe ich nicht weiter gemacht da Agela und ich uns geeinigt hatten, dass sie sich um das plotten kümmert.\n",
    "\n",
    "plt.hist(data_cleaned['idle_time_minutes'], bins=1000, edgecolor='black')\n",
    "\n",
    "plt.xlabel('Idle Time (Minutes)')\n",
    "plt.ylabel('Frequency')\n",
    "plt.title('Idle Time Distribution')\n",
    "\n",
    "plt.ticklabel_format(style='plain')\n",
    "\n",
    "plt.xlim(100)\n",
    "plt.ylim(100)\n",
    "\n",
    "plt.show()"
   ],
   "metadata": {
    "collapsed": false,
    "ExecuteTime": {
     "end_time": "2023-05-23T20:25:31.950771300Z",
     "start_time": "2023-05-23T20:25:30.989028900Z"
    }
   }
  }
 ],
 "metadata": {
  "kernelspec": {
   "display_name": "Python 3",
   "language": "python",
   "name": "python3"
  },
  "language_info": {
   "codemirror_mode": {
    "name": "ipython",
    "version": 2
   },
   "file_extension": ".py",
   "mimetype": "text/x-python",
   "name": "python",
   "nbconvert_exporter": "python",
   "pygments_lexer": "ipython2",
   "version": "2.7.6"
  }
 },
 "nbformat": 4,
 "nbformat_minor": 0
}
